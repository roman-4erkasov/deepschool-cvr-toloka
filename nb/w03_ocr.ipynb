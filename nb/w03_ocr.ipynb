{
 "cells": [
  {
   "cell_type": "code",
   "execution_count": 1,
   "id": "ebf9e450-9510-4127-b39d-80d7862551f8",
   "metadata": {},
   "outputs": [
    {
     "name": "stderr",
     "output_type": "stream",
     "text": [
      "/home/fatuus/deepschool-cvr-toloka/venv/lib/python3.10/site-packages/tqdm/auto.py:21: TqdmWarning: IProgress not found. Please update jupyter and ipywidgets. See https://ipywidgets.readthedocs.io/en/stable/user_install.html\n",
      "  from .autonotebook import tqdm as notebook_tqdm\n"
     ]
    },
    {
     "name": "stdin",
     "output_type": "stream",
     "text": [
      "Enter your OAuth token:  ········\n"
     ]
    }
   ],
   "source": [
    "import os\n",
    "import datetime\n",
    "import logging\n",
    "import sys\n",
    "import time\n",
    "import getpass\n",
    "import pandas \n",
    "import requests\n",
    "\n",
    "from textwrap import dedent\n",
    "\n",
    "import toloka.client as toloka\n",
    "import toloka.client.project.template_builder as tb\n",
    "\n",
    "# False - if problems with tasks in toloka-kit still occure\n",
    "USE_KIT_FOR_TASKS = True \n",
    "\n",
    "PASSWORD = os.environ.get(\n",
    "    \"TOLOKA_PWD\", \n",
    "    getpass.getpass('Enter your OAuth token: ')\n",
    ")\n",
    "\n",
    "# PRODUCTION or SANDBOX, SANDBOX is default\n",
    "ENVIRONMENT = os.environ.get(\"TOLOKA_ENV\", \"SANDBOX\")\n",
    "\n",
    "N_TASKS = os.environ.get(\"N_TASKS\", 2)\n",
    "\n",
    "logging.basicConfig(\n",
    "    format='[%(levelname)s] %(name)s: %(message)s',\n",
    "    level=logging.DEBUG,\n",
    "    stream=sys.stdout,\n",
    ")\n"
   ]
  },
  {
   "cell_type": "code",
   "execution_count": 2,
   "id": "f99b655a-918a-49ea-858d-a2afd9f66710",
   "metadata": {
    "scrolled": true
   },
   "outputs": [
    {
     "name": "stdout",
     "output_type": "stream",
     "text": [
      "[DEBUG] httpx: load_ssl_context verify=True cert=None trust_env=True http2=False\n",
      "[DEBUG] httpx: load_verify_locations cafile='/home/fatuus/deepschool-cvr-toloka/venv/lib/python3.10/site-packages/certifi/cacert.pem'\n",
      "[DEBUG] httpcore.connection: connect_tcp.started host='sandbox.toloka.dev' port=443 local_address=None timeout=10.0 socket_options=None\n",
      "[DEBUG] httpcore.connection: connect_tcp.complete return_value=<httpcore.backends.sync.SyncStream object at 0x7fb9d50a84c0>\n",
      "[DEBUG] httpcore.connection: start_tls.started ssl_context=<ssl.SSLContext object at 0x7fba0c3c9340> server_hostname='sandbox.toloka.dev' timeout=10.0\n",
      "[DEBUG] httpcore.connection: start_tls.complete return_value=<httpcore.backends.sync.SyncStream object at 0x7fb9d50a8490>\n",
      "[DEBUG] httpcore.http11: send_request_headers.started request=<Request [b'GET']>\n",
      "[DEBUG] httpcore.http11: send_request_headers.complete\n",
      "[DEBUG] httpcore.http11: send_request_body.started request=<Request [b'GET']>\n",
      "[DEBUG] httpcore.http11: send_request_body.complete\n",
      "[DEBUG] httpcore.http11: receive_response_headers.started request=<Request [b'GET']>\n",
      "[DEBUG] httpcore.http11: receive_response_headers.complete return_value=(b'HTTP/1.1', 200, b'OK', [(b'Date', b'Wed, 31 May 2023 19:08:38 GMT'), (b'Content-Type', b'application/json;charset=utf-8'), (b'Transfer-Encoding', b'chunked'), (b'Connection', b'keep-alive'), (b'x-tlk-request-id', b'817a2bf17ad2ee12c1bc35c99529077c'), (b'x-api-ver', b'16.release-278.29044.70d6c91'), (b'vary', b'Origin'), (b'vary', b'Access-Control-Request-Method'), (b'vary', b'Access-Control-Request-Headers'), (b'strict-transport-security', b'max-age=31536000'), (b'x-content-type-options', b'nosniff'), (b'x-xss-protection', b'1; mode=block'), (b'cache-control', b'no-cache, no-store, must-revalidate, max-age=0'), (b'x-frame-options', b'DENY'), (b'x-content-type-options', b'nosniff'), (b'vary', b'Accept-Encoding, User-Agent'), (b'content-encoding', b'gzip')])\n",
      "[INFO] httpx: HTTP Request: GET https://sandbox.toloka.dev/api/v1/requester \"HTTP/1.1 200 OK\"\n",
      "[DEBUG] httpcore.http11: receive_response_body.started request=<Request [b'GET']>\n",
      "[DEBUG] httpcore.http11: receive_response_body.complete\n",
      "[DEBUG] httpcore.http11: response_closed.started\n",
      "[DEBUG] httpcore.http11: response_closed.complete\n",
      "Requester(_unexpected={}, id='7719fd50023f25b83bdcc9afa1f5e1bf', balance=Decimal('1000000.0000'), public_name={'EN': 'fatuus'}, company=None)\n"
     ]
    }
   ],
   "source": [
    "toloka_client = toloka.TolokaClient(\n",
    "    PASSWORD, ENVIRONMENT\n",
    ")\n",
    "print(toloka_client.get_requester())"
   ]
  },
  {
   "cell_type": "markdown",
   "id": "add31b48-f821-4ea8-ba48-654198c890a3",
   "metadata": {},
   "source": [
    "### Preparing Web UI"
   ]
  },
  {
   "cell_type": "code",
   "execution_count": 4,
   "id": "d3f782d9-c5f7-463c-bead-f226a02282b6",
   "metadata": {},
   "outputs": [],
   "source": [
    "project = toloka.Project(\n",
    "    public_name='Write down the digits in an image (toloka-kit)',\n",
    "    public_description='Look at the image and write down the digits shown on the water meter.',\n",
    ")"
   ]
  },
  {
   "cell_type": "code",
   "execution_count": 6,
   "id": "dc4ca4f3-2c0c-45da-b200-b3b1b242b939",
   "metadata": {},
   "outputs": [],
   "source": [
    "header_viewer = tb.MarkdownViewV1(\"\"\"1. Look at the image\n",
    "2. Find boxes with the numbers\n",
    "3. Write down the digits in black section. (Put '0' if there are no digits there)\n",
    "4. Put '.'\n",
    "5. Write down the digits in red section\"\"\")\n",
    "\n",
    "image_viewer = tb.ImageViewV1(tb.InputData('image_url'), rotatable=True)\n",
    "\n",
    "output_field = tb.TextFieldV1(\n",
    "    tb.OutputData('value'),\n",
    "    label='Write down the digits. Format: 365.235',\n",
    "    placeholder='Enter value',\n",
    "    hint=\"Make sure your format of number is '365.235' or '0.112'\",\n",
    "    validation=tb.SchemaConditionV1(\n",
    "        schema={\n",
    "            'type': 'string',\n",
    "            'pattern': r'^\\d+\\.?\\d{0,3}$',\n",
    "            'minLength': 1,\n",
    "            'maxLength': 9,\n",
    "        }\n",
    "    )\n",
    ")\n",
    "\n",
    "task_width_plugin = tb.TolokaPluginV1('scroll', task_width=600)\n",
    "\n",
    "project_interface = toloka.project.TemplateBuilderViewSpec(\n",
    "    view=tb.ListViewV1([header_viewer, image_viewer, output_field]),\n",
    "    plugins=[task_width_plugin],\n",
    ")\n"
   ]
  },
  {
   "cell_type": "markdown",
   "id": "d71aa7b1-9530-458a-be0e-1cd76afe6b9f",
   "metadata": {},
   "source": [
    "### Creating Project and Data Specifications"
   ]
  },
  {
   "cell_type": "code",
   "execution_count": 7,
   "id": "f038a0a7-869a-4adf-9ab9-3e82ecfcd097",
   "metadata": {},
   "outputs": [],
   "source": [
    "input_specification = {'image_url': toloka.project.UrlSpec()}\n",
    "output_specification = {'value': toloka.project.StringSpec()}\n",
    "\n",
    "project.task_spec = toloka.project.task_spec.TaskSpec(\n",
    "    input_spec=input_specification,\n",
    "    output_spec=output_specification,\n",
    "    view_spec=project_interface,\n",
    ")"
   ]
  },
  {
   "cell_type": "code",
   "execution_count": 8,
   "id": "1a5c76c3-46b5-4e6b-a99e-3d35a0c2d6a8",
   "metadata": {},
   "outputs": [],
   "source": [
    "project.public_instructions = \"\"\"This task is to solve machine learning problem of digit recognition on the image.<br>\n",
    "The more precise you read the information from the image the more precise would be algorithm<br>\n",
    "Your contribution here is to get exact information even if there are any complicated and uncertain cases.<br>\n",
    "We hope for your skills to solve one of the important science problem.<br><br>\n",
    "<b>Basic steps:</b><br>\n",
    "<ul><li>Look at the image and find meter with the numbers in the boxes</li>\n",
    "<li>Find black numbers/section and red numbers/section</li>\n",
    "<li>Put black and red numbers separated with '.' to text field</li></ul>\"\"\""
   ]
  },
  {
   "cell_type": "code",
   "execution_count": 9,
   "id": "f8022bf4-6949-4b57-b141-b5504500372d",
   "metadata": {},
   "outputs": [
    {
     "name": "stdout",
     "output_type": "stream",
     "text": [
      "[DEBUG] httpcore.connection: close.started\n",
      "[DEBUG] httpcore.connection: close.complete\n",
      "[DEBUG] httpcore.connection: connect_tcp.started host='sandbox.toloka.dev' port=443 local_address=None timeout=10.0 socket_options=None\n",
      "[DEBUG] httpcore.connection: connect_tcp.complete return_value=<httpcore.backends.sync.SyncStream object at 0x7fb9d4dac490>\n",
      "[DEBUG] httpcore.connection: start_tls.started ssl_context=<ssl.SSLContext object at 0x7fba0c3c9340> server_hostname='sandbox.toloka.dev' timeout=10.0\n",
      "[DEBUG] httpcore.connection: start_tls.complete return_value=<httpcore.backends.sync.SyncStream object at 0x7fb9d4c41810>\n",
      "[DEBUG] httpcore.http11: send_request_headers.started request=<Request [b'POST']>\n",
      "[DEBUG] httpcore.http11: send_request_headers.complete\n",
      "[DEBUG] httpcore.http11: send_request_body.started request=<Request [b'POST']>\n",
      "[DEBUG] httpcore.http11: send_request_body.complete\n",
      "[DEBUG] httpcore.http11: receive_response_headers.started request=<Request [b'POST']>\n",
      "[DEBUG] httpcore.http11: receive_response_headers.complete return_value=(b'HTTP/1.1', 201, b'Created', [(b'Date', b'Wed, 31 May 2023 19:11:34 GMT'), (b'Content-Type', b'application/json;charset=utf-8'), (b'Transfer-Encoding', b'chunked'), (b'Connection', b'keep-alive'), (b'x-tlk-request-id', b'b1018a1ded269dec71c49355f05e6f8d'), (b'x-api-ver', b'16.release-278.29044.70d6c91'), (b'vary', b'Origin'), (b'vary', b'Access-Control-Request-Method'), (b'vary', b'Access-Control-Request-Headers'), (b'strict-transport-security', b'max-age=31536000'), (b'x-content-type-options', b'nosniff'), (b'x-xss-protection', b'1; mode=block'), (b'cache-control', b'no-cache, no-store, must-revalidate, max-age=0'), (b'x-frame-options', b'DENY'), (b'x-content-type-options', b'nosniff'), (b'vary', b'Accept-Encoding, User-Agent'), (b'content-encoding', b'gzip')])\n",
      "[INFO] httpx: HTTP Request: POST https://sandbox.toloka.dev/api/v1/projects \"HTTP/1.1 201 Created\"\n",
      "[DEBUG] httpcore.http11: receive_response_body.started request=<Request [b'POST']>\n",
      "[DEBUG] httpcore.http11: receive_response_body.complete\n",
      "[DEBUG] httpcore.http11: response_closed.started\n",
      "[DEBUG] httpcore.http11: response_closed.complete\n",
      "[INFO] toloka.client: A new project with ID \"144406\" has been created. Link to open in web interface: https://sandbox.toloka.yandex.com/requester/project/144406\n"
     ]
    }
   ],
   "source": [
    "project = toloka_client.create_project(project)\n"
   ]
  },
  {
   "cell_type": "code",
   "execution_count": 10,
   "id": "a719b2c9-0d8c-499f-81af-119a153c6c02",
   "metadata": {
    "scrolled": true
   },
   "outputs": [
    {
     "name": "stdout",
     "output_type": "stream",
     "text": [
      "  % Total    % Received % Xferd  Average Speed   Time    Time     Time  Current\n",
      "                                 Dload  Upload   Total   Spent    Left  Speed\n",
      "  0     0    0     0    0     0      0      0 --:--:--  0:00:08 --:--:--     0^C\n"
     ]
    },
    {
     "ename": "FileNotFoundError",
     "evalue": "[Errno 2] No such file or directory: 'data.tsv'",
     "output_type": "error",
     "traceback": [
      "\u001b[0;31m---------------------------------------------------------------------------\u001b[0m",
      "\u001b[0;31mFileNotFoundError\u001b[0m                         Traceback (most recent call last)",
      "Cell \u001b[0;32mIn[10], line 3\u001b[0m\n\u001b[1;32m      1\u001b[0m get_ipython()\u001b[38;5;241m.\u001b[39msystem(\u001b[38;5;124m'\u001b[39m\u001b[38;5;124mcurl https://s3.mds.yandex.net/tlk/dataset/TlkWaterMeters/data.tsv --output data.tsv\u001b[39m\u001b[38;5;124m'\u001b[39m)\n\u001b[0;32m----> 3\u001b[0m raw_dataset \u001b[38;5;241m=\u001b[39m \u001b[43mpandas\u001b[49m\u001b[38;5;241;43m.\u001b[39;49m\u001b[43mread_csv\u001b[49m\u001b[43m(\u001b[49m\u001b[38;5;124;43m'\u001b[39;49m\u001b[38;5;124;43mdata.tsv\u001b[39;49m\u001b[38;5;124;43m'\u001b[39;49m\u001b[43m,\u001b[49m\u001b[43m \u001b[49m\u001b[43msep\u001b[49m\u001b[38;5;241;43m=\u001b[39;49m\u001b[38;5;124;43m'\u001b[39;49m\u001b[38;5;130;43;01m\\t\u001b[39;49;00m\u001b[38;5;124;43m'\u001b[39;49m\u001b[43m,\u001b[49m\u001b[43m \u001b[49m\u001b[43mdtype\u001b[49m\u001b[38;5;241;43m=\u001b[39;49m\u001b[43m{\u001b[49m\u001b[38;5;124;43m'\u001b[39;49m\u001b[38;5;124;43mvalue\u001b[39;49m\u001b[38;5;124;43m'\u001b[39;49m\u001b[43m:\u001b[49m\u001b[43m \u001b[49m\u001b[38;5;124;43m'\u001b[39;49m\u001b[38;5;124;43mstr\u001b[39;49m\u001b[38;5;124;43m'\u001b[39;49m\u001b[43m}\u001b[49m\u001b[43m)\u001b[49m\n\u001b[1;32m      4\u001b[0m raw_dataset \u001b[38;5;241m=\u001b[39m raw_dataset[[\u001b[38;5;124m'\u001b[39m\u001b[38;5;124mimage_url\u001b[39m\u001b[38;5;124m'\u001b[39m, \u001b[38;5;124m'\u001b[39m\u001b[38;5;124mvalue\u001b[39m\u001b[38;5;124m'\u001b[39m]]\n",
      "File \u001b[0;32m~/deepschool-cvr-toloka/venv/lib/python3.10/site-packages/pandas/io/parsers/readers.py:912\u001b[0m, in \u001b[0;36mread_csv\u001b[0;34m(filepath_or_buffer, sep, delimiter, header, names, index_col, usecols, dtype, engine, converters, true_values, false_values, skipinitialspace, skiprows, skipfooter, nrows, na_values, keep_default_na, na_filter, verbose, skip_blank_lines, parse_dates, infer_datetime_format, keep_date_col, date_parser, date_format, dayfirst, cache_dates, iterator, chunksize, compression, thousands, decimal, lineterminator, quotechar, quoting, doublequote, escapechar, comment, encoding, encoding_errors, dialect, on_bad_lines, delim_whitespace, low_memory, memory_map, float_precision, storage_options, dtype_backend)\u001b[0m\n\u001b[1;32m    899\u001b[0m kwds_defaults \u001b[38;5;241m=\u001b[39m _refine_defaults_read(\n\u001b[1;32m    900\u001b[0m     dialect,\n\u001b[1;32m    901\u001b[0m     delimiter,\n\u001b[0;32m   (...)\u001b[0m\n\u001b[1;32m    908\u001b[0m     dtype_backend\u001b[38;5;241m=\u001b[39mdtype_backend,\n\u001b[1;32m    909\u001b[0m )\n\u001b[1;32m    910\u001b[0m kwds\u001b[38;5;241m.\u001b[39mupdate(kwds_defaults)\n\u001b[0;32m--> 912\u001b[0m \u001b[38;5;28;01mreturn\u001b[39;00m \u001b[43m_read\u001b[49m\u001b[43m(\u001b[49m\u001b[43mfilepath_or_buffer\u001b[49m\u001b[43m,\u001b[49m\u001b[43m \u001b[49m\u001b[43mkwds\u001b[49m\u001b[43m)\u001b[49m\n",
      "File \u001b[0;32m~/deepschool-cvr-toloka/venv/lib/python3.10/site-packages/pandas/io/parsers/readers.py:577\u001b[0m, in \u001b[0;36m_read\u001b[0;34m(filepath_or_buffer, kwds)\u001b[0m\n\u001b[1;32m    574\u001b[0m _validate_names(kwds\u001b[38;5;241m.\u001b[39mget(\u001b[38;5;124m\"\u001b[39m\u001b[38;5;124mnames\u001b[39m\u001b[38;5;124m\"\u001b[39m, \u001b[38;5;28;01mNone\u001b[39;00m))\n\u001b[1;32m    576\u001b[0m \u001b[38;5;66;03m# Create the parser.\u001b[39;00m\n\u001b[0;32m--> 577\u001b[0m parser \u001b[38;5;241m=\u001b[39m \u001b[43mTextFileReader\u001b[49m\u001b[43m(\u001b[49m\u001b[43mfilepath_or_buffer\u001b[49m\u001b[43m,\u001b[49m\u001b[43m \u001b[49m\u001b[38;5;241;43m*\u001b[39;49m\u001b[38;5;241;43m*\u001b[39;49m\u001b[43mkwds\u001b[49m\u001b[43m)\u001b[49m\n\u001b[1;32m    579\u001b[0m \u001b[38;5;28;01mif\u001b[39;00m chunksize \u001b[38;5;129;01mor\u001b[39;00m iterator:\n\u001b[1;32m    580\u001b[0m     \u001b[38;5;28;01mreturn\u001b[39;00m parser\n",
      "File \u001b[0;32m~/deepschool-cvr-toloka/venv/lib/python3.10/site-packages/pandas/io/parsers/readers.py:1407\u001b[0m, in \u001b[0;36mTextFileReader.__init__\u001b[0;34m(self, f, engine, **kwds)\u001b[0m\n\u001b[1;32m   1404\u001b[0m     \u001b[38;5;28mself\u001b[39m\u001b[38;5;241m.\u001b[39moptions[\u001b[38;5;124m\"\u001b[39m\u001b[38;5;124mhas_index_names\u001b[39m\u001b[38;5;124m\"\u001b[39m] \u001b[38;5;241m=\u001b[39m kwds[\u001b[38;5;124m\"\u001b[39m\u001b[38;5;124mhas_index_names\u001b[39m\u001b[38;5;124m\"\u001b[39m]\n\u001b[1;32m   1406\u001b[0m \u001b[38;5;28mself\u001b[39m\u001b[38;5;241m.\u001b[39mhandles: IOHandles \u001b[38;5;241m|\u001b[39m \u001b[38;5;28;01mNone\u001b[39;00m \u001b[38;5;241m=\u001b[39m \u001b[38;5;28;01mNone\u001b[39;00m\n\u001b[0;32m-> 1407\u001b[0m \u001b[38;5;28mself\u001b[39m\u001b[38;5;241m.\u001b[39m_engine \u001b[38;5;241m=\u001b[39m \u001b[38;5;28;43mself\u001b[39;49m\u001b[38;5;241;43m.\u001b[39;49m\u001b[43m_make_engine\u001b[49m\u001b[43m(\u001b[49m\u001b[43mf\u001b[49m\u001b[43m,\u001b[49m\u001b[43m \u001b[49m\u001b[38;5;28;43mself\u001b[39;49m\u001b[38;5;241;43m.\u001b[39;49m\u001b[43mengine\u001b[49m\u001b[43m)\u001b[49m\n",
      "File \u001b[0;32m~/deepschool-cvr-toloka/venv/lib/python3.10/site-packages/pandas/io/parsers/readers.py:1661\u001b[0m, in \u001b[0;36mTextFileReader._make_engine\u001b[0;34m(self, f, engine)\u001b[0m\n\u001b[1;32m   1659\u001b[0m     \u001b[38;5;28;01mif\u001b[39;00m \u001b[38;5;124m\"\u001b[39m\u001b[38;5;124mb\u001b[39m\u001b[38;5;124m\"\u001b[39m \u001b[38;5;129;01mnot\u001b[39;00m \u001b[38;5;129;01min\u001b[39;00m mode:\n\u001b[1;32m   1660\u001b[0m         mode \u001b[38;5;241m+\u001b[39m\u001b[38;5;241m=\u001b[39m \u001b[38;5;124m\"\u001b[39m\u001b[38;5;124mb\u001b[39m\u001b[38;5;124m\"\u001b[39m\n\u001b[0;32m-> 1661\u001b[0m \u001b[38;5;28mself\u001b[39m\u001b[38;5;241m.\u001b[39mhandles \u001b[38;5;241m=\u001b[39m \u001b[43mget_handle\u001b[49m\u001b[43m(\u001b[49m\n\u001b[1;32m   1662\u001b[0m \u001b[43m    \u001b[49m\u001b[43mf\u001b[49m\u001b[43m,\u001b[49m\n\u001b[1;32m   1663\u001b[0m \u001b[43m    \u001b[49m\u001b[43mmode\u001b[49m\u001b[43m,\u001b[49m\n\u001b[1;32m   1664\u001b[0m \u001b[43m    \u001b[49m\u001b[43mencoding\u001b[49m\u001b[38;5;241;43m=\u001b[39;49m\u001b[38;5;28;43mself\u001b[39;49m\u001b[38;5;241;43m.\u001b[39;49m\u001b[43moptions\u001b[49m\u001b[38;5;241;43m.\u001b[39;49m\u001b[43mget\u001b[49m\u001b[43m(\u001b[49m\u001b[38;5;124;43m\"\u001b[39;49m\u001b[38;5;124;43mencoding\u001b[39;49m\u001b[38;5;124;43m\"\u001b[39;49m\u001b[43m,\u001b[49m\u001b[43m \u001b[49m\u001b[38;5;28;43;01mNone\u001b[39;49;00m\u001b[43m)\u001b[49m\u001b[43m,\u001b[49m\n\u001b[1;32m   1665\u001b[0m \u001b[43m    \u001b[49m\u001b[43mcompression\u001b[49m\u001b[38;5;241;43m=\u001b[39;49m\u001b[38;5;28;43mself\u001b[39;49m\u001b[38;5;241;43m.\u001b[39;49m\u001b[43moptions\u001b[49m\u001b[38;5;241;43m.\u001b[39;49m\u001b[43mget\u001b[49m\u001b[43m(\u001b[49m\u001b[38;5;124;43m\"\u001b[39;49m\u001b[38;5;124;43mcompression\u001b[39;49m\u001b[38;5;124;43m\"\u001b[39;49m\u001b[43m,\u001b[49m\u001b[43m \u001b[49m\u001b[38;5;28;43;01mNone\u001b[39;49;00m\u001b[43m)\u001b[49m\u001b[43m,\u001b[49m\n\u001b[1;32m   1666\u001b[0m \u001b[43m    \u001b[49m\u001b[43mmemory_map\u001b[49m\u001b[38;5;241;43m=\u001b[39;49m\u001b[38;5;28;43mself\u001b[39;49m\u001b[38;5;241;43m.\u001b[39;49m\u001b[43moptions\u001b[49m\u001b[38;5;241;43m.\u001b[39;49m\u001b[43mget\u001b[49m\u001b[43m(\u001b[49m\u001b[38;5;124;43m\"\u001b[39;49m\u001b[38;5;124;43mmemory_map\u001b[39;49m\u001b[38;5;124;43m\"\u001b[39;49m\u001b[43m,\u001b[49m\u001b[43m \u001b[49m\u001b[38;5;28;43;01mFalse\u001b[39;49;00m\u001b[43m)\u001b[49m\u001b[43m,\u001b[49m\n\u001b[1;32m   1667\u001b[0m \u001b[43m    \u001b[49m\u001b[43mis_text\u001b[49m\u001b[38;5;241;43m=\u001b[39;49m\u001b[43mis_text\u001b[49m\u001b[43m,\u001b[49m\n\u001b[1;32m   1668\u001b[0m \u001b[43m    \u001b[49m\u001b[43merrors\u001b[49m\u001b[38;5;241;43m=\u001b[39;49m\u001b[38;5;28;43mself\u001b[39;49m\u001b[38;5;241;43m.\u001b[39;49m\u001b[43moptions\u001b[49m\u001b[38;5;241;43m.\u001b[39;49m\u001b[43mget\u001b[49m\u001b[43m(\u001b[49m\u001b[38;5;124;43m\"\u001b[39;49m\u001b[38;5;124;43mencoding_errors\u001b[39;49m\u001b[38;5;124;43m\"\u001b[39;49m\u001b[43m,\u001b[49m\u001b[43m \u001b[49m\u001b[38;5;124;43m\"\u001b[39;49m\u001b[38;5;124;43mstrict\u001b[39;49m\u001b[38;5;124;43m\"\u001b[39;49m\u001b[43m)\u001b[49m\u001b[43m,\u001b[49m\n\u001b[1;32m   1669\u001b[0m \u001b[43m    \u001b[49m\u001b[43mstorage_options\u001b[49m\u001b[38;5;241;43m=\u001b[39;49m\u001b[38;5;28;43mself\u001b[39;49m\u001b[38;5;241;43m.\u001b[39;49m\u001b[43moptions\u001b[49m\u001b[38;5;241;43m.\u001b[39;49m\u001b[43mget\u001b[49m\u001b[43m(\u001b[49m\u001b[38;5;124;43m\"\u001b[39;49m\u001b[38;5;124;43mstorage_options\u001b[39;49m\u001b[38;5;124;43m\"\u001b[39;49m\u001b[43m,\u001b[49m\u001b[43m \u001b[49m\u001b[38;5;28;43;01mNone\u001b[39;49;00m\u001b[43m)\u001b[49m\u001b[43m,\u001b[49m\n\u001b[1;32m   1670\u001b[0m \u001b[43m\u001b[49m\u001b[43m)\u001b[49m\n\u001b[1;32m   1671\u001b[0m \u001b[38;5;28;01massert\u001b[39;00m \u001b[38;5;28mself\u001b[39m\u001b[38;5;241m.\u001b[39mhandles \u001b[38;5;129;01mis\u001b[39;00m \u001b[38;5;129;01mnot\u001b[39;00m \u001b[38;5;28;01mNone\u001b[39;00m\n\u001b[1;32m   1672\u001b[0m f \u001b[38;5;241m=\u001b[39m \u001b[38;5;28mself\u001b[39m\u001b[38;5;241m.\u001b[39mhandles\u001b[38;5;241m.\u001b[39mhandle\n",
      "File \u001b[0;32m~/deepschool-cvr-toloka/venv/lib/python3.10/site-packages/pandas/io/common.py:859\u001b[0m, in \u001b[0;36mget_handle\u001b[0;34m(path_or_buf, mode, encoding, compression, memory_map, is_text, errors, storage_options)\u001b[0m\n\u001b[1;32m    854\u001b[0m \u001b[38;5;28;01melif\u001b[39;00m \u001b[38;5;28misinstance\u001b[39m(handle, \u001b[38;5;28mstr\u001b[39m):\n\u001b[1;32m    855\u001b[0m     \u001b[38;5;66;03m# Check whether the filename is to be opened in binary mode.\u001b[39;00m\n\u001b[1;32m    856\u001b[0m     \u001b[38;5;66;03m# Binary mode does not support 'encoding' and 'newline'.\u001b[39;00m\n\u001b[1;32m    857\u001b[0m     \u001b[38;5;28;01mif\u001b[39;00m ioargs\u001b[38;5;241m.\u001b[39mencoding \u001b[38;5;129;01mand\u001b[39;00m \u001b[38;5;124m\"\u001b[39m\u001b[38;5;124mb\u001b[39m\u001b[38;5;124m\"\u001b[39m \u001b[38;5;129;01mnot\u001b[39;00m \u001b[38;5;129;01min\u001b[39;00m ioargs\u001b[38;5;241m.\u001b[39mmode:\n\u001b[1;32m    858\u001b[0m         \u001b[38;5;66;03m# Encoding\u001b[39;00m\n\u001b[0;32m--> 859\u001b[0m         handle \u001b[38;5;241m=\u001b[39m \u001b[38;5;28;43mopen\u001b[39;49m\u001b[43m(\u001b[49m\n\u001b[1;32m    860\u001b[0m \u001b[43m            \u001b[49m\u001b[43mhandle\u001b[49m\u001b[43m,\u001b[49m\n\u001b[1;32m    861\u001b[0m \u001b[43m            \u001b[49m\u001b[43mioargs\u001b[49m\u001b[38;5;241;43m.\u001b[39;49m\u001b[43mmode\u001b[49m\u001b[43m,\u001b[49m\n\u001b[1;32m    862\u001b[0m \u001b[43m            \u001b[49m\u001b[43mencoding\u001b[49m\u001b[38;5;241;43m=\u001b[39;49m\u001b[43mioargs\u001b[49m\u001b[38;5;241;43m.\u001b[39;49m\u001b[43mencoding\u001b[49m\u001b[43m,\u001b[49m\n\u001b[1;32m    863\u001b[0m \u001b[43m            \u001b[49m\u001b[43merrors\u001b[49m\u001b[38;5;241;43m=\u001b[39;49m\u001b[43merrors\u001b[49m\u001b[43m,\u001b[49m\n\u001b[1;32m    864\u001b[0m \u001b[43m            \u001b[49m\u001b[43mnewline\u001b[49m\u001b[38;5;241;43m=\u001b[39;49m\u001b[38;5;124;43m\"\u001b[39;49m\u001b[38;5;124;43m\"\u001b[39;49m\u001b[43m,\u001b[49m\n\u001b[1;32m    865\u001b[0m \u001b[43m        \u001b[49m\u001b[43m)\u001b[49m\n\u001b[1;32m    866\u001b[0m     \u001b[38;5;28;01melse\u001b[39;00m:\n\u001b[1;32m    867\u001b[0m         \u001b[38;5;66;03m# Binary mode\u001b[39;00m\n\u001b[1;32m    868\u001b[0m         handle \u001b[38;5;241m=\u001b[39m \u001b[38;5;28mopen\u001b[39m(handle, ioargs\u001b[38;5;241m.\u001b[39mmode)\n",
      "\u001b[0;31mFileNotFoundError\u001b[0m: [Errno 2] No such file or directory: 'data.tsv'"
     ]
    }
   ],
   "source": [
    "!curl https://s3.mds.yandex.net/tlk/dataset/TlkWaterMeters/data.tsv --output data.tsv\n",
    "\n",
    "raw_dataset = pandas.read_csv('data.tsv', sep='\\t', dtype={'value': 'str'})\n",
    "raw_dataset = raw_dataset[['image_url', 'value']]"
   ]
  },
  {
   "cell_type": "code",
   "execution_count": 13,
   "id": "12b9ebcf-b11a-490e-aeb3-180f5b56dd24",
   "metadata": {},
   "outputs": [],
   "source": [
    "pool = toloka.Pool(\n",
    "    project_id=project.id,\n",
    "    # Give the pool any convenient name. You are the only one who will see it.\n",
    "    private_name='Write down the digits in an image.111',\n",
    "    may_contain_adult_content=False,\n",
    "    # Set the price per task page.\n",
    "    reward_per_assignment=0.02,\n",
    "    will_expire=datetime.datetime.utcnow() + datetime.timedelta(days=365),\n",
    "    # Overlap. This is the number of users who will complete the same task.\n",
    "    defaults=toloka.Pool.Defaults(default_overlap_for_new_task_suites=3),\n",
    "    # Time allowed for completing a task page\n",
    "    assignment_max_duration_seconds=600,\n",
    ")"
   ]
  },
  {
   "cell_type": "code",
   "execution_count": 14,
   "id": "a23d4e88-984b-4372-9c77-c8c2f263b812",
   "metadata": {},
   "outputs": [
    {
     "name": "stdout",
     "output_type": "stream",
     "text": [
      "[DEBUG] httpcore.connection: close.started\n",
      "[DEBUG] httpcore.connection: close.complete\n",
      "[DEBUG] httpcore.connection: connect_tcp.started host='sandbox.toloka.dev' port=443 local_address=None timeout=10.0 socket_options=None\n",
      "[DEBUG] httpcore.connection: connect_tcp.complete return_value=<httpcore.backends.sync.SyncStream object at 0x7fb9d4cbdb70>\n",
      "[DEBUG] httpcore.connection: start_tls.started ssl_context=<ssl.SSLContext object at 0x7fba0c3c9340> server_hostname='sandbox.toloka.dev' timeout=10.0\n",
      "[DEBUG] httpcore.connection: start_tls.complete return_value=<httpcore.backends.sync.SyncStream object at 0x7fb9d48651e0>\n",
      "[DEBUG] httpcore.http11: send_request_headers.started request=<Request [b'POST']>\n",
      "[DEBUG] httpcore.http11: send_request_headers.complete\n",
      "[DEBUG] httpcore.http11: send_request_body.started request=<Request [b'POST']>\n",
      "[DEBUG] httpcore.http11: send_request_body.complete\n",
      "[DEBUG] httpcore.http11: receive_response_headers.started request=<Request [b'POST']>\n",
      "[DEBUG] httpcore.http11: receive_response_headers.complete return_value=(b'HTTP/1.1', 201, b'Created', [(b'Date', b'Wed, 31 May 2023 19:14:24 GMT'), (b'Content-Type', b'application/json;charset=utf-8'), (b'Transfer-Encoding', b'chunked'), (b'Connection', b'keep-alive'), (b'x-tlk-request-id', b'c008687de2894df3cf4844e98e5e5176'), (b'x-api-ver', b'16.release-278.29044.70d6c91'), (b'vary', b'Origin'), (b'vary', b'Access-Control-Request-Method'), (b'vary', b'Access-Control-Request-Headers'), (b'strict-transport-security', b'max-age=31536000'), (b'x-content-type-options', b'nosniff'), (b'x-xss-protection', b'1; mode=block'), (b'cache-control', b'no-cache, no-store, must-revalidate, max-age=0'), (b'x-frame-options', b'DENY'), (b'x-content-type-options', b'nosniff'), (b'vary', b'Accept-Encoding, User-Agent'), (b'content-encoding', b'gzip')])\n",
      "[INFO] httpx: HTTP Request: POST https://sandbox.toloka.dev/api/v1/pools \"HTTP/1.1 201 Created\"\n",
      "[DEBUG] httpcore.http11: receive_response_body.started request=<Request [b'POST']>\n",
      "[DEBUG] httpcore.http11: receive_response_body.complete\n",
      "[DEBUG] httpcore.http11: response_closed.started\n",
      "[DEBUG] httpcore.http11: response_closed.complete\n",
      "[INFO] toloka.client: A new pool with ID \"1510554\" has been created. Link to open in web interface: https://sandbox.toloka.yandex.com/requester/project/144406/pool/1510554\n"
     ]
    }
   ],
   "source": [
    "pool = toloka_client.create_pool(pool)\n"
   ]
  },
  {
   "cell_type": "code",
   "execution_count": 17,
   "id": "0f782409-d9ef-4a5b-8c8c-6feb3ce93e8a",
   "metadata": {
    "scrolled": true
   },
   "outputs": [
    {
     "name": "stdout",
     "output_type": "stream",
     "text": [
      "[DEBUG] httpcore.connection: close.started\n",
      "[DEBUG] httpcore.connection: close.complete\n",
      "[DEBUG] httpcore.connection: connect_tcp.started host='sandbox.toloka.dev' port=443 local_address=None timeout=10.0 socket_options=None\n",
      "[DEBUG] httpcore.connection: connect_tcp.complete return_value=<httpcore.backends.sync.SyncStream object at 0x7fb9d46bfb80>\n",
      "[DEBUG] httpcore.connection: start_tls.started ssl_context=<ssl.SSLContext object at 0x7fba0c3c9340> server_hostname='sandbox.toloka.dev' timeout=10.0\n",
      "[DEBUG] httpcore.connection: start_tls.complete return_value=<httpcore.backends.sync.SyncStream object at 0x7fb9d4deccd0>\n",
      "[DEBUG] httpcore.http11: send_request_headers.started request=<Request [b'POST']>\n",
      "[DEBUG] httpcore.http11: send_request_headers.complete\n",
      "[DEBUG] httpcore.http11: send_request_body.started request=<Request [b'POST']>\n",
      "[DEBUG] httpcore.http11: send_request_body.complete\n",
      "[DEBUG] httpcore.http11: receive_response_headers.started request=<Request [b'POST']>\n",
      "[DEBUG] httpcore.http11: receive_response_headers.complete return_value=(b'HTTP/1.1', 500, b'Server Error', [(b'Date', b'Wed, 31 May 2023 19:16:57 GMT'), (b'Content-Type', b'application/json'), (b'Transfer-Encoding', b'chunked'), (b'Connection', b'keep-alive'), (b'x-tlk-request-id', b'24ed96e649b77ab070525231288c24c4'), (b'x-api-ver', b'16.release-278.29044.70d6c91'), (b'vary', b'Origin'), (b'vary', b'Access-Control-Request-Method'), (b'vary', b'Access-Control-Request-Headers'), (b'strict-transport-security', b'max-age=31536000'), (b'x-content-type-options', b'nosniff'), (b'x-xss-protection', b'1; mode=block'), (b'cache-control', b'no-cache, no-store, must-revalidate, max-age=0'), (b'x-frame-options', b'DENY'), (b'x-content-type-options', b'nosniff')])\n",
      "[INFO] httpx: HTTP Request: POST https://sandbox.toloka.dev/api/v1/tasks?allow_defaults=true&operation_id=c33060f1-63e3-4f5e-96c5-fdac65f790aa&async_mode=true \"HTTP/1.1 500 Server Error\"\n",
      "[DEBUG] httpcore.http11: receive_response_body.started request=<Request [b'POST']>\n",
      "[DEBUG] httpcore.http11: receive_response_body.complete\n",
      "[DEBUG] httpcore.http11: response_closed.started\n",
      "[DEBUG] httpcore.http11: response_closed.complete\n",
      "[DEBUG] urllib3.util.retry: Incremented Retry for (url='https://sandbox.toloka.dev/api/v1/tasks'): TolokaRetry(total=2, connect=None, read=None, redirect=None, status=None)\n",
      "[DEBUG] httpcore.http11: send_request_headers.started request=<Request [b'POST']>\n",
      "[DEBUG] httpcore.http11: send_request_headers.complete\n",
      "[DEBUG] httpcore.http11: send_request_body.started request=<Request [b'POST']>\n",
      "[DEBUG] httpcore.http11: send_request_body.complete\n",
      "[DEBUG] httpcore.http11: receive_response_headers.started request=<Request [b'POST']>\n",
      "[DEBUG] httpcore.http11: receive_response_headers.complete return_value=(b'HTTP/1.1', 202, b'Accepted', [(b'Date', b'Wed, 31 May 2023 19:16:59 GMT'), (b'Content-Type', b'application/json;charset=utf-8'), (b'Transfer-Encoding', b'chunked'), (b'Connection', b'keep-alive'), (b'x-tlk-request-id', b'bb6f4f9e7c798f72e7ce83a96b3d8748'), (b'x-api-ver', b'16.release-278.29044.70d6c91'), (b'vary', b'Origin'), (b'vary', b'Access-Control-Request-Method'), (b'vary', b'Access-Control-Request-Headers'), (b'strict-transport-security', b'max-age=31536000'), (b'x-content-type-options', b'nosniff'), (b'x-xss-protection', b'1; mode=block'), (b'cache-control', b'no-cache, no-store, must-revalidate, max-age=0'), (b'x-frame-options', b'DENY'), (b'x-content-type-options', b'nosniff'), (b'vary', b'Accept-Encoding, User-Agent'), (b'content-encoding', b'gzip')])\n",
      "[INFO] httpx: HTTP Request: POST https://sandbox.toloka.dev/api/v1/tasks?allow_defaults=true&operation_id=c33060f1-63e3-4f5e-96c5-fdac65f790aa&async_mode=true \"HTTP/1.1 202 Accepted\"\n",
      "[DEBUG] httpcore.http11: receive_response_body.started request=<Request [b'POST']>\n",
      "[DEBUG] httpcore.http11: receive_response_body.complete\n",
      "[DEBUG] httpcore.http11: response_closed.started\n",
      "[DEBUG] httpcore.http11: response_closed.complete\n"
     ]
    },
    {
     "name": "stderr",
     "output_type": "stream",
     "text": [
      "  0%|                                                   | 0/100 [00:00<?, ?it/s]"
     ]
    },
    {
     "name": "stdout",
     "output_type": "stream",
     "text": [
      "[DEBUG] httpcore.http11: send_request_headers.started request=<Request [b'GET']>\n"
     ]
    },
    {
     "name": "stderr",
     "output_type": "stream",
     "text": [
      "  0%|                                                   | 0/100 [00:00<?, ?it/s]"
     ]
    },
    {
     "name": "stdout",
     "output_type": "stream",
     "text": [
      "[DEBUG] httpcore.http11: send_request_headers.complete\n"
     ]
    },
    {
     "name": "stderr",
     "output_type": "stream",
     "text": [
      "  0%|                                                   | 0/100 [00:00<?, ?it/s]"
     ]
    },
    {
     "name": "stdout",
     "output_type": "stream",
     "text": [
      "[DEBUG] httpcore.http11: send_request_body.started request=<Request [b'GET']>\n"
     ]
    },
    {
     "name": "stderr",
     "output_type": "stream",
     "text": [
      "  0%|                                                   | 0/100 [00:00<?, ?it/s]"
     ]
    },
    {
     "name": "stdout",
     "output_type": "stream",
     "text": [
      "[DEBUG] httpcore.http11: send_request_body.complete\n"
     ]
    },
    {
     "name": "stderr",
     "output_type": "stream",
     "text": [
      "  0%|                                                   | 0/100 [00:00<?, ?it/s]"
     ]
    },
    {
     "name": "stdout",
     "output_type": "stream",
     "text": [
      "[DEBUG] httpcore.http11: receive_response_headers.started request=<Request [b'GET']>\n"
     ]
    },
    {
     "name": "stderr",
     "output_type": "stream",
     "text": [
      "  0%|                                                   | 0/100 [00:00<?, ?it/s]"
     ]
    },
    {
     "name": "stdout",
     "output_type": "stream",
     "text": [
      "[DEBUG] httpcore.http11: receive_response_headers.complete return_value=(b'HTTP/1.1', 200, b'OK', [(b'Date', b'Wed, 31 May 2023 19:17:00 GMT'), (b'Content-Type', b'application/json;charset=utf-8'), (b'Transfer-Encoding', b'chunked'), (b'Connection', b'keep-alive'), (b'x-tlk-request-id', b'87e82bd81ed1d44b40cbd5ab21e4c190'), (b'x-api-ver', b'16.release-278.29044.70d6c91'), (b'vary', b'Origin'), (b'vary', b'Access-Control-Request-Method'), (b'vary', b'Access-Control-Request-Headers'), (b'strict-transport-security', b'max-age=31536000'), (b'x-content-type-options', b'nosniff'), (b'x-xss-protection', b'1; mode=block'), (b'cache-control', b'no-cache, no-store, must-revalidate, max-age=0'), (b'x-frame-options', b'DENY'), (b'x-content-type-options', b'nosniff'), (b'vary', b'Accept-Encoding, User-Agent'), (b'content-encoding', b'gzip')])\n"
     ]
    },
    {
     "name": "stderr",
     "output_type": "stream",
     "text": [
      "  0%|                                                   | 0/100 [00:00<?, ?it/s]"
     ]
    },
    {
     "name": "stdout",
     "output_type": "stream",
     "text": [
      "[INFO] httpx: HTTP Request: GET https://sandbox.toloka.dev/api/v1/operations/c33060f1-63e3-4f5e-96c5-fdac65f790aa \"HTTP/1.1 200 OK\"\n"
     ]
    },
    {
     "name": "stderr",
     "output_type": "stream",
     "text": [
      "  0%|                                                   | 0/100 [00:00<?, ?it/s]"
     ]
    },
    {
     "name": "stdout",
     "output_type": "stream",
     "text": [
      "[DEBUG] httpcore.http11: receive_response_body.started request=<Request [b'GET']>\n"
     ]
    },
    {
     "name": "stderr",
     "output_type": "stream",
     "text": [
      "  0%|                                                   | 0/100 [00:00<?, ?it/s]"
     ]
    },
    {
     "name": "stdout",
     "output_type": "stream",
     "text": [
      "[DEBUG] httpcore.http11: receive_response_body.complete\n"
     ]
    },
    {
     "name": "stderr",
     "output_type": "stream",
     "text": [
      "  0%|                                                   | 0/100 [00:00<?, ?it/s]"
     ]
    },
    {
     "name": "stdout",
     "output_type": "stream",
     "text": [
      "[DEBUG] httpcore.http11: response_closed.started\n"
     ]
    },
    {
     "name": "stderr",
     "output_type": "stream",
     "text": [
      "  0%|                                                   | 0/100 [00:00<?, ?it/s]"
     ]
    },
    {
     "name": "stdout",
     "output_type": "stream",
     "text": [
      "[DEBUG] httpcore.http11: response_closed.complete\n"
     ]
    },
    {
     "name": "stderr",
     "output_type": "stream",
     "text": [
      "  0%|                                                   | 0/100 [00:01<?, ?it/s]"
     ]
    },
    {
     "name": "stdout",
     "output_type": "stream",
     "text": [
      "[DEBUG] httpcore.http11: send_request_headers.started request=<Request [b'GET']>\n"
     ]
    },
    {
     "name": "stderr",
     "output_type": "stream",
     "text": [
      "  0%|                                                   | 0/100 [00:01<?, ?it/s]"
     ]
    },
    {
     "name": "stdout",
     "output_type": "stream",
     "text": [
      "[DEBUG] httpcore.http11: send_request_headers.complete\n"
     ]
    },
    {
     "name": "stderr",
     "output_type": "stream",
     "text": [
      "  0%|                                                   | 0/100 [00:01<?, ?it/s]"
     ]
    },
    {
     "name": "stdout",
     "output_type": "stream",
     "text": [
      "[DEBUG] httpcore.http11: send_request_body.started request=<Request [b'GET']>\n"
     ]
    },
    {
     "name": "stderr",
     "output_type": "stream",
     "text": [
      "  0%|                                                   | 0/100 [00:01<?, ?it/s]"
     ]
    },
    {
     "name": "stdout",
     "output_type": "stream",
     "text": [
      "[DEBUG] httpcore.http11: send_request_body.complete\n"
     ]
    },
    {
     "name": "stderr",
     "output_type": "stream",
     "text": [
      "  0%|                                                   | 0/100 [00:01<?, ?it/s]"
     ]
    },
    {
     "name": "stdout",
     "output_type": "stream",
     "text": [
      "[DEBUG] httpcore.http11: receive_response_headers.started request=<Request [b'GET']>\n"
     ]
    },
    {
     "name": "stderr",
     "output_type": "stream",
     "text": [
      "  0%|                                                   | 0/100 [00:01<?, ?it/s]"
     ]
    },
    {
     "name": "stdout",
     "output_type": "stream",
     "text": [
      "[DEBUG] httpcore.http11: receive_response_headers.complete return_value=(b'HTTP/1.1', 200, b'OK', [(b'Date', b'Wed, 31 May 2023 19:17:01 GMT'), (b'Content-Type', b'application/json;charset=utf-8'), (b'Transfer-Encoding', b'chunked'), (b'Connection', b'keep-alive'), (b'x-tlk-request-id', b'2b6b34cbe80567124fa7bce7fe6de23e'), (b'x-api-ver', b'16.release-278.29044.70d6c91'), (b'vary', b'Origin'), (b'vary', b'Access-Control-Request-Method'), (b'vary', b'Access-Control-Request-Headers'), (b'strict-transport-security', b'max-age=31536000'), (b'x-content-type-options', b'nosniff'), (b'x-xss-protection', b'1; mode=block'), (b'cache-control', b'no-cache, no-store, must-revalidate, max-age=0'), (b'x-frame-options', b'DENY'), (b'x-content-type-options', b'nosniff'), (b'vary', b'Accept-Encoding, User-Agent'), (b'content-encoding', b'gzip')])\n"
     ]
    },
    {
     "name": "stderr",
     "output_type": "stream",
     "text": [
      "  0%|                                                   | 0/100 [00:01<?, ?it/s]"
     ]
    },
    {
     "name": "stdout",
     "output_type": "stream",
     "text": [
      "[INFO] httpx: HTTP Request: GET https://sandbox.toloka.dev/api/v1/operations/c33060f1-63e3-4f5e-96c5-fdac65f790aa \"HTTP/1.1 200 OK\"\n"
     ]
    },
    {
     "name": "stderr",
     "output_type": "stream",
     "text": [
      "  0%|                                                   | 0/100 [00:01<?, ?it/s]"
     ]
    },
    {
     "name": "stdout",
     "output_type": "stream",
     "text": [
      "[DEBUG] httpcore.http11: receive_response_body.started request=<Request [b'GET']>\n"
     ]
    },
    {
     "name": "stderr",
     "output_type": "stream",
     "text": [
      "  0%|                                                   | 0/100 [00:01<?, ?it/s]"
     ]
    },
    {
     "name": "stdout",
     "output_type": "stream",
     "text": [
      "[DEBUG] httpcore.http11: receive_response_body.complete\n"
     ]
    },
    {
     "name": "stderr",
     "output_type": "stream",
     "text": [
      "  0%|                                                   | 0/100 [00:01<?, ?it/s]"
     ]
    },
    {
     "name": "stdout",
     "output_type": "stream",
     "text": [
      "[DEBUG] httpcore.http11: response_closed.started\n"
     ]
    },
    {
     "name": "stderr",
     "output_type": "stream",
     "text": [
      "  0%|                                                   | 0/100 [00:01<?, ?it/s]"
     ]
    },
    {
     "name": "stdout",
     "output_type": "stream",
     "text": [
      "[DEBUG] httpcore.http11: response_closed.complete\n"
     ]
    },
    {
     "name": "stderr",
     "output_type": "stream",
     "text": [
      "  2%|▊                                          | 2/100 [00:02<00:56,  1.73it/s]"
     ]
    },
    {
     "name": "stdout",
     "output_type": "stream",
     "text": [
      "[DEBUG] httpcore.http11: send_request_headers.started request=<Request [b'GET']>\n"
     ]
    },
    {
     "name": "stderr",
     "output_type": "stream",
     "text": [
      "  2%|▊                                          | 2/100 [00:02<00:56,  1.73it/s]"
     ]
    },
    {
     "name": "stdout",
     "output_type": "stream",
     "text": [
      "[DEBUG] httpcore.http11: send_request_headers.complete\n"
     ]
    },
    {
     "name": "stderr",
     "output_type": "stream",
     "text": [
      "  2%|▊                                          | 2/100 [00:02<00:56,  1.73it/s]"
     ]
    },
    {
     "name": "stdout",
     "output_type": "stream",
     "text": [
      "[DEBUG] httpcore.http11: send_request_body.started request=<Request [b'GET']>\n"
     ]
    },
    {
     "name": "stderr",
     "output_type": "stream",
     "text": [
      "  2%|▊                                          | 2/100 [00:02<00:56,  1.73it/s]"
     ]
    },
    {
     "name": "stdout",
     "output_type": "stream",
     "text": [
      "[DEBUG] httpcore.http11: send_request_body.complete\n"
     ]
    },
    {
     "name": "stderr",
     "output_type": "stream",
     "text": [
      "  2%|▊                                          | 2/100 [00:02<00:56,  1.73it/s]"
     ]
    },
    {
     "name": "stdout",
     "output_type": "stream",
     "text": [
      "[DEBUG] httpcore.http11: receive_response_headers.started request=<Request [b'GET']>\n"
     ]
    },
    {
     "name": "stderr",
     "output_type": "stream",
     "text": [
      "  2%|▊                                          | 2/100 [00:02<00:56,  1.73it/s]"
     ]
    },
    {
     "name": "stdout",
     "output_type": "stream",
     "text": [
      "[DEBUG] httpcore.http11: receive_response_headers.complete return_value=(b'HTTP/1.1', 200, b'OK', [(b'Date', b'Wed, 31 May 2023 19:17:02 GMT'), (b'Content-Type', b'application/json;charset=utf-8'), (b'Transfer-Encoding', b'chunked'), (b'Connection', b'keep-alive'), (b'x-tlk-request-id', b'b0b3283afaa1de8d44fe8ae71b506481'), (b'x-api-ver', b'16.release-278.29044.70d6c91'), (b'vary', b'Origin'), (b'vary', b'Access-Control-Request-Method'), (b'vary', b'Access-Control-Request-Headers'), (b'strict-transport-security', b'max-age=31536000'), (b'x-content-type-options', b'nosniff'), (b'x-xss-protection', b'1; mode=block'), (b'cache-control', b'no-cache, no-store, must-revalidate, max-age=0'), (b'x-frame-options', b'DENY'), (b'x-content-type-options', b'nosniff'), (b'vary', b'Accept-Encoding, User-Agent'), (b'content-encoding', b'gzip')])\n"
     ]
    },
    {
     "name": "stderr",
     "output_type": "stream",
     "text": [
      "  2%|▊                                          | 2/100 [00:02<00:56,  1.73it/s]"
     ]
    },
    {
     "name": "stdout",
     "output_type": "stream",
     "text": [
      "[INFO] httpx: HTTP Request: GET https://sandbox.toloka.dev/api/v1/operations/c33060f1-63e3-4f5e-96c5-fdac65f790aa \"HTTP/1.1 200 OK\"\n"
     ]
    },
    {
     "name": "stderr",
     "output_type": "stream",
     "text": [
      "  2%|▊                                          | 2/100 [00:02<00:56,  1.73it/s]"
     ]
    },
    {
     "name": "stdout",
     "output_type": "stream",
     "text": [
      "[DEBUG] httpcore.http11: receive_response_body.started request=<Request [b'GET']>\n"
     ]
    },
    {
     "name": "stderr",
     "output_type": "stream",
     "text": [
      "  2%|▊                                          | 2/100 [00:03<00:56,  1.73it/s]"
     ]
    },
    {
     "name": "stdout",
     "output_type": "stream",
     "text": [
      "[DEBUG] httpcore.http11: receive_response_body.complete\n"
     ]
    },
    {
     "name": "stderr",
     "output_type": "stream",
     "text": [
      "  2%|▊                                          | 2/100 [00:03<00:56,  1.73it/s]"
     ]
    },
    {
     "name": "stdout",
     "output_type": "stream",
     "text": [
      "[DEBUG] httpcore.http11: response_closed.started\n"
     ]
    },
    {
     "name": "stderr",
     "output_type": "stream",
     "text": [
      "  2%|▊                                          | 2/100 [00:03<00:56,  1.73it/s]"
     ]
    },
    {
     "name": "stdout",
     "output_type": "stream",
     "text": [
      "[DEBUG] httpcore.http11: response_closed.complete\n"
     ]
    },
    {
     "name": "stderr",
     "output_type": "stream",
     "text": [
      " 50%|█████████████████████                     | 50/100 [00:04<00:02, 24.94it/s]"
     ]
    },
    {
     "name": "stdout",
     "output_type": "stream",
     "text": [
      "[DEBUG] httpcore.http11: send_request_headers.started request=<Request [b'GET']>\n"
     ]
    },
    {
     "name": "stderr",
     "output_type": "stream",
     "text": [
      " 50%|█████████████████████                     | 50/100 [00:04<00:02, 24.94it/s]"
     ]
    },
    {
     "name": "stdout",
     "output_type": "stream",
     "text": [
      "[DEBUG] httpcore.http11: send_request_headers.complete\n"
     ]
    },
    {
     "name": "stderr",
     "output_type": "stream",
     "text": [
      " 50%|█████████████████████                     | 50/100 [00:04<00:02, 24.94it/s]"
     ]
    },
    {
     "name": "stdout",
     "output_type": "stream",
     "text": [
      "[DEBUG] httpcore.http11: send_request_body.started request=<Request [b'GET']>\n"
     ]
    },
    {
     "name": "stderr",
     "output_type": "stream",
     "text": [
      " 50%|█████████████████████                     | 50/100 [00:04<00:02, 24.94it/s]"
     ]
    },
    {
     "name": "stdout",
     "output_type": "stream",
     "text": [
      "[DEBUG] httpcore.http11: send_request_body.complete\n"
     ]
    },
    {
     "name": "stderr",
     "output_type": "stream",
     "text": [
      " 50%|█████████████████████                     | 50/100 [00:04<00:02, 24.94it/s]"
     ]
    },
    {
     "name": "stdout",
     "output_type": "stream",
     "text": [
      "[DEBUG] httpcore.http11: receive_response_headers.started request=<Request [b'GET']>\n"
     ]
    },
    {
     "name": "stderr",
     "output_type": "stream",
     "text": [
      " 50%|█████████████████████                     | 50/100 [00:04<00:02, 24.94it/s]"
     ]
    },
    {
     "name": "stdout",
     "output_type": "stream",
     "text": [
      "[DEBUG] httpcore.http11: receive_response_headers.complete return_value=(b'HTTP/1.1', 200, b'OK', [(b'Date', b'Wed, 31 May 2023 19:17:03 GMT'), (b'Content-Type', b'application/json;charset=utf-8'), (b'Transfer-Encoding', b'chunked'), (b'Connection', b'keep-alive'), (b'x-tlk-request-id', b'ed910b61e4e876c3b5d826ba02f9c1c6'), (b'x-api-ver', b'16.release-278.29044.70d6c91'), (b'vary', b'Origin'), (b'vary', b'Access-Control-Request-Method'), (b'vary', b'Access-Control-Request-Headers'), (b'strict-transport-security', b'max-age=31536000'), (b'x-content-type-options', b'nosniff'), (b'x-xss-protection', b'1; mode=block'), (b'cache-control', b'no-cache, no-store, must-revalidate, max-age=0'), (b'x-frame-options', b'DENY'), (b'x-content-type-options', b'nosniff'), (b'vary', b'Accept-Encoding, User-Agent'), (b'content-encoding', b'gzip')])\n"
     ]
    },
    {
     "name": "stderr",
     "output_type": "stream",
     "text": [
      " 50%|█████████████████████                     | 50/100 [00:04<00:02, 24.94it/s]"
     ]
    },
    {
     "name": "stdout",
     "output_type": "stream",
     "text": [
      "[INFO] httpx: HTTP Request: GET https://sandbox.toloka.dev/api/v1/operations/c33060f1-63e3-4f5e-96c5-fdac65f790aa \"HTTP/1.1 200 OK\"\n"
     ]
    },
    {
     "name": "stderr",
     "output_type": "stream",
     "text": [
      " 50%|█████████████████████                     | 50/100 [00:04<00:02, 24.94it/s]"
     ]
    },
    {
     "name": "stdout",
     "output_type": "stream",
     "text": [
      "[DEBUG] httpcore.http11: receive_response_body.started request=<Request [b'GET']>\n"
     ]
    },
    {
     "name": "stderr",
     "output_type": "stream",
     "text": [
      " 50%|█████████████████████                     | 50/100 [00:04<00:02, 24.94it/s]"
     ]
    },
    {
     "name": "stdout",
     "output_type": "stream",
     "text": [
      "[DEBUG] httpcore.http11: receive_response_body.complete\n"
     ]
    },
    {
     "name": "stderr",
     "output_type": "stream",
     "text": [
      " 50%|█████████████████████                     | 50/100 [00:04<00:02, 24.94it/s]"
     ]
    },
    {
     "name": "stdout",
     "output_type": "stream",
     "text": [
      "[DEBUG] httpcore.http11: response_closed.started\n"
     ]
    },
    {
     "name": "stderr",
     "output_type": "stream",
     "text": [
      " 50%|█████████████████████                     | 50/100 [00:04<00:02, 24.94it/s]"
     ]
    },
    {
     "name": "stdout",
     "output_type": "stream",
     "text": [
      "[DEBUG] httpcore.http11: response_closed.complete\n"
     ]
    },
    {
     "name": "stderr",
     "output_type": "stream",
     "text": [
      " 50%|█████████████████████                     | 50/100 [00:05<00:02, 24.94it/s]"
     ]
    },
    {
     "name": "stdout",
     "output_type": "stream",
     "text": [
      "[DEBUG] httpcore.http11: send_request_headers.started request=<Request [b'GET']>\n"
     ]
    },
    {
     "name": "stderr",
     "output_type": "stream",
     "text": [
      " 50%|█████████████████████                     | 50/100 [00:05<00:02, 24.94it/s]"
     ]
    },
    {
     "name": "stdout",
     "output_type": "stream",
     "text": [
      "[DEBUG] httpcore.http11: send_request_headers.complete\n"
     ]
    },
    {
     "name": "stderr",
     "output_type": "stream",
     "text": [
      " 50%|█████████████████████                     | 50/100 [00:05<00:02, 24.94it/s]"
     ]
    },
    {
     "name": "stdout",
     "output_type": "stream",
     "text": [
      "[DEBUG] httpcore.http11: send_request_body.started request=<Request [b'GET']>\n"
     ]
    },
    {
     "name": "stderr",
     "output_type": "stream",
     "text": [
      " 50%|█████████████████████                     | 50/100 [00:05<00:02, 24.94it/s]"
     ]
    },
    {
     "name": "stdout",
     "output_type": "stream",
     "text": [
      "[DEBUG] httpcore.http11: send_request_body.complete\n"
     ]
    },
    {
     "name": "stderr",
     "output_type": "stream",
     "text": [
      " 50%|█████████████████████                     | 50/100 [00:05<00:02, 24.94it/s]"
     ]
    },
    {
     "name": "stdout",
     "output_type": "stream",
     "text": [
      "[DEBUG] httpcore.http11: receive_response_headers.started request=<Request [b'GET']>\n"
     ]
    },
    {
     "name": "stderr",
     "output_type": "stream",
     "text": [
      " 50%|█████████████████████                     | 50/100 [00:05<00:02, 24.94it/s]"
     ]
    },
    {
     "name": "stdout",
     "output_type": "stream",
     "text": [
      "[DEBUG] httpcore.http11: receive_response_headers.complete return_value=(b'HTTP/1.1', 200, b'OK', [(b'Date', b'Wed, 31 May 2023 19:17:04 GMT'), (b'Content-Type', b'application/json;charset=utf-8'), (b'Transfer-Encoding', b'chunked'), (b'Connection', b'keep-alive'), (b'x-tlk-request-id', b'c354d11f56d5d9fcb8cf9a33276b90a2'), (b'x-api-ver', b'16.release-278.29044.70d6c91'), (b'vary', b'Origin'), (b'vary', b'Access-Control-Request-Method'), (b'vary', b'Access-Control-Request-Headers'), (b'strict-transport-security', b'max-age=31536000'), (b'x-content-type-options', b'nosniff'), (b'x-xss-protection', b'1; mode=block'), (b'cache-control', b'no-cache, no-store, must-revalidate, max-age=0'), (b'x-frame-options', b'DENY'), (b'x-content-type-options', b'nosniff'), (b'vary', b'Accept-Encoding, User-Agent'), (b'content-encoding', b'gzip')])\n"
     ]
    },
    {
     "name": "stderr",
     "output_type": "stream",
     "text": [
      " 50%|█████████████████████                     | 50/100 [00:05<00:02, 24.94it/s]"
     ]
    },
    {
     "name": "stdout",
     "output_type": "stream",
     "text": [
      "[INFO] httpx: HTTP Request: GET https://sandbox.toloka.dev/api/v1/operations/c33060f1-63e3-4f5e-96c5-fdac65f790aa \"HTTP/1.1 200 OK\"\n"
     ]
    },
    {
     "name": "stderr",
     "output_type": "stream",
     "text": [
      " 50%|█████████████████████                     | 50/100 [00:05<00:02, 24.94it/s]"
     ]
    },
    {
     "name": "stdout",
     "output_type": "stream",
     "text": [
      "[DEBUG] httpcore.http11: receive_response_body.started request=<Request [b'GET']>\n"
     ]
    },
    {
     "name": "stderr",
     "output_type": "stream",
     "text": [
      " 50%|█████████████████████                     | 50/100 [00:05<00:02, 24.94it/s]"
     ]
    },
    {
     "name": "stdout",
     "output_type": "stream",
     "text": [
      "[DEBUG] httpcore.http11: receive_response_body.complete\n"
     ]
    },
    {
     "name": "stderr",
     "output_type": "stream",
     "text": [
      " 50%|█████████████████████                     | 50/100 [00:05<00:02, 24.94it/s]"
     ]
    },
    {
     "name": "stdout",
     "output_type": "stream",
     "text": [
      "[DEBUG] httpcore.http11: response_closed.started\n"
     ]
    },
    {
     "name": "stderr",
     "output_type": "stream",
     "text": [
      " 50%|█████████████████████                     | 50/100 [00:05<00:02, 24.94it/s]"
     ]
    },
    {
     "name": "stdout",
     "output_type": "stream",
     "text": [
      "[DEBUG] httpcore.http11: response_closed.complete\n"
     ]
    },
    {
     "name": "stderr",
     "output_type": "stream",
     "text": [
      " 50%|█████████████████████                     | 50/100 [00:06<00:02, 24.94it/s]"
     ]
    },
    {
     "name": "stdout",
     "output_type": "stream",
     "text": [
      "[DEBUG] httpcore.http11: send_request_headers.started request=<Request [b'GET']>\n"
     ]
    },
    {
     "name": "stderr",
     "output_type": "stream",
     "text": [
      " 50%|█████████████████████                     | 50/100 [00:06<00:02, 24.94it/s]"
     ]
    },
    {
     "name": "stdout",
     "output_type": "stream",
     "text": [
      "[DEBUG] httpcore.http11: send_request_headers.complete\n"
     ]
    },
    {
     "name": "stderr",
     "output_type": "stream",
     "text": [
      " 50%|█████████████████████                     | 50/100 [00:06<00:02, 24.94it/s]"
     ]
    },
    {
     "name": "stdout",
     "output_type": "stream",
     "text": [
      "[DEBUG] httpcore.http11: send_request_body.started request=<Request [b'GET']>\n"
     ]
    },
    {
     "name": "stderr",
     "output_type": "stream",
     "text": [
      " 50%|█████████████████████                     | 50/100 [00:06<00:02, 24.94it/s]"
     ]
    },
    {
     "name": "stdout",
     "output_type": "stream",
     "text": [
      "[DEBUG] httpcore.http11: send_request_body.complete\n"
     ]
    },
    {
     "name": "stderr",
     "output_type": "stream",
     "text": [
      " 50%|█████████████████████                     | 50/100 [00:06<00:02, 24.94it/s]"
     ]
    },
    {
     "name": "stdout",
     "output_type": "stream",
     "text": [
      "[DEBUG] httpcore.http11: receive_response_headers.started request=<Request [b'GET']>\n"
     ]
    },
    {
     "name": "stderr",
     "output_type": "stream",
     "text": [
      " 50%|█████████████████████                     | 50/100 [00:06<00:02, 24.94it/s]"
     ]
    },
    {
     "name": "stdout",
     "output_type": "stream",
     "text": [
      "[DEBUG] httpcore.http11: receive_response_headers.complete return_value=(b'HTTP/1.1', 200, b'OK', [(b'Date', b'Wed, 31 May 2023 19:17:05 GMT'), (b'Content-Type', b'application/json;charset=utf-8'), (b'Transfer-Encoding', b'chunked'), (b'Connection', b'keep-alive'), (b'x-tlk-request-id', b'95e67a2a6b0a765d6c3b00830ec1e189'), (b'x-api-ver', b'16.release-278.29044.70d6c91'), (b'vary', b'Origin'), (b'vary', b'Access-Control-Request-Method'), (b'vary', b'Access-Control-Request-Headers'), (b'strict-transport-security', b'max-age=31536000'), (b'x-content-type-options', b'nosniff'), (b'x-xss-protection', b'1; mode=block'), (b'cache-control', b'no-cache, no-store, must-revalidate, max-age=0'), (b'x-frame-options', b'DENY'), (b'x-content-type-options', b'nosniff'), (b'vary', b'Accept-Encoding, User-Agent'), (b'content-encoding', b'gzip')])\n"
     ]
    },
    {
     "name": "stderr",
     "output_type": "stream",
     "text": [
      " 50%|█████████████████████                     | 50/100 [00:06<00:02, 24.94it/s]"
     ]
    },
    {
     "name": "stdout",
     "output_type": "stream",
     "text": [
      "[INFO] httpx: HTTP Request: GET https://sandbox.toloka.dev/api/v1/operations/c33060f1-63e3-4f5e-96c5-fdac65f790aa \"HTTP/1.1 200 OK\"\n"
     ]
    },
    {
     "name": "stderr",
     "output_type": "stream",
     "text": [
      " 50%|█████████████████████                     | 50/100 [00:06<00:02, 24.94it/s]"
     ]
    },
    {
     "name": "stdout",
     "output_type": "stream",
     "text": [
      "[DEBUG] httpcore.http11: receive_response_body.started request=<Request [b'GET']>\n"
     ]
    },
    {
     "name": "stderr",
     "output_type": "stream",
     "text": [
      " 50%|█████████████████████                     | 50/100 [00:06<00:02, 24.94it/s]"
     ]
    },
    {
     "name": "stdout",
     "output_type": "stream",
     "text": [
      "[DEBUG] httpcore.http11: receive_response_body.complete\n"
     ]
    },
    {
     "name": "stderr",
     "output_type": "stream",
     "text": [
      " 50%|█████████████████████                     | 50/100 [00:06<00:02, 24.94it/s]"
     ]
    },
    {
     "name": "stdout",
     "output_type": "stream",
     "text": [
      "[DEBUG] httpcore.http11: response_closed.started\n"
     ]
    },
    {
     "name": "stderr",
     "output_type": "stream",
     "text": [
      " 50%|█████████████████████                     | 50/100 [00:06<00:02, 24.94it/s]"
     ]
    },
    {
     "name": "stdout",
     "output_type": "stream",
     "text": [
      "[DEBUG] httpcore.http11: response_closed.complete\n"
     ]
    },
    {
     "name": "stderr",
     "output_type": "stream",
     "text": [
      " 50%|█████████████████████                     | 50/100 [00:07<00:02, 24.94it/s]"
     ]
    },
    {
     "name": "stdout",
     "output_type": "stream",
     "text": [
      "[DEBUG] httpcore.http11: send_request_headers.started request=<Request [b'GET']>\n"
     ]
    },
    {
     "name": "stderr",
     "output_type": "stream",
     "text": [
      " 50%|█████████████████████                     | 50/100 [00:07<00:02, 24.94it/s]"
     ]
    },
    {
     "name": "stdout",
     "output_type": "stream",
     "text": [
      "[DEBUG] httpcore.http11: send_request_headers.complete\n"
     ]
    },
    {
     "name": "stderr",
     "output_type": "stream",
     "text": [
      " 50%|█████████████████████                     | 50/100 [00:07<00:02, 24.94it/s]"
     ]
    },
    {
     "name": "stdout",
     "output_type": "stream",
     "text": [
      "[DEBUG] httpcore.http11: send_request_body.started request=<Request [b'GET']>\n"
     ]
    },
    {
     "name": "stderr",
     "output_type": "stream",
     "text": [
      " 50%|█████████████████████                     | 50/100 [00:07<00:02, 24.94it/s]"
     ]
    },
    {
     "name": "stdout",
     "output_type": "stream",
     "text": [
      "[DEBUG] httpcore.http11: send_request_body.complete\n"
     ]
    },
    {
     "name": "stderr",
     "output_type": "stream",
     "text": [
      " 50%|█████████████████████                     | 50/100 [00:07<00:02, 24.94it/s]"
     ]
    },
    {
     "name": "stdout",
     "output_type": "stream",
     "text": [
      "[DEBUG] httpcore.http11: receive_response_headers.started request=<Request [b'GET']>\n"
     ]
    },
    {
     "name": "stderr",
     "output_type": "stream",
     "text": [
      " 50%|█████████████████████                     | 50/100 [00:07<00:02, 24.94it/s]"
     ]
    },
    {
     "name": "stdout",
     "output_type": "stream",
     "text": [
      "[DEBUG] httpcore.http11: receive_response_headers.complete return_value=(b'HTTP/1.1', 200, b'OK', [(b'Date', b'Wed, 31 May 2023 19:17:07 GMT'), (b'Content-Type', b'application/json;charset=utf-8'), (b'Transfer-Encoding', b'chunked'), (b'Connection', b'keep-alive'), (b'x-tlk-request-id', b'f83e91524cb775cb785afda565db8a06'), (b'x-api-ver', b'16.release-278.29044.70d6c91'), (b'vary', b'Origin'), (b'vary', b'Access-Control-Request-Method'), (b'vary', b'Access-Control-Request-Headers'), (b'strict-transport-security', b'max-age=31536000'), (b'x-content-type-options', b'nosniff'), (b'x-xss-protection', b'1; mode=block'), (b'cache-control', b'no-cache, no-store, must-revalidate, max-age=0'), (b'x-frame-options', b'DENY'), (b'x-content-type-options', b'nosniff'), (b'vary', b'Accept-Encoding, User-Agent'), (b'content-encoding', b'gzip')])\n"
     ]
    },
    {
     "name": "stderr",
     "output_type": "stream",
     "text": [
      " 50%|█████████████████████                     | 50/100 [00:07<00:02, 24.94it/s]"
     ]
    },
    {
     "name": "stdout",
     "output_type": "stream",
     "text": [
      "[INFO] httpx: HTTP Request: GET https://sandbox.toloka.dev/api/v1/operations/c33060f1-63e3-4f5e-96c5-fdac65f790aa \"HTTP/1.1 200 OK\"\n"
     ]
    },
    {
     "name": "stderr",
     "output_type": "stream",
     "text": [
      " 50%|█████████████████████                     | 50/100 [00:07<00:02, 24.94it/s]"
     ]
    },
    {
     "name": "stdout",
     "output_type": "stream",
     "text": [
      "[DEBUG] httpcore.http11: receive_response_body.started request=<Request [b'GET']>\n"
     ]
    },
    {
     "name": "stderr",
     "output_type": "stream",
     "text": [
      " 50%|█████████████████████                     | 50/100 [00:07<00:02, 24.94it/s]"
     ]
    },
    {
     "name": "stdout",
     "output_type": "stream",
     "text": [
      "[DEBUG] httpcore.http11: receive_response_body.complete\n"
     ]
    },
    {
     "name": "stderr",
     "output_type": "stream",
     "text": [
      " 50%|█████████████████████                     | 50/100 [00:07<00:02, 24.94it/s]"
     ]
    },
    {
     "name": "stdout",
     "output_type": "stream",
     "text": [
      "[DEBUG] httpcore.http11: response_closed.started\n"
     ]
    },
    {
     "name": "stderr",
     "output_type": "stream",
     "text": [
      " 50%|█████████████████████                     | 50/100 [00:07<00:02, 24.94it/s]"
     ]
    },
    {
     "name": "stdout",
     "output_type": "stream",
     "text": [
      "[DEBUG] httpcore.http11: response_closed.complete\n"
     ]
    },
    {
     "name": "stderr",
     "output_type": "stream",
     "text": [
      " 50%|█████████████████████                     | 50/100 [00:08<00:02, 24.94it/s]"
     ]
    },
    {
     "name": "stdout",
     "output_type": "stream",
     "text": [
      "[DEBUG] httpcore.http11: send_request_headers.started request=<Request [b'GET']>\n"
     ]
    },
    {
     "name": "stderr",
     "output_type": "stream",
     "text": [
      " 50%|█████████████████████                     | 50/100 [00:08<00:02, 24.94it/s]"
     ]
    },
    {
     "name": "stdout",
     "output_type": "stream",
     "text": [
      "[DEBUG] httpcore.http11: send_request_headers.complete\n"
     ]
    },
    {
     "name": "stderr",
     "output_type": "stream",
     "text": [
      " 50%|█████████████████████                     | 50/100 [00:08<00:02, 24.94it/s]"
     ]
    },
    {
     "name": "stdout",
     "output_type": "stream",
     "text": [
      "[DEBUG] httpcore.http11: send_request_body.started request=<Request [b'GET']>\n"
     ]
    },
    {
     "name": "stderr",
     "output_type": "stream",
     "text": [
      " 50%|█████████████████████                     | 50/100 [00:08<00:02, 24.94it/s]"
     ]
    },
    {
     "name": "stdout",
     "output_type": "stream",
     "text": [
      "[DEBUG] httpcore.http11: send_request_body.complete\n"
     ]
    },
    {
     "name": "stderr",
     "output_type": "stream",
     "text": [
      " 50%|█████████████████████                     | 50/100 [00:08<00:02, 24.94it/s]"
     ]
    },
    {
     "name": "stdout",
     "output_type": "stream",
     "text": [
      "[DEBUG] httpcore.http11: receive_response_headers.started request=<Request [b'GET']>\n"
     ]
    },
    {
     "name": "stderr",
     "output_type": "stream",
     "text": [
      " 50%|█████████████████████                     | 50/100 [00:08<00:02, 24.94it/s]"
     ]
    },
    {
     "name": "stdout",
     "output_type": "stream",
     "text": [
      "[DEBUG] httpcore.http11: receive_response_headers.complete return_value=(b'HTTP/1.1', 200, b'OK', [(b'Date', b'Wed, 31 May 2023 19:17:08 GMT'), (b'Content-Type', b'application/json;charset=utf-8'), (b'Transfer-Encoding', b'chunked'), (b'Connection', b'keep-alive'), (b'x-tlk-request-id', b'c441378772329f44ebb76742f3806b95'), (b'x-api-ver', b'16.release-278.29044.70d6c91'), (b'vary', b'Origin'), (b'vary', b'Access-Control-Request-Method'), (b'vary', b'Access-Control-Request-Headers'), (b'strict-transport-security', b'max-age=31536000'), (b'x-content-type-options', b'nosniff'), (b'x-xss-protection', b'1; mode=block'), (b'cache-control', b'no-cache, no-store, must-revalidate, max-age=0'), (b'x-frame-options', b'DENY'), (b'x-content-type-options', b'nosniff'), (b'vary', b'Accept-Encoding, User-Agent'), (b'content-encoding', b'gzip')])\n"
     ]
    },
    {
     "name": "stderr",
     "output_type": "stream",
     "text": [
      " 50%|█████████████████████                     | 50/100 [00:08<00:02, 24.94it/s]"
     ]
    },
    {
     "name": "stdout",
     "output_type": "stream",
     "text": [
      "[INFO] httpx: HTTP Request: GET https://sandbox.toloka.dev/api/v1/operations/c33060f1-63e3-4f5e-96c5-fdac65f790aa \"HTTP/1.1 200 OK\"\n"
     ]
    },
    {
     "name": "stderr",
     "output_type": "stream",
     "text": [
      " 50%|█████████████████████                     | 50/100 [00:08<00:02, 24.94it/s]"
     ]
    },
    {
     "name": "stdout",
     "output_type": "stream",
     "text": [
      "[DEBUG] httpcore.http11: receive_response_body.started request=<Request [b'GET']>\n"
     ]
    },
    {
     "name": "stderr",
     "output_type": "stream",
     "text": [
      " 50%|█████████████████████                     | 50/100 [00:08<00:02, 24.94it/s]"
     ]
    },
    {
     "name": "stdout",
     "output_type": "stream",
     "text": [
      "[DEBUG] httpcore.http11: receive_response_body.complete\n"
     ]
    },
    {
     "name": "stderr",
     "output_type": "stream",
     "text": [
      " 50%|█████████████████████                     | 50/100 [00:08<00:02, 24.94it/s]"
     ]
    },
    {
     "name": "stdout",
     "output_type": "stream",
     "text": [
      "[DEBUG] httpcore.http11: response_closed.started\n"
     ]
    },
    {
     "name": "stderr",
     "output_type": "stream",
     "text": [
      " 50%|█████████████████████                     | 50/100 [00:08<00:02, 24.94it/s]"
     ]
    },
    {
     "name": "stdout",
     "output_type": "stream",
     "text": [
      "[DEBUG] httpcore.http11: response_closed.complete\n"
     ]
    },
    {
     "name": "stderr",
     "output_type": "stream",
     "text": [
      " 50%|█████████████████████                     | 50/100 [00:09<00:02, 24.94it/s]"
     ]
    },
    {
     "name": "stdout",
     "output_type": "stream",
     "text": [
      "[DEBUG] httpcore.http11: send_request_headers.started request=<Request [b'GET']>\n"
     ]
    },
    {
     "name": "stderr",
     "output_type": "stream",
     "text": [
      " 50%|█████████████████████                     | 50/100 [00:09<00:02, 24.94it/s]"
     ]
    },
    {
     "name": "stdout",
     "output_type": "stream",
     "text": [
      "[DEBUG] httpcore.http11: send_request_headers.complete\n"
     ]
    },
    {
     "name": "stderr",
     "output_type": "stream",
     "text": [
      " 50%|█████████████████████                     | 50/100 [00:09<00:02, 24.94it/s]"
     ]
    },
    {
     "name": "stdout",
     "output_type": "stream",
     "text": [
      "[DEBUG] httpcore.http11: send_request_body.started request=<Request [b'GET']>\n"
     ]
    },
    {
     "name": "stderr",
     "output_type": "stream",
     "text": [
      " 50%|█████████████████████                     | 50/100 [00:09<00:02, 24.94it/s]"
     ]
    },
    {
     "name": "stdout",
     "output_type": "stream",
     "text": [
      "[DEBUG] httpcore.http11: send_request_body.complete\n"
     ]
    },
    {
     "name": "stderr",
     "output_type": "stream",
     "text": [
      " 50%|█████████████████████                     | 50/100 [00:09<00:02, 24.94it/s]"
     ]
    },
    {
     "name": "stdout",
     "output_type": "stream",
     "text": [
      "[DEBUG] httpcore.http11: receive_response_headers.started request=<Request [b'GET']>\n"
     ]
    },
    {
     "name": "stderr",
     "output_type": "stream",
     "text": [
      " 50%|█████████████████████                     | 50/100 [00:09<00:02, 24.94it/s]"
     ]
    },
    {
     "name": "stdout",
     "output_type": "stream",
     "text": [
      "[DEBUG] httpcore.http11: receive_response_headers.complete return_value=(b'HTTP/1.1', 200, b'OK', [(b'Date', b'Wed, 31 May 2023 19:17:09 GMT'), (b'Content-Type', b'application/json;charset=utf-8'), (b'Transfer-Encoding', b'chunked'), (b'Connection', b'keep-alive'), (b'x-tlk-request-id', b'bd399fc5c4087e9a4f5fa4b3f61756a6'), (b'x-api-ver', b'16.release-278.29044.70d6c91'), (b'vary', b'Origin'), (b'vary', b'Access-Control-Request-Method'), (b'vary', b'Access-Control-Request-Headers'), (b'strict-transport-security', b'max-age=31536000'), (b'x-content-type-options', b'nosniff'), (b'x-xss-protection', b'1; mode=block'), (b'cache-control', b'no-cache, no-store, must-revalidate, max-age=0'), (b'x-frame-options', b'DENY'), (b'x-content-type-options', b'nosniff'), (b'vary', b'Accept-Encoding, User-Agent'), (b'content-encoding', b'gzip')])\n"
     ]
    },
    {
     "name": "stderr",
     "output_type": "stream",
     "text": [
      " 50%|█████████████████████                     | 50/100 [00:09<00:02, 24.94it/s]"
     ]
    },
    {
     "name": "stdout",
     "output_type": "stream",
     "text": [
      "[INFO] httpx: HTTP Request: GET https://sandbox.toloka.dev/api/v1/operations/c33060f1-63e3-4f5e-96c5-fdac65f790aa \"HTTP/1.1 200 OK\"\n"
     ]
    },
    {
     "name": "stderr",
     "output_type": "stream",
     "text": [
      " 50%|█████████████████████                     | 50/100 [00:09<00:02, 24.94it/s]"
     ]
    },
    {
     "name": "stdout",
     "output_type": "stream",
     "text": [
      "[DEBUG] httpcore.http11: receive_response_body.started request=<Request [b'GET']>\n"
     ]
    },
    {
     "name": "stderr",
     "output_type": "stream",
     "text": [
      " 50%|█████████████████████                     | 50/100 [00:09<00:02, 24.94it/s]"
     ]
    },
    {
     "name": "stdout",
     "output_type": "stream",
     "text": [
      "[DEBUG] httpcore.http11: receive_response_body.complete\n"
     ]
    },
    {
     "name": "stderr",
     "output_type": "stream",
     "text": [
      " 50%|█████████████████████                     | 50/100 [00:09<00:02, 24.94it/s]"
     ]
    },
    {
     "name": "stdout",
     "output_type": "stream",
     "text": [
      "[DEBUG] httpcore.http11: response_closed.started\n"
     ]
    },
    {
     "name": "stderr",
     "output_type": "stream",
     "text": [
      " 50%|█████████████████████                     | 50/100 [00:09<00:02, 24.94it/s]"
     ]
    },
    {
     "name": "stdout",
     "output_type": "stream",
     "text": [
      "[DEBUG] httpcore.http11: response_closed.complete\n"
     ]
    },
    {
     "name": "stderr",
     "output_type": "stream",
     "text": [
      " 50%|█████████████████████                     | 50/100 [00:10<00:02, 24.94it/s]"
     ]
    },
    {
     "name": "stdout",
     "output_type": "stream",
     "text": [
      "[DEBUG] httpcore.http11: send_request_headers.started request=<Request [b'GET']>\n"
     ]
    },
    {
     "name": "stderr",
     "output_type": "stream",
     "text": [
      " 50%|█████████████████████                     | 50/100 [00:10<00:02, 24.94it/s]"
     ]
    },
    {
     "name": "stdout",
     "output_type": "stream",
     "text": [
      "[DEBUG] httpcore.http11: send_request_headers.complete\n"
     ]
    },
    {
     "name": "stderr",
     "output_type": "stream",
     "text": [
      " 50%|█████████████████████                     | 50/100 [00:10<00:02, 24.94it/s]"
     ]
    },
    {
     "name": "stdout",
     "output_type": "stream",
     "text": [
      "[DEBUG] httpcore.http11: send_request_body.started request=<Request [b'GET']>\n"
     ]
    },
    {
     "name": "stderr",
     "output_type": "stream",
     "text": [
      " 50%|█████████████████████                     | 50/100 [00:10<00:02, 24.94it/s]"
     ]
    },
    {
     "name": "stdout",
     "output_type": "stream",
     "text": [
      "[DEBUG] httpcore.http11: send_request_body.complete\n"
     ]
    },
    {
     "name": "stderr",
     "output_type": "stream",
     "text": [
      " 50%|█████████████████████                     | 50/100 [00:10<00:02, 24.94it/s]"
     ]
    },
    {
     "name": "stdout",
     "output_type": "stream",
     "text": [
      "[DEBUG] httpcore.http11: receive_response_headers.started request=<Request [b'GET']>\n"
     ]
    },
    {
     "name": "stderr",
     "output_type": "stream",
     "text": [
      " 50%|█████████████████████                     | 50/100 [00:11<00:02, 24.94it/s]"
     ]
    },
    {
     "name": "stdout",
     "output_type": "stream",
     "text": [
      "[DEBUG] httpcore.http11: receive_response_headers.complete return_value=(b'HTTP/1.1', 200, b'OK', [(b'Date', b'Wed, 31 May 2023 19:17:10 GMT'), (b'Content-Type', b'application/json;charset=utf-8'), (b'Transfer-Encoding', b'chunked'), (b'Connection', b'keep-alive'), (b'x-tlk-request-id', b'81f100fc1ac966e4593ec1a23d67219d'), (b'x-api-ver', b'16.release-278.29044.70d6c91'), (b'vary', b'Origin'), (b'vary', b'Access-Control-Request-Method'), (b'vary', b'Access-Control-Request-Headers'), (b'strict-transport-security', b'max-age=31536000'), (b'x-content-type-options', b'nosniff'), (b'x-xss-protection', b'1; mode=block'), (b'cache-control', b'no-cache, no-store, must-revalidate, max-age=0'), (b'x-frame-options', b'DENY'), (b'x-content-type-options', b'nosniff'), (b'vary', b'Accept-Encoding, User-Agent'), (b'content-encoding', b'gzip')])\n"
     ]
    },
    {
     "name": "stderr",
     "output_type": "stream",
     "text": [
      " 50%|█████████████████████                     | 50/100 [00:11<00:02, 24.94it/s]"
     ]
    },
    {
     "name": "stdout",
     "output_type": "stream",
     "text": [
      "[INFO] httpx: HTTP Request: GET https://sandbox.toloka.dev/api/v1/operations/c33060f1-63e3-4f5e-96c5-fdac65f790aa \"HTTP/1.1 200 OK\"\n"
     ]
    },
    {
     "name": "stderr",
     "output_type": "stream",
     "text": [
      " 50%|█████████████████████                     | 50/100 [00:11<00:02, 24.94it/s]"
     ]
    },
    {
     "name": "stdout",
     "output_type": "stream",
     "text": [
      "[DEBUG] httpcore.http11: receive_response_body.started request=<Request [b'GET']>\n"
     ]
    },
    {
     "name": "stderr",
     "output_type": "stream",
     "text": [
      " 50%|█████████████████████                     | 50/100 [00:11<00:02, 24.94it/s]"
     ]
    },
    {
     "name": "stdout",
     "output_type": "stream",
     "text": [
      "[DEBUG] httpcore.http11: receive_response_body.complete\n"
     ]
    },
    {
     "name": "stderr",
     "output_type": "stream",
     "text": [
      " 50%|█████████████████████                     | 50/100 [00:11<00:02, 24.94it/s]"
     ]
    },
    {
     "name": "stdout",
     "output_type": "stream",
     "text": [
      "[DEBUG] httpcore.http11: response_closed.started\n"
     ]
    },
    {
     "name": "stderr",
     "output_type": "stream",
     "text": [
      " 50%|█████████████████████                     | 50/100 [00:11<00:02, 24.94it/s]"
     ]
    },
    {
     "name": "stdout",
     "output_type": "stream",
     "text": [
      "[DEBUG] httpcore.http11: response_closed.complete\n"
     ]
    },
    {
     "name": "stderr",
     "output_type": "stream",
     "text": [
      " 50%|█████████████████████                     | 50/100 [00:12<00:02, 24.94it/s]"
     ]
    },
    {
     "name": "stdout",
     "output_type": "stream",
     "text": [
      "[DEBUG] httpcore.http11: send_request_headers.started request=<Request [b'GET']>\n"
     ]
    },
    {
     "name": "stderr",
     "output_type": "stream",
     "text": [
      " 50%|█████████████████████                     | 50/100 [00:12<00:02, 24.94it/s]"
     ]
    },
    {
     "name": "stdout",
     "output_type": "stream",
     "text": [
      "[DEBUG] httpcore.http11: send_request_headers.complete\n"
     ]
    },
    {
     "name": "stderr",
     "output_type": "stream",
     "text": [
      " 50%|█████████████████████                     | 50/100 [00:12<00:02, 24.94it/s]"
     ]
    },
    {
     "name": "stdout",
     "output_type": "stream",
     "text": [
      "[DEBUG] httpcore.http11: send_request_body.started request=<Request [b'GET']>\n"
     ]
    },
    {
     "name": "stderr",
     "output_type": "stream",
     "text": [
      " 50%|█████████████████████                     | 50/100 [00:12<00:02, 24.94it/s]"
     ]
    },
    {
     "name": "stdout",
     "output_type": "stream",
     "text": [
      "[DEBUG] httpcore.http11: send_request_body.complete\n"
     ]
    },
    {
     "name": "stderr",
     "output_type": "stream",
     "text": [
      " 50%|█████████████████████                     | 50/100 [00:12<00:02, 24.94it/s]"
     ]
    },
    {
     "name": "stdout",
     "output_type": "stream",
     "text": [
      "[DEBUG] httpcore.http11: receive_response_headers.started request=<Request [b'GET']>\n"
     ]
    },
    {
     "name": "stderr",
     "output_type": "stream",
     "text": [
      " 50%|█████████████████████                     | 50/100 [00:12<00:02, 24.94it/s]"
     ]
    },
    {
     "name": "stdout",
     "output_type": "stream",
     "text": [
      "[DEBUG] httpcore.http11: receive_response_headers.complete return_value=(b'HTTP/1.1', 200, b'OK', [(b'Date', b'Wed, 31 May 2023 19:17:11 GMT'), (b'Content-Type', b'application/json;charset=utf-8'), (b'Transfer-Encoding', b'chunked'), (b'Connection', b'keep-alive'), (b'x-tlk-request-id', b'93ea045614238d567b4cc5a58deadc0d'), (b'x-api-ver', b'16.release-278.29044.70d6c91'), (b'vary', b'Origin'), (b'vary', b'Access-Control-Request-Method'), (b'vary', b'Access-Control-Request-Headers'), (b'strict-transport-security', b'max-age=31536000'), (b'x-content-type-options', b'nosniff'), (b'x-xss-protection', b'1; mode=block'), (b'cache-control', b'no-cache, no-store, must-revalidate, max-age=0'), (b'x-frame-options', b'DENY'), (b'x-content-type-options', b'nosniff'), (b'vary', b'Accept-Encoding, User-Agent'), (b'content-encoding', b'gzip')])\n"
     ]
    },
    {
     "name": "stderr",
     "output_type": "stream",
     "text": [
      " 50%|█████████████████████                     | 50/100 [00:12<00:02, 24.94it/s]"
     ]
    },
    {
     "name": "stdout",
     "output_type": "stream",
     "text": [
      "[INFO] httpx: HTTP Request: GET https://sandbox.toloka.dev/api/v1/operations/c33060f1-63e3-4f5e-96c5-fdac65f790aa \"HTTP/1.1 200 OK\"\n"
     ]
    },
    {
     "name": "stderr",
     "output_type": "stream",
     "text": [
      " 50%|█████████████████████                     | 50/100 [00:12<00:02, 24.94it/s]"
     ]
    },
    {
     "name": "stdout",
     "output_type": "stream",
     "text": [
      "[DEBUG] httpcore.http11: receive_response_body.started request=<Request [b'GET']>\n"
     ]
    },
    {
     "name": "stderr",
     "output_type": "stream",
     "text": [
      " 50%|█████████████████████                     | 50/100 [00:12<00:02, 24.94it/s]"
     ]
    },
    {
     "name": "stdout",
     "output_type": "stream",
     "text": [
      "[DEBUG] httpcore.http11: receive_response_body.complete\n"
     ]
    },
    {
     "name": "stderr",
     "output_type": "stream",
     "text": [
      " 50%|█████████████████████                     | 50/100 [00:12<00:02, 24.94it/s]"
     ]
    },
    {
     "name": "stdout",
     "output_type": "stream",
     "text": [
      "[DEBUG] httpcore.http11: response_closed.started\n"
     ]
    },
    {
     "name": "stderr",
     "output_type": "stream",
     "text": [
      " 50%|█████████████████████                     | 50/100 [00:12<00:02, 24.94it/s]"
     ]
    },
    {
     "name": "stdout",
     "output_type": "stream",
     "text": [
      "[DEBUG] httpcore.http11: response_closed.complete\n"
     ]
    },
    {
     "name": "stderr",
     "output_type": "stream",
     "text": [
      " 50%|█████████████████████                     | 50/100 [00:13<00:02, 24.94it/s]"
     ]
    },
    {
     "name": "stdout",
     "output_type": "stream",
     "text": [
      "[DEBUG] httpcore.http11: send_request_headers.started request=<Request [b'GET']>\n"
     ]
    },
    {
     "name": "stderr",
     "output_type": "stream",
     "text": [
      " 50%|█████████████████████                     | 50/100 [00:13<00:02, 24.94it/s]"
     ]
    },
    {
     "name": "stdout",
     "output_type": "stream",
     "text": [
      "[DEBUG] httpcore.http11: send_request_headers.complete\n"
     ]
    },
    {
     "name": "stderr",
     "output_type": "stream",
     "text": [
      " 50%|█████████████████████                     | 50/100 [00:13<00:02, 24.94it/s]"
     ]
    },
    {
     "name": "stdout",
     "output_type": "stream",
     "text": [
      "[DEBUG] httpcore.http11: send_request_body.started request=<Request [b'GET']>\n"
     ]
    },
    {
     "name": "stderr",
     "output_type": "stream",
     "text": [
      " 50%|█████████████████████                     | 50/100 [00:13<00:02, 24.94it/s]"
     ]
    },
    {
     "name": "stdout",
     "output_type": "stream",
     "text": [
      "[DEBUG] httpcore.http11: send_request_body.complete\n"
     ]
    },
    {
     "name": "stderr",
     "output_type": "stream",
     "text": [
      " 50%|█████████████████████                     | 50/100 [00:13<00:02, 24.94it/s]"
     ]
    },
    {
     "name": "stdout",
     "output_type": "stream",
     "text": [
      "[DEBUG] httpcore.http11: receive_response_headers.started request=<Request [b'GET']>\n"
     ]
    },
    {
     "name": "stderr",
     "output_type": "stream",
     "text": [
      " 50%|█████████████████████                     | 50/100 [00:13<00:02, 24.94it/s]"
     ]
    },
    {
     "name": "stdout",
     "output_type": "stream",
     "text": [
      "[DEBUG] httpcore.http11: receive_response_headers.complete return_value=(b'HTTP/1.1', 200, b'OK', [(b'Date', b'Wed, 31 May 2023 19:17:12 GMT'), (b'Content-Type', b'application/json;charset=utf-8'), (b'Transfer-Encoding', b'chunked'), (b'Connection', b'keep-alive'), (b'x-tlk-request-id', b'ec325b6cb6b6a02d7e9c9763dcac24eb'), (b'x-api-ver', b'16.release-278.29044.70d6c91'), (b'vary', b'Origin'), (b'vary', b'Access-Control-Request-Method'), (b'vary', b'Access-Control-Request-Headers'), (b'strict-transport-security', b'max-age=31536000'), (b'x-content-type-options', b'nosniff'), (b'x-xss-protection', b'1; mode=block'), (b'cache-control', b'no-cache, no-store, must-revalidate, max-age=0'), (b'x-frame-options', b'DENY'), (b'x-content-type-options', b'nosniff'), (b'vary', b'Accept-Encoding, User-Agent'), (b'content-encoding', b'gzip')])\n"
     ]
    },
    {
     "name": "stderr",
     "output_type": "stream",
     "text": [
      " 50%|█████████████████████                     | 50/100 [00:13<00:02, 24.94it/s]"
     ]
    },
    {
     "name": "stdout",
     "output_type": "stream",
     "text": [
      "[INFO] httpx: HTTP Request: GET https://sandbox.toloka.dev/api/v1/operations/c33060f1-63e3-4f5e-96c5-fdac65f790aa \"HTTP/1.1 200 OK\"\n"
     ]
    },
    {
     "name": "stderr",
     "output_type": "stream",
     "text": [
      " 50%|█████████████████████                     | 50/100 [00:13<00:02, 24.94it/s]"
     ]
    },
    {
     "name": "stdout",
     "output_type": "stream",
     "text": [
      "[DEBUG] httpcore.http11: receive_response_body.started request=<Request [b'GET']>\n"
     ]
    },
    {
     "name": "stderr",
     "output_type": "stream",
     "text": [
      " 50%|█████████████████████                     | 50/100 [00:13<00:02, 24.94it/s]"
     ]
    },
    {
     "name": "stdout",
     "output_type": "stream",
     "text": [
      "[DEBUG] httpcore.http11: receive_response_body.complete\n"
     ]
    },
    {
     "name": "stderr",
     "output_type": "stream",
     "text": [
      " 50%|█████████████████████                     | 50/100 [00:13<00:02, 24.94it/s]"
     ]
    },
    {
     "name": "stdout",
     "output_type": "stream",
     "text": [
      "[DEBUG] httpcore.http11: response_closed.started\n"
     ]
    },
    {
     "name": "stderr",
     "output_type": "stream",
     "text": [
      " 50%|█████████████████████                     | 50/100 [00:13<00:02, 24.94it/s]"
     ]
    },
    {
     "name": "stdout",
     "output_type": "stream",
     "text": [
      "[DEBUG] httpcore.http11: response_closed.complete\n"
     ]
    },
    {
     "name": "stderr",
     "output_type": "stream",
     "text": [
      " 50%|█████████████████████                     | 50/100 [00:14<00:02, 24.94it/s]"
     ]
    },
    {
     "name": "stdout",
     "output_type": "stream",
     "text": [
      "[DEBUG] httpcore.http11: send_request_headers.started request=<Request [b'GET']>\n"
     ]
    },
    {
     "name": "stderr",
     "output_type": "stream",
     "text": [
      " 50%|█████████████████████                     | 50/100 [00:14<00:02, 24.94it/s]"
     ]
    },
    {
     "name": "stdout",
     "output_type": "stream",
     "text": [
      "[DEBUG] httpcore.http11: send_request_headers.complete\n"
     ]
    },
    {
     "name": "stderr",
     "output_type": "stream",
     "text": [
      " 50%|█████████████████████                     | 50/100 [00:14<00:02, 24.94it/s]"
     ]
    },
    {
     "name": "stdout",
     "output_type": "stream",
     "text": [
      "[DEBUG] httpcore.http11: send_request_body.started request=<Request [b'GET']>\n"
     ]
    },
    {
     "name": "stderr",
     "output_type": "stream",
     "text": [
      " 50%|█████████████████████                     | 50/100 [00:14<00:02, 24.94it/s]"
     ]
    },
    {
     "name": "stdout",
     "output_type": "stream",
     "text": [
      "[DEBUG] httpcore.http11: send_request_body.complete\n"
     ]
    },
    {
     "name": "stderr",
     "output_type": "stream",
     "text": [
      " 50%|█████████████████████                     | 50/100 [00:14<00:02, 24.94it/s]"
     ]
    },
    {
     "name": "stdout",
     "output_type": "stream",
     "text": [
      "[DEBUG] httpcore.http11: receive_response_headers.started request=<Request [b'GET']>\n"
     ]
    },
    {
     "name": "stderr",
     "output_type": "stream",
     "text": [
      " 50%|█████████████████████                     | 50/100 [00:14<00:02, 24.94it/s]"
     ]
    },
    {
     "name": "stdout",
     "output_type": "stream",
     "text": [
      "[DEBUG] httpcore.http11: receive_response_headers.complete return_value=(b'HTTP/1.1', 200, b'OK', [(b'Date', b'Wed, 31 May 2023 19:17:14 GMT'), (b'Content-Type', b'application/json;charset=utf-8'), (b'Transfer-Encoding', b'chunked'), (b'Connection', b'keep-alive'), (b'x-tlk-request-id', b'1824e5c4afcc487e1001f39a14a97eb2'), (b'x-api-ver', b'16.release-278.29044.70d6c91'), (b'vary', b'Origin'), (b'vary', b'Access-Control-Request-Method'), (b'vary', b'Access-Control-Request-Headers'), (b'strict-transport-security', b'max-age=31536000'), (b'x-content-type-options', b'nosniff'), (b'x-xss-protection', b'1; mode=block'), (b'cache-control', b'no-cache, no-store, must-revalidate, max-age=0'), (b'x-frame-options', b'DENY'), (b'x-content-type-options', b'nosniff'), (b'vary', b'Accept-Encoding, User-Agent'), (b'content-encoding', b'gzip')])\n"
     ]
    },
    {
     "name": "stderr",
     "output_type": "stream",
     "text": [
      " 50%|█████████████████████                     | 50/100 [00:14<00:02, 24.94it/s]"
     ]
    },
    {
     "name": "stdout",
     "output_type": "stream",
     "text": [
      "[INFO] httpx: HTTP Request: GET https://sandbox.toloka.dev/api/v1/operations/c33060f1-63e3-4f5e-96c5-fdac65f790aa \"HTTP/1.1 200 OK\"\n"
     ]
    },
    {
     "name": "stderr",
     "output_type": "stream",
     "text": [
      " 50%|█████████████████████                     | 50/100 [00:14<00:02, 24.94it/s]"
     ]
    },
    {
     "name": "stdout",
     "output_type": "stream",
     "text": [
      "[DEBUG] httpcore.http11: receive_response_body.started request=<Request [b'GET']>\n"
     ]
    },
    {
     "name": "stderr",
     "output_type": "stream",
     "text": [
      " 50%|█████████████████████                     | 50/100 [00:14<00:02, 24.94it/s]"
     ]
    },
    {
     "name": "stdout",
     "output_type": "stream",
     "text": [
      "[DEBUG] httpcore.http11: receive_response_body.complete\n"
     ]
    },
    {
     "name": "stderr",
     "output_type": "stream",
     "text": [
      " 50%|█████████████████████                     | 50/100 [00:14<00:02, 24.94it/s]"
     ]
    },
    {
     "name": "stdout",
     "output_type": "stream",
     "text": [
      "[DEBUG] httpcore.http11: response_closed.started\n"
     ]
    },
    {
     "name": "stderr",
     "output_type": "stream",
     "text": [
      " 50%|█████████████████████                     | 50/100 [00:14<00:02, 24.94it/s]"
     ]
    },
    {
     "name": "stdout",
     "output_type": "stream",
     "text": [
      "[DEBUG] httpcore.http11: response_closed.complete\n"
     ]
    },
    {
     "name": "stderr",
     "output_type": "stream",
     "text": [
      " 50%|█████████████████████                     | 50/100 [00:15<00:02, 24.94it/s]"
     ]
    },
    {
     "name": "stdout",
     "output_type": "stream",
     "text": [
      "[DEBUG] httpcore.http11: send_request_headers.started request=<Request [b'GET']>\n"
     ]
    },
    {
     "name": "stderr",
     "output_type": "stream",
     "text": [
      " 50%|█████████████████████                     | 50/100 [00:15<00:02, 24.94it/s]"
     ]
    },
    {
     "name": "stdout",
     "output_type": "stream",
     "text": [
      "[DEBUG] httpcore.http11: send_request_headers.complete\n"
     ]
    },
    {
     "name": "stderr",
     "output_type": "stream",
     "text": [
      " 50%|█████████████████████                     | 50/100 [00:15<00:02, 24.94it/s]"
     ]
    },
    {
     "name": "stdout",
     "output_type": "stream",
     "text": [
      "[DEBUG] httpcore.http11: send_request_body.started request=<Request [b'GET']>\n"
     ]
    },
    {
     "name": "stderr",
     "output_type": "stream",
     "text": [
      " 50%|█████████████████████                     | 50/100 [00:15<00:02, 24.94it/s]"
     ]
    },
    {
     "name": "stdout",
     "output_type": "stream",
     "text": [
      "[DEBUG] httpcore.http11: send_request_body.complete\n"
     ]
    },
    {
     "name": "stderr",
     "output_type": "stream",
     "text": [
      " 50%|█████████████████████                     | 50/100 [00:15<00:02, 24.94it/s]"
     ]
    },
    {
     "name": "stdout",
     "output_type": "stream",
     "text": [
      "[DEBUG] httpcore.http11: receive_response_headers.started request=<Request [b'GET']>\n"
     ]
    },
    {
     "name": "stderr",
     "output_type": "stream",
     "text": [
      " 50%|█████████████████████                     | 50/100 [00:15<00:02, 24.94it/s]"
     ]
    },
    {
     "name": "stdout",
     "output_type": "stream",
     "text": [
      "[DEBUG] httpcore.http11: receive_response_headers.complete return_value=(b'HTTP/1.1', 200, b'OK', [(b'Date', b'Wed, 31 May 2023 19:17:15 GMT'), (b'Content-Type', b'application/json;charset=utf-8'), (b'Transfer-Encoding', b'chunked'), (b'Connection', b'keep-alive'), (b'x-tlk-request-id', b'83a2367c9933aaf7d2130800e1404d58'), (b'x-api-ver', b'16.release-278.29044.70d6c91'), (b'vary', b'Origin'), (b'vary', b'Access-Control-Request-Method'), (b'vary', b'Access-Control-Request-Headers'), (b'strict-transport-security', b'max-age=31536000'), (b'x-content-type-options', b'nosniff'), (b'x-xss-protection', b'1; mode=block'), (b'cache-control', b'no-cache, no-store, must-revalidate, max-age=0'), (b'x-frame-options', b'DENY'), (b'x-content-type-options', b'nosniff'), (b'vary', b'Accept-Encoding, User-Agent'), (b'content-encoding', b'gzip')])\n"
     ]
    },
    {
     "name": "stderr",
     "output_type": "stream",
     "text": [
      " 50%|█████████████████████                     | 50/100 [00:15<00:02, 24.94it/s]"
     ]
    },
    {
     "name": "stdout",
     "output_type": "stream",
     "text": [
      "[INFO] httpx: HTTP Request: GET https://sandbox.toloka.dev/api/v1/operations/c33060f1-63e3-4f5e-96c5-fdac65f790aa \"HTTP/1.1 200 OK\"\n"
     ]
    },
    {
     "name": "stderr",
     "output_type": "stream",
     "text": [
      " 50%|█████████████████████                     | 50/100 [00:15<00:02, 24.94it/s]"
     ]
    },
    {
     "name": "stdout",
     "output_type": "stream",
     "text": [
      "[DEBUG] httpcore.http11: receive_response_body.started request=<Request [b'GET']>\n"
     ]
    },
    {
     "name": "stderr",
     "output_type": "stream",
     "text": [
      " 50%|█████████████████████                     | 50/100 [00:15<00:02, 24.94it/s]"
     ]
    },
    {
     "name": "stdout",
     "output_type": "stream",
     "text": [
      "[DEBUG] httpcore.http11: receive_response_body.complete\n"
     ]
    },
    {
     "name": "stderr",
     "output_type": "stream",
     "text": [
      " 50%|█████████████████████                     | 50/100 [00:15<00:02, 24.94it/s]"
     ]
    },
    {
     "name": "stdout",
     "output_type": "stream",
     "text": [
      "[DEBUG] httpcore.http11: response_closed.started\n"
     ]
    },
    {
     "name": "stderr",
     "output_type": "stream",
     "text": [
      " 50%|█████████████████████                     | 50/100 [00:15<00:02, 24.94it/s]"
     ]
    },
    {
     "name": "stdout",
     "output_type": "stream",
     "text": [
      "[DEBUG] httpcore.http11: response_closed.complete\n"
     ]
    },
    {
     "name": "stderr",
     "output_type": "stream",
     "text": [
      "100%|█████████████████████████████████████████| 100/100 [00:15<00:00,  6.32it/s]"
     ]
    },
    {
     "name": "stdout",
     "output_type": "stream",
     "text": [
      "[DEBUG] httpcore.http11: send_request_headers.started request=<Request [b'GET']>\n",
      "[DEBUG] httpcore.http11: send_request_headers.complete\n",
      "[DEBUG] httpcore.http11: send_request_body.started request=<Request [b'GET']>\n",
      "[DEBUG] httpcore.http11: send_request_body.complete\n",
      "[DEBUG] httpcore.http11: receive_response_headers.started request=<Request [b'GET']>\n"
     ]
    },
    {
     "name": "stderr",
     "output_type": "stream",
     "text": [
      "\n"
     ]
    },
    {
     "name": "stdout",
     "output_type": "stream",
     "text": [
      "[DEBUG] httpcore.http11: receive_response_headers.complete return_value=(b'HTTP/1.1', 200, b'OK', [(b'Date', b'Wed, 31 May 2023 19:17:15 GMT'), (b'Content-Type', b'application/json;charset=utf-8'), (b'Transfer-Encoding', b'chunked'), (b'Connection', b'keep-alive'), (b'x-tlk-request-id', b'a055b2efe003e1a3fc39c8ee9297ebc9'), (b'x-api-ver', b'16.release-278.29044.70d6c91'), (b'vary', b'Origin'), (b'vary', b'Access-Control-Request-Method'), (b'vary', b'Access-Control-Request-Headers'), (b'strict-transport-security', b'max-age=31536000'), (b'x-content-type-options', b'nosniff'), (b'x-xss-protection', b'1; mode=block'), (b'cache-control', b'no-cache, no-store, must-revalidate, max-age=0'), (b'x-frame-options', b'DENY'), (b'x-content-type-options', b'nosniff'), (b'x-qe-streaming', b'true'), (b'vary', b'Accept-Encoding, User-Agent'), (b'content-encoding', b'gzip')])\n",
      "[INFO] httpx: HTTP Request: GET https://sandbox.toloka.dev/api/v1/operations/c33060f1-63e3-4f5e-96c5-fdac65f790aa/log \"HTTP/1.1 200 OK\"\n",
      "[DEBUG] httpcore.http11: receive_response_body.started request=<Request [b'GET']>\n",
      "[DEBUG] httpcore.http11: receive_response_body.complete\n",
      "[DEBUG] httpcore.http11: response_closed.started\n",
      "[DEBUG] httpcore.http11: response_closed.complete\n",
      "[DEBUG] httpcore.http11: send_request_headers.started request=<Request [b'GET']>\n",
      "[DEBUG] httpcore.http11: send_request_headers.complete\n",
      "[DEBUG] httpcore.http11: send_request_body.started request=<Request [b'GET']>\n",
      "[DEBUG] httpcore.http11: send_request_body.complete\n",
      "[DEBUG] httpcore.http11: receive_response_headers.started request=<Request [b'GET']>\n",
      "[DEBUG] httpcore.http11: receive_response_headers.complete return_value=(b'HTTP/1.1', 200, b'OK', [(b'Date', b'Wed, 31 May 2023 19:17:15 GMT'), (b'Content-Type', b'application/json;charset=utf-8'), (b'Transfer-Encoding', b'chunked'), (b'Connection', b'keep-alive'), (b'x-tlk-request-id', b'5d8a530fddde7abd86221fac5a3e0a18'), (b'x-api-ver', b'16.release-278.29044.70d6c91'), (b'vary', b'Origin'), (b'vary', b'Access-Control-Request-Method'), (b'vary', b'Access-Control-Request-Headers'), (b'strict-transport-security', b'max-age=31536000'), (b'x-content-type-options', b'nosniff'), (b'x-xss-protection', b'1; mode=block'), (b'cache-control', b'no-cache, no-store, must-revalidate, max-age=0'), (b'x-frame-options', b'DENY'), (b'x-content-type-options', b'nosniff'), (b'vary', b'Accept-Encoding, User-Agent'), (b'content-encoding', b'gzip')])\n",
      "[INFO] httpx: HTTP Request: GET https://sandbox.toloka.dev/api/v1/tasks?pool_id=1510554&id_lte=0000170c9a--64779d3aff14706a9f8f13a3&id_gte=0000170c9a--64779d3aff14706a9f8f13a1&sort=id \"HTTP/1.1 200 OK\"\n",
      "[DEBUG] httpcore.http11: receive_response_body.started request=<Request [b'GET']>\n",
      "[DEBUG] httpcore.http11: receive_response_body.complete\n",
      "[DEBUG] httpcore.http11: response_closed.started\n",
      "[DEBUG] httpcore.http11: response_closed.complete\n",
      "Populated pool with 2 tasks\n"
     ]
    },
    {
     "ename": "NameError",
     "evalue": "name 'new_project' is not defined",
     "output_type": "error",
     "traceback": [
      "\u001b[0;31m---------------------------------------------------------------------------\u001b[0m",
      "\u001b[0;31mNameError\u001b[0m                                 Traceback (most recent call last)",
      "Cell \u001b[0;32mIn[17], line 17\u001b[0m\n\u001b[1;32m     15\u001b[0m     toloka_client\u001b[38;5;241m.\u001b[39mcreate_tasks(tasks, allow_defaults\u001b[38;5;241m=\u001b[39m\u001b[38;5;28;01mTrue\u001b[39;00m)\n\u001b[1;32m     16\u001b[0m     \u001b[38;5;28mprint\u001b[39m(\u001b[38;5;124mf\u001b[39m\u001b[38;5;124m'\u001b[39m\u001b[38;5;124mPopulated pool with \u001b[39m\u001b[38;5;132;01m{\u001b[39;00m\u001b[38;5;28mlen\u001b[39m(tasks)\u001b[38;5;132;01m}\u001b[39;00m\u001b[38;5;124m tasks\u001b[39m\u001b[38;5;124m'\u001b[39m)\n\u001b[0;32m---> 17\u001b[0m     \u001b[38;5;28mprint\u001b[39m(\u001b[38;5;124mf\u001b[39m\u001b[38;5;124m'\u001b[39m\u001b[38;5;124mTo view this pool, go to https://sandbox.toloka.yandex.com/requester/project/\u001b[39m\u001b[38;5;132;01m{\u001b[39;00m\u001b[43mnew_project\u001b[49m\u001b[38;5;241m.\u001b[39mid\u001b[38;5;132;01m}\u001b[39;00m\u001b[38;5;124m/pool/\u001b[39m\u001b[38;5;132;01m{\u001b[39;00mnew_pool\u001b[38;5;241m.\u001b[39mid\u001b[38;5;132;01m}\u001b[39;00m\u001b[38;5;124m'\u001b[39m)\n\u001b[1;32m     18\u001b[0m \u001b[38;5;28;01melse\u001b[39;00m:\n\u001b[1;32m     19\u001b[0m     \u001b[38;5;28;01mif\u001b[39;00m ENVIRONMENT \u001b[38;5;241m==\u001b[39m \u001b[38;5;124m\"\u001b[39m\u001b[38;5;124mPRODUCTION\u001b[39m\u001b[38;5;124m\"\u001b[39m:\n",
      "\u001b[0;31mNameError\u001b[0m: name 'new_project' is not defined"
     ]
    }
   ],
   "source": [
    "urls = [\n",
    "    \"https://2.downloader.disk.yandex.ru/preview/4d586b37bdaa2c56feac0df50988ace5692b7d8171de02ef11746e7c7027eb61/inf/HXXK3JGF4-pHH7QlKGowRbiNAs53ek8hEPIjru4DeDDzU30X0XYLZQ6HrBCzGau1BtHXYs1LiBsYy3pBf0vuaQ%3D%3D?uid=135551846&filename=barcode_03.png&disposition=inline&hash=&limit=0&content_type=image%2Fpng&owner_uid=135551846&tknv=v2&size=2066x1368\",\n",
    "    \"https://2.downloader.disk.yandex.ru/preview/16ef8969eeb9d96fb2260a58736a7e03bd1f5e4ff663c3a40ed3e3c16dc943c9/inf/RU0Sq2RN6Cb5MUd01dMhZLiNAs53ek8hEPIjru4DeDAzNByppXSizKVS6H2CCfRSyJeW_0q9BaI4bD6PVOd88g%3D%3D?uid=135551846&filename=barcode_04.png&disposition=inline&hash=&limit=0&content_type=image%2Fpng&owner_uid=135551846&tknv=v2&size=2066x1368\"\n",
    "]\n",
    "\n",
    "if USE_KIT_FOR_TASKS:\n",
    "    tasks = [\n",
    "        toloka.Task(\n",
    "            input_values={\n",
    "                \"image_url\": url\n",
    "            }, \n",
    "            pool_id=pool.id\n",
    "        ) for url in urls\n",
    "    ]\n",
    "    toloka_client.create_tasks(tasks, allow_defaults=True)\n",
    "    print(f'Populated pool with {len(tasks)} tasks')\n",
    "    print(f'To view this pool, go to https://sandbox.toloka.yandex.com/requester/project/{new_project.id}/pool/{new_pool.id}')\n",
    "else:\n",
    "    if ENVIRONMENT == \"PRODUCTION\":\n",
    "        url = \"https://toloka.dev/api/v1/tasks\"\n",
    "    else:\n",
    "        url = \"https://sandbox.toloka.dev/api/v1/tasks\"\n",
    "    headers = {\n",
    "      'Authorization': f\"OAuth {PASSWORD}\",\n",
    "      'Content-Type': 'application/json'\n",
    "    }\n",
    "    for url in urls:\n",
    "        payload = {\n",
    "          \"input_values\": {\n",
    "            \"image_url\": url\n",
    "          },\n",
    "          \"pool_id\": f\"{new_pool.id}\"\n",
    "        }\n",
    "        response = requests.post(url, headers=headers, json=payload)\n",
    "        print(response.text)"
   ]
  },
  {
   "cell_type": "code",
   "execution_count": null,
   "id": "61de2063-2800-4d95-8241-6db608b8d5c2",
   "metadata": {},
   "outputs": [],
   "source": []
  }
 ],
 "metadata": {
  "kernelspec": {
   "display_name": "Python 3 (ipykernel)",
   "language": "python",
   "name": "python3"
  },
  "language_info": {
   "codemirror_mode": {
    "name": "ipython",
    "version": 3
   },
   "file_extension": ".py",
   "mimetype": "text/x-python",
   "name": "python",
   "nbconvert_exporter": "python",
   "pygments_lexer": "ipython3",
   "version": "3.10.6"
  }
 },
 "nbformat": 4,
 "nbformat_minor": 5
}
