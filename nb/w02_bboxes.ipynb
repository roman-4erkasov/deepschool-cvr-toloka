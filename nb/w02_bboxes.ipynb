{
 "cells": [
  {
   "cell_type": "code",
   "execution_count": 11,
   "id": "4d8f1663-1eff-4f81-b43c-5d42519f3811",
   "metadata": {},
   "outputs": [
    {
     "name": "stdin",
     "output_type": "stream",
     "text": [
      "Enter your OAuth token:  ········\n"
     ]
    }
   ],
   "source": [
    "import os\n",
    "import datetime\n",
    "import logging\n",
    "import sys\n",
    "import time\n",
    "import getpass\n",
    "import pandas \n",
    "import requests\n",
    "\n",
    "from textwrap import dedent\n",
    "\n",
    "import toloka.client as toloka\n",
    "import toloka.client.project.template_builder as tb\n",
    "\n",
    "# False - if problems with tasks in toloka-kit still occure\n",
    "USE_KIT_FOR_TASKS = True \n",
    "\n",
    "PASSWORD = os.environ.get(\n",
    "    \"TOLOKA_PWD\", \n",
    "    getpass.getpass('Enter your OAuth token: ')\n",
    ")\n",
    "\n",
    "# PRODUCTION or SANDBOX, SANDBOX is default\n",
    "ENVIRONMENT = os.environ.get(\"TOLOKA_ENV\", \"SANDBOX\")\n",
    "\n",
    "N_TASKS = os.environ.get(\"N_TASKS\", 3)\n",
    "\n",
    "logging.basicConfig(\n",
    "    format='[%(levelname)s] %(name)s: %(message)s',\n",
    "    level=logging.INFO,\n",
    "    stream=sys.stdout,\n",
    ")\n"
   ]
  },
  {
   "cell_type": "code",
   "execution_count": 2,
   "id": "c30f305b-28d4-44e2-93d5-3fd6d3b8a6e6",
   "metadata": {},
   "outputs": [
    {
     "name": "stdout",
     "output_type": "stream",
     "text": [
      "[DEBUG] httpx: load_ssl_context verify=True cert=None trust_env=True http2=False\n",
      "[DEBUG] httpx: load_verify_locations cafile='/home/fatuus/deepschool-cvr-toloka/venv/lib/python3.10/site-packages/certifi/cacert.pem'\n",
      "[DEBUG] httpcore.connection: connect_tcp.started host='sandbox.toloka.dev' port=443 local_address=None timeout=10.0 socket_options=None\n",
      "[DEBUG] httpcore.connection: connect_tcp.complete return_value=<httpcore.backends.sync.SyncStream object at 0x7feb469d8460>\n",
      "[DEBUG] httpcore.connection: start_tls.started ssl_context=<ssl.SSLContext object at 0x7feb7dd397c0> server_hostname='sandbox.toloka.dev' timeout=10.0\n",
      "[DEBUG] httpcore.connection: start_tls.complete return_value=<httpcore.backends.sync.SyncStream object at 0x7feb469d8430>\n",
      "[DEBUG] httpcore.http11: send_request_headers.started request=<Request [b'GET']>\n",
      "[DEBUG] httpcore.http11: send_request_headers.complete\n",
      "[DEBUG] httpcore.http11: send_request_body.started request=<Request [b'GET']>\n",
      "[DEBUG] httpcore.http11: send_request_body.complete\n",
      "[DEBUG] httpcore.http11: receive_response_headers.started request=<Request [b'GET']>\n",
      "[DEBUG] httpcore.http11: receive_response_headers.complete return_value=(b'HTTP/1.1', 200, b'OK', [(b'Date', b'Wed, 31 May 2023 18:49:59 GMT'), (b'Content-Type', b'application/json;charset=utf-8'), (b'Transfer-Encoding', b'chunked'), (b'Connection', b'keep-alive'), (b'x-tlk-request-id', b'b831281bd7f04fdd3a724c4961cb6db1'), (b'x-api-ver', b'16.release-278.29044.70d6c91'), (b'vary', b'Origin'), (b'vary', b'Access-Control-Request-Method'), (b'vary', b'Access-Control-Request-Headers'), (b'strict-transport-security', b'max-age=31536000'), (b'x-content-type-options', b'nosniff'), (b'x-xss-protection', b'1; mode=block'), (b'cache-control', b'no-cache, no-store, must-revalidate, max-age=0'), (b'x-frame-options', b'DENY'), (b'x-content-type-options', b'nosniff'), (b'vary', b'Accept-Encoding, User-Agent'), (b'content-encoding', b'gzip')])\n",
      "[INFO] httpx: HTTP Request: GET https://sandbox.toloka.dev/api/v1/requester \"HTTP/1.1 200 OK\"\n",
      "[DEBUG] httpcore.http11: receive_response_body.started request=<Request [b'GET']>\n",
      "[DEBUG] httpcore.http11: receive_response_body.complete\n",
      "[DEBUG] httpcore.http11: response_closed.started\n",
      "[DEBUG] httpcore.http11: response_closed.complete\n",
      "Requester(_unexpected={}, id='7719fd50023f25b83bdcc9afa1f5e1bf', balance=Decimal('1000000.0000'), public_name={'EN': 'fatuus'}, company=None)\n"
     ]
    }
   ],
   "source": [
    "toloka_client = toloka.TolokaClient(\n",
    "    PASSWORD, ENVIRONMENT\n",
    ")\n",
    "print(toloka_client.get_requester())\n"
   ]
  },
  {
   "cell_type": "markdown",
   "id": "fff5da69-89e3-4065-8a1f-6f964f76dc21",
   "metadata": {},
   "source": [
    "### Preparing Web UI"
   ]
  },
  {
   "cell_type": "code",
   "execution_count": 3,
   "id": "ac14808f-770a-4ed3-b9ee-9f68c56787e1",
   "metadata": {},
   "outputs": [],
   "source": [
    "project_interface = toloka.project.TemplateBuilderViewSpec(\n",
    "    view=tb.ImageAnnotationFieldV1(  # Component that selects areas in images\n",
    "        tb.OutputData('result'),  # Path for writing output data\n",
    "        tb.InputData('image'),  # Getter for the input image\n",
    "        shapes={'rectangle': True},  # Allow to select only rectangular areas\n",
    "        validation=tb.RequiredConditionV1(hint='Please select an area')  # At least one area should be selected\n",
    "    )\n",
    ")\n",
    "\n",
    "# You can write instructions and upload them from a file or enter them later in the web interface\n",
    "# prepared_instruction = open('instruction.html').read().strip()\n",
    "prepared_instruction = '<b>Outline each traffic sign with a separate bounding box(rectangle).</b>'\n",
    "\n",
    "# Set up the project\n",
    "detection_project = toloka.Project(\n",
    "    public_name='Outline all traffic signs with bounding boxes(toloka-kit)',\n",
    "    public_description='Find and outline all traffic signs with bounding boxes.',\n",
    "    public_instructions=prepared_instruction,\n",
    "    # Set up the task: view, input, and output parameters\n",
    "    task_spec=toloka.project.task_spec.TaskSpec(\n",
    "        input_spec={'image': toloka.project.UrlSpec()},\n",
    "        output_spec={'result': toloka.project.JsonSpec()},\n",
    "        view_spec=project_interface,\n",
    "    ),\n",
    ")"
   ]
  },
  {
   "cell_type": "code",
   "execution_count": 4,
   "id": "f4b6657c-c86b-411e-9376-2ca378c1235f",
   "metadata": {},
   "outputs": [
    {
     "name": "stdout",
     "output_type": "stream",
     "text": [
      "[DEBUG] httpcore.connection: close.started\n",
      "[DEBUG] httpcore.connection: close.complete\n",
      "[DEBUG] httpcore.connection: connect_tcp.started host='sandbox.toloka.dev' port=443 local_address=None timeout=10.0 socket_options=None\n",
      "[DEBUG] httpcore.connection: connect_tcp.complete return_value=<httpcore.backends.sync.SyncStream object at 0x7feb4697d000>\n",
      "[DEBUG] httpcore.connection: start_tls.started ssl_context=<ssl.SSLContext object at 0x7feb7dd397c0> server_hostname='sandbox.toloka.dev' timeout=10.0\n",
      "[DEBUG] httpcore.connection: start_tls.complete return_value=<httpcore.backends.sync.SyncStream object at 0x7feb7c41ab90>\n",
      "[DEBUG] httpcore.http11: send_request_headers.started request=<Request [b'POST']>\n",
      "[DEBUG] httpcore.http11: send_request_headers.complete\n",
      "[DEBUG] httpcore.http11: send_request_body.started request=<Request [b'POST']>\n",
      "[DEBUG] httpcore.http11: send_request_body.complete\n",
      "[DEBUG] httpcore.http11: receive_response_headers.started request=<Request [b'POST']>\n",
      "[DEBUG] httpcore.http11: receive_response_headers.complete return_value=(b'HTTP/1.1', 201, b'Created', [(b'Date', b'Wed, 31 May 2023 18:50:05 GMT'), (b'Content-Type', b'application/json;charset=utf-8'), (b'Transfer-Encoding', b'chunked'), (b'Connection', b'keep-alive'), (b'x-tlk-request-id', b'21a54e4a3fe95622ae356d36b4840098'), (b'x-api-ver', b'16.release-278.29044.70d6c91'), (b'vary', b'Origin'), (b'vary', b'Access-Control-Request-Method'), (b'vary', b'Access-Control-Request-Headers'), (b'strict-transport-security', b'max-age=31536000'), (b'x-content-type-options', b'nosniff'), (b'x-xss-protection', b'1; mode=block'), (b'cache-control', b'no-cache, no-store, must-revalidate, max-age=0'), (b'x-frame-options', b'DENY'), (b'x-content-type-options', b'nosniff'), (b'vary', b'Accept-Encoding, User-Agent'), (b'content-encoding', b'gzip')])\n",
      "[INFO] httpx: HTTP Request: POST https://sandbox.toloka.dev/api/v1/projects \"HTTP/1.1 201 Created\"\n",
      "[DEBUG] httpcore.http11: receive_response_body.started request=<Request [b'POST']>\n",
      "[DEBUG] httpcore.http11: receive_response_body.complete\n",
      "[DEBUG] httpcore.http11: response_closed.started\n",
      "[DEBUG] httpcore.http11: response_closed.complete\n",
      "[INFO] toloka.client: A new project with ID \"144405\" has been created. Link to open in web interface: https://sandbox.toloka.yandex.com/requester/project/144405\n"
     ]
    }
   ],
   "source": [
    "detection_project = toloka_client.create_project(detection_project)\n"
   ]
  },
  {
   "cell_type": "markdown",
   "id": "595b5cdf-7954-4d1c-b143-82423421b5aa",
   "metadata": {},
   "source": [
    "### Creating a pool"
   ]
  },
  {
   "cell_type": "code",
   "execution_count": 7,
   "id": "815cb19f-20b0-4ee7-b4dc-8e9682f9e1c9",
   "metadata": {},
   "outputs": [
    {
     "name": "stdout",
     "output_type": "stream",
     "text": [
      "[DEBUG] httpcore.connection: close.started\n",
      "[DEBUG] httpcore.connection: close.complete\n",
      "[DEBUG] httpcore.connection: connect_tcp.started host='sandbox.toloka.dev' port=443 local_address=None timeout=10.0 socket_options=None\n",
      "[DEBUG] httpcore.connection: connect_tcp.complete return_value=<httpcore.backends.sync.SyncStream object at 0x7feb4665c8e0>\n",
      "[DEBUG] httpcore.connection: start_tls.started ssl_context=<ssl.SSLContext object at 0x7feb7dd397c0> server_hostname='sandbox.toloka.dev' timeout=10.0\n",
      "[DEBUG] httpcore.connection: start_tls.complete return_value=<httpcore.backends.sync.SyncStream object at 0x7feb4665ef50>\n",
      "[DEBUG] httpcore.http11: send_request_headers.started request=<Request [b'POST']>\n",
      "[DEBUG] httpcore.http11: send_request_headers.complete\n",
      "[DEBUG] httpcore.http11: send_request_body.started request=<Request [b'POST']>\n",
      "[DEBUG] httpcore.http11: send_request_body.complete\n",
      "[DEBUG] httpcore.http11: receive_response_headers.started request=<Request [b'POST']>\n",
      "[DEBUG] httpcore.http11: receive_response_headers.complete return_value=(b'HTTP/1.1', 201, b'Created', [(b'Date', b'Wed, 31 May 2023 18:50:31 GMT'), (b'Content-Type', b'application/json;charset=utf-8'), (b'Transfer-Encoding', b'chunked'), (b'Connection', b'keep-alive'), (b'x-tlk-request-id', b'8277b3c19c0ceed3e20207d9cc52f293'), (b'x-api-ver', b'16.release-278.29044.70d6c91'), (b'vary', b'Origin'), (b'vary', b'Access-Control-Request-Method'), (b'vary', b'Access-Control-Request-Headers'), (b'strict-transport-security', b'max-age=31536000'), (b'x-content-type-options', b'nosniff'), (b'x-xss-protection', b'1; mode=block'), (b'cache-control', b'no-cache, no-store, must-revalidate, max-age=0'), (b'x-frame-options', b'DENY'), (b'x-content-type-options', b'nosniff'), (b'vary', b'Accept-Encoding, User-Agent'), (b'content-encoding', b'gzip')])\n",
      "[INFO] httpx: HTTP Request: POST https://sandbox.toloka.dev/api/v1/pools \"HTTP/1.1 201 Created\"\n",
      "[DEBUG] httpcore.http11: receive_response_body.started request=<Request [b'POST']>\n",
      "[DEBUG] httpcore.http11: receive_response_body.complete\n",
      "[DEBUG] httpcore.http11: response_closed.started\n",
      "[DEBUG] httpcore.http11: response_closed.complete\n",
      "[INFO] toloka.client: A new pool with ID \"1510547\" has been created. Link to open in web interface: https://sandbox.toloka.yandex.com/requester/project/144405/pool/1510547\n"
     ]
    }
   ],
   "source": [
    "# Create a pool\n",
    "new_pool = toloka.Pool(\n",
    "    project_id=detection_project.id,\n",
    "    private_name='Pool 1',\n",
    "    may_contain_adult_content=False,\n",
    "    will_expire=datetime.datetime.utcnow() + datetime.timedelta(days=365),\n",
    "    reward_per_assignment=0.01, # USD\n",
    "    auto_accept_solutions=False,\n",
    "    auto_accept_period_day=10,\n",
    "    assignment_max_duration_seconds=60*10,\n",
    "    defaults=toloka.Pool.Defaults(default_overlap_for_new_task_suites=1)\n",
    ")\n",
    "\n",
    "new_pool = toloka_client.create_pool(new_pool)\n"
   ]
  },
  {
   "cell_type": "code",
   "execution_count": 12,
   "id": "698a132b-9fa4-42b2-87f1-779317c77379",
   "metadata": {},
   "outputs": [
    {
     "name": "stdout",
     "output_type": "stream",
     "text": [
      "[DEBUG] httpcore.connection: close.started\n",
      "[DEBUG] httpcore.connection: close.complete\n",
      "[DEBUG] httpcore.connection: connect_tcp.started host='sandbox.toloka.dev' port=443 local_address=None timeout=10.0 socket_options=None\n",
      "[DEBUG] httpcore.connection: connect_tcp.complete return_value=<httpcore.backends.sync.SyncStream object at 0x7feb4672a650>\n",
      "[DEBUG] httpcore.connection: start_tls.started ssl_context=<ssl.SSLContext object at 0x7feb7dd397c0> server_hostname='sandbox.toloka.dev' timeout=10.0\n",
      "[DEBUG] httpcore.connection: start_tls.complete return_value=<httpcore.backends.sync.SyncStream object at 0x7feb4672add0>\n",
      "[DEBUG] httpcore.http11: send_request_headers.started request=<Request [b'POST']>\n",
      "[DEBUG] httpcore.http11: send_request_headers.complete\n",
      "[DEBUG] httpcore.http11: send_request_body.started request=<Request [b'POST']>\n",
      "[DEBUG] httpcore.http11: send_request_body.complete\n",
      "[DEBUG] httpcore.http11: receive_response_headers.started request=<Request [b'POST']>\n",
      "[DEBUG] httpcore.http11: receive_response_headers.complete return_value=(b'HTTP/1.1', 500, b'Server Error', [(b'Date', b'Wed, 31 May 2023 19:02:49 GMT'), (b'Content-Type', b'application/json'), (b'Transfer-Encoding', b'chunked'), (b'Connection', b'keep-alive'), (b'x-tlk-request-id', b'b0b73689e71b13e2a137d6d4712ed874'), (b'x-api-ver', b'16.release-278.29044.70d6c91'), (b'vary', b'Origin'), (b'vary', b'Access-Control-Request-Method'), (b'vary', b'Access-Control-Request-Headers'), (b'strict-transport-security', b'max-age=31536000'), (b'x-content-type-options', b'nosniff'), (b'x-xss-protection', b'1; mode=block'), (b'cache-control', b'no-cache, no-store, must-revalidate, max-age=0'), (b'x-frame-options', b'DENY'), (b'x-content-type-options', b'nosniff')])\n",
      "[INFO] httpx: HTTP Request: POST https://sandbox.toloka.dev/api/v1/tasks?allow_defaults=true&operation_id=57562e3a-c609-4567-928b-a5b208696c52&async_mode=true \"HTTP/1.1 500 Server Error\"\n",
      "[DEBUG] httpcore.http11: receive_response_body.started request=<Request [b'POST']>\n",
      "[DEBUG] httpcore.http11: receive_response_body.complete\n",
      "[DEBUG] httpcore.http11: response_closed.started\n",
      "[DEBUG] httpcore.http11: response_closed.complete\n",
      "[DEBUG] urllib3.util.retry: Incremented Retry for (url='https://sandbox.toloka.dev/api/v1/tasks'): TolokaRetry(total=2, connect=None, read=None, redirect=None, status=None)\n",
      "[DEBUG] httpcore.http11: send_request_headers.started request=<Request [b'POST']>\n",
      "[DEBUG] httpcore.http11: send_request_headers.complete\n",
      "[DEBUG] httpcore.http11: send_request_body.started request=<Request [b'POST']>\n",
      "[DEBUG] httpcore.http11: send_request_body.complete\n",
      "[DEBUG] httpcore.http11: receive_response_headers.started request=<Request [b'POST']>\n",
      "[DEBUG] httpcore.http11: receive_response_headers.complete return_value=(b'HTTP/1.1', 202, b'Accepted', [(b'Date', b'Wed, 31 May 2023 19:02:50 GMT'), (b'Content-Type', b'application/json;charset=utf-8'), (b'Transfer-Encoding', b'chunked'), (b'Connection', b'keep-alive'), (b'x-tlk-request-id', b'cc7ba28a606fa77b02041386c8708ed2'), (b'x-api-ver', b'16.release-278.29044.70d6c91'), (b'vary', b'Origin'), (b'vary', b'Access-Control-Request-Method'), (b'vary', b'Access-Control-Request-Headers'), (b'strict-transport-security', b'max-age=31536000'), (b'x-content-type-options', b'nosniff'), (b'x-xss-protection', b'1; mode=block'), (b'cache-control', b'no-cache, no-store, must-revalidate, max-age=0'), (b'x-frame-options', b'DENY'), (b'x-content-type-options', b'nosniff'), (b'vary', b'Accept-Encoding, User-Agent'), (b'content-encoding', b'gzip')])\n",
      "[INFO] httpx: HTTP Request: POST https://sandbox.toloka.dev/api/v1/tasks?allow_defaults=true&operation_id=57562e3a-c609-4567-928b-a5b208696c52&async_mode=true \"HTTP/1.1 202 Accepted\"\n",
      "[DEBUG] httpcore.http11: receive_response_body.started request=<Request [b'POST']>\n",
      "[DEBUG] httpcore.http11: receive_response_body.complete\n",
      "[DEBUG] httpcore.http11: response_closed.started\n",
      "[DEBUG] httpcore.http11: response_closed.complete\n"
     ]
    },
    {
     "name": "stderr",
     "output_type": "stream",
     "text": [
      "  0%|                                                   | 0/100 [00:00<?, ?it/s]"
     ]
    },
    {
     "name": "stdout",
     "output_type": "stream",
     "text": [
      "[DEBUG] httpcore.http11: send_request_headers.started request=<Request [b'GET']>\n"
     ]
    },
    {
     "name": "stderr",
     "output_type": "stream",
     "text": [
      "  0%|                                                   | 0/100 [00:00<?, ?it/s]"
     ]
    },
    {
     "name": "stdout",
     "output_type": "stream",
     "text": [
      "[DEBUG] httpcore.http11: send_request_headers.complete\n"
     ]
    },
    {
     "name": "stderr",
     "output_type": "stream",
     "text": [
      "  0%|                                                   | 0/100 [00:00<?, ?it/s]"
     ]
    },
    {
     "name": "stdout",
     "output_type": "stream",
     "text": [
      "[DEBUG] httpcore.http11: send_request_body.started request=<Request [b'GET']>\n"
     ]
    },
    {
     "name": "stderr",
     "output_type": "stream",
     "text": [
      "  0%|                                                   | 0/100 [00:00<?, ?it/s]"
     ]
    },
    {
     "name": "stdout",
     "output_type": "stream",
     "text": [
      "[DEBUG] httpcore.http11: send_request_body.complete\n"
     ]
    },
    {
     "name": "stderr",
     "output_type": "stream",
     "text": [
      "  0%|                                                   | 0/100 [00:00<?, ?it/s]"
     ]
    },
    {
     "name": "stdout",
     "output_type": "stream",
     "text": [
      "[DEBUG] httpcore.http11: receive_response_headers.started request=<Request [b'GET']>\n"
     ]
    },
    {
     "name": "stderr",
     "output_type": "stream",
     "text": [
      "  0%|                                                   | 0/100 [00:00<?, ?it/s]"
     ]
    },
    {
     "name": "stdout",
     "output_type": "stream",
     "text": [
      "[DEBUG] httpcore.http11: receive_response_headers.complete return_value=(b'HTTP/1.1', 200, b'OK', [(b'Date', b'Wed, 31 May 2023 19:02:51 GMT'), (b'Content-Type', b'application/json;charset=utf-8'), (b'Transfer-Encoding', b'chunked'), (b'Connection', b'keep-alive'), (b'x-tlk-request-id', b'099fe05539bef601eaa4b00ecc6bcd23'), (b'x-api-ver', b'16.release-278.29044.70d6c91'), (b'vary', b'Origin'), (b'vary', b'Access-Control-Request-Method'), (b'vary', b'Access-Control-Request-Headers'), (b'strict-transport-security', b'max-age=31536000'), (b'x-content-type-options', b'nosniff'), (b'x-xss-protection', b'1; mode=block'), (b'cache-control', b'no-cache, no-store, must-revalidate, max-age=0'), (b'x-frame-options', b'DENY'), (b'x-content-type-options', b'nosniff'), (b'vary', b'Accept-Encoding, User-Agent'), (b'content-encoding', b'gzip')])\n"
     ]
    },
    {
     "name": "stderr",
     "output_type": "stream",
     "text": [
      "  0%|                                                   | 0/100 [00:00<?, ?it/s]"
     ]
    },
    {
     "name": "stdout",
     "output_type": "stream",
     "text": [
      "[INFO] httpx: HTTP Request: GET https://sandbox.toloka.dev/api/v1/operations/57562e3a-c609-4567-928b-a5b208696c52 \"HTTP/1.1 200 OK\"\n"
     ]
    },
    {
     "name": "stderr",
     "output_type": "stream",
     "text": [
      "  0%|                                                   | 0/100 [00:00<?, ?it/s]"
     ]
    },
    {
     "name": "stdout",
     "output_type": "stream",
     "text": [
      "[DEBUG] httpcore.http11: receive_response_body.started request=<Request [b'GET']>\n"
     ]
    },
    {
     "name": "stderr",
     "output_type": "stream",
     "text": [
      "  0%|                                                   | 0/100 [00:00<?, ?it/s]"
     ]
    },
    {
     "name": "stdout",
     "output_type": "stream",
     "text": [
      "[DEBUG] httpcore.http11: receive_response_body.complete\n"
     ]
    },
    {
     "name": "stderr",
     "output_type": "stream",
     "text": [
      "  0%|                                                   | 0/100 [00:00<?, ?it/s]"
     ]
    },
    {
     "name": "stdout",
     "output_type": "stream",
     "text": [
      "[DEBUG] httpcore.http11: response_closed.started\n"
     ]
    },
    {
     "name": "stderr",
     "output_type": "stream",
     "text": [
      "  0%|                                                   | 0/100 [00:00<?, ?it/s]"
     ]
    },
    {
     "name": "stdout",
     "output_type": "stream",
     "text": [
      "[DEBUG] httpcore.http11: response_closed.complete\n"
     ]
    },
    {
     "name": "stderr",
     "output_type": "stream",
     "text": [
      "  0%|                                                   | 0/100 [00:01<?, ?it/s]"
     ]
    },
    {
     "name": "stdout",
     "output_type": "stream",
     "text": [
      "[DEBUG] httpcore.http11: send_request_headers.started request=<Request [b'GET']>\n"
     ]
    },
    {
     "name": "stderr",
     "output_type": "stream",
     "text": [
      "  0%|                                                   | 0/100 [00:01<?, ?it/s]"
     ]
    },
    {
     "name": "stdout",
     "output_type": "stream",
     "text": [
      "[DEBUG] httpcore.http11: send_request_headers.complete\n"
     ]
    },
    {
     "name": "stderr",
     "output_type": "stream",
     "text": [
      "  0%|                                                   | 0/100 [00:01<?, ?it/s]"
     ]
    },
    {
     "name": "stdout",
     "output_type": "stream",
     "text": [
      "[DEBUG] httpcore.http11: send_request_body.started request=<Request [b'GET']>\n"
     ]
    },
    {
     "name": "stderr",
     "output_type": "stream",
     "text": [
      "  0%|                                                   | 0/100 [00:01<?, ?it/s]"
     ]
    },
    {
     "name": "stdout",
     "output_type": "stream",
     "text": [
      "[DEBUG] httpcore.http11: send_request_body.complete\n"
     ]
    },
    {
     "name": "stderr",
     "output_type": "stream",
     "text": [
      "  0%|                                                   | 0/100 [00:01<?, ?it/s]"
     ]
    },
    {
     "name": "stdout",
     "output_type": "stream",
     "text": [
      "[DEBUG] httpcore.http11: receive_response_headers.started request=<Request [b'GET']>\n"
     ]
    },
    {
     "name": "stderr",
     "output_type": "stream",
     "text": [
      "  0%|                                                   | 0/100 [00:01<?, ?it/s]"
     ]
    },
    {
     "name": "stdout",
     "output_type": "stream",
     "text": [
      "[DEBUG] httpcore.http11: receive_response_headers.complete return_value=(b'HTTP/1.1', 200, b'OK', [(b'Date', b'Wed, 31 May 2023 19:02:52 GMT'), (b'Content-Type', b'application/json;charset=utf-8'), (b'Transfer-Encoding', b'chunked'), (b'Connection', b'keep-alive'), (b'x-tlk-request-id', b'a42177337add547e37efa0395568dbcc'), (b'x-api-ver', b'16.release-278.29044.70d6c91'), (b'vary', b'Origin'), (b'vary', b'Access-Control-Request-Method'), (b'vary', b'Access-Control-Request-Headers'), (b'strict-transport-security', b'max-age=31536000'), (b'x-content-type-options', b'nosniff'), (b'x-xss-protection', b'1; mode=block'), (b'cache-control', b'no-cache, no-store, must-revalidate, max-age=0'), (b'x-frame-options', b'DENY'), (b'x-content-type-options', b'nosniff'), (b'vary', b'Accept-Encoding, User-Agent'), (b'content-encoding', b'gzip')])\n"
     ]
    },
    {
     "name": "stderr",
     "output_type": "stream",
     "text": [
      "  0%|                                                   | 0/100 [00:01<?, ?it/s]"
     ]
    },
    {
     "name": "stdout",
     "output_type": "stream",
     "text": [
      "[INFO] httpx: HTTP Request: GET https://sandbox.toloka.dev/api/v1/operations/57562e3a-c609-4567-928b-a5b208696c52 \"HTTP/1.1 200 OK\"\n"
     ]
    },
    {
     "name": "stderr",
     "output_type": "stream",
     "text": [
      "  0%|                                                   | 0/100 [00:01<?, ?it/s]"
     ]
    },
    {
     "name": "stdout",
     "output_type": "stream",
     "text": [
      "[DEBUG] httpcore.http11: receive_response_body.started request=<Request [b'GET']>\n"
     ]
    },
    {
     "name": "stderr",
     "output_type": "stream",
     "text": [
      "  0%|                                                   | 0/100 [00:01<?, ?it/s]"
     ]
    },
    {
     "name": "stdout",
     "output_type": "stream",
     "text": [
      "[DEBUG] httpcore.http11: receive_response_body.complete\n"
     ]
    },
    {
     "name": "stderr",
     "output_type": "stream",
     "text": [
      "  0%|                                                   | 0/100 [00:01<?, ?it/s]"
     ]
    },
    {
     "name": "stdout",
     "output_type": "stream",
     "text": [
      "[DEBUG] httpcore.http11: response_closed.started\n"
     ]
    },
    {
     "name": "stderr",
     "output_type": "stream",
     "text": [
      "  0%|                                                   | 0/100 [00:01<?, ?it/s]"
     ]
    },
    {
     "name": "stdout",
     "output_type": "stream",
     "text": [
      "[DEBUG] httpcore.http11: response_closed.complete\n"
     ]
    },
    {
     "name": "stderr",
     "output_type": "stream",
     "text": [
      " 50%|█████████████████████                     | 50/100 [00:02<00:01, 43.13it/s]"
     ]
    },
    {
     "name": "stdout",
     "output_type": "stream",
     "text": [
      "[DEBUG] httpcore.http11: send_request_headers.started request=<Request [b'GET']>\n"
     ]
    },
    {
     "name": "stderr",
     "output_type": "stream",
     "text": [
      " 50%|█████████████████████                     | 50/100 [00:02<00:01, 43.13it/s]"
     ]
    },
    {
     "name": "stdout",
     "output_type": "stream",
     "text": [
      "[DEBUG] httpcore.http11: send_request_headers.complete\n"
     ]
    },
    {
     "name": "stderr",
     "output_type": "stream",
     "text": [
      " 50%|█████████████████████                     | 50/100 [00:02<00:01, 43.13it/s]"
     ]
    },
    {
     "name": "stdout",
     "output_type": "stream",
     "text": [
      "[DEBUG] httpcore.http11: send_request_body.started request=<Request [b'GET']>\n"
     ]
    },
    {
     "name": "stderr",
     "output_type": "stream",
     "text": [
      " 50%|█████████████████████                     | 50/100 [00:02<00:01, 43.13it/s]"
     ]
    },
    {
     "name": "stdout",
     "output_type": "stream",
     "text": [
      "[DEBUG] httpcore.http11: send_request_body.complete\n"
     ]
    },
    {
     "name": "stderr",
     "output_type": "stream",
     "text": [
      " 50%|█████████████████████                     | 50/100 [00:02<00:01, 43.13it/s]"
     ]
    },
    {
     "name": "stdout",
     "output_type": "stream",
     "text": [
      "[DEBUG] httpcore.http11: receive_response_headers.started request=<Request [b'GET']>\n"
     ]
    },
    {
     "name": "stderr",
     "output_type": "stream",
     "text": [
      " 50%|█████████████████████                     | 50/100 [00:02<00:01, 43.13it/s]"
     ]
    },
    {
     "name": "stdout",
     "output_type": "stream",
     "text": [
      "[DEBUG] httpcore.http11: receive_response_headers.complete return_value=(b'HTTP/1.1', 200, b'OK', [(b'Date', b'Wed, 31 May 2023 19:02:53 GMT'), (b'Content-Type', b'application/json;charset=utf-8'), (b'Transfer-Encoding', b'chunked'), (b'Connection', b'keep-alive'), (b'x-tlk-request-id', b'542c476d819a267c24cfefa22631b1b3'), (b'x-api-ver', b'16.release-278.29044.70d6c91'), (b'vary', b'Origin'), (b'vary', b'Access-Control-Request-Method'), (b'vary', b'Access-Control-Request-Headers'), (b'strict-transport-security', b'max-age=31536000'), (b'x-content-type-options', b'nosniff'), (b'x-xss-protection', b'1; mode=block'), (b'cache-control', b'no-cache, no-store, must-revalidate, max-age=0'), (b'x-frame-options', b'DENY'), (b'x-content-type-options', b'nosniff'), (b'vary', b'Accept-Encoding, User-Agent'), (b'content-encoding', b'gzip')])\n"
     ]
    },
    {
     "name": "stderr",
     "output_type": "stream",
     "text": [
      " 50%|█████████████████████                     | 50/100 [00:02<00:01, 43.13it/s]"
     ]
    },
    {
     "name": "stdout",
     "output_type": "stream",
     "text": [
      "[INFO] httpx: HTTP Request: GET https://sandbox.toloka.dev/api/v1/operations/57562e3a-c609-4567-928b-a5b208696c52 \"HTTP/1.1 200 OK\"\n"
     ]
    },
    {
     "name": "stderr",
     "output_type": "stream",
     "text": [
      " 50%|█████████████████████                     | 50/100 [00:02<00:01, 43.13it/s]"
     ]
    },
    {
     "name": "stdout",
     "output_type": "stream",
     "text": [
      "[DEBUG] httpcore.http11: receive_response_body.started request=<Request [b'GET']>\n"
     ]
    },
    {
     "name": "stderr",
     "output_type": "stream",
     "text": [
      " 50%|█████████████████████                     | 50/100 [00:02<00:01, 43.13it/s]"
     ]
    },
    {
     "name": "stdout",
     "output_type": "stream",
     "text": [
      "[DEBUG] httpcore.http11: receive_response_body.complete\n"
     ]
    },
    {
     "name": "stderr",
     "output_type": "stream",
     "text": [
      " 50%|█████████████████████                     | 50/100 [00:02<00:01, 43.13it/s]"
     ]
    },
    {
     "name": "stdout",
     "output_type": "stream",
     "text": [
      "[DEBUG] httpcore.http11: response_closed.started\n"
     ]
    },
    {
     "name": "stderr",
     "output_type": "stream",
     "text": [
      " 50%|█████████████████████                     | 50/100 [00:02<00:01, 43.13it/s]"
     ]
    },
    {
     "name": "stdout",
     "output_type": "stream",
     "text": [
      "[DEBUG] httpcore.http11: response_closed.complete\n"
     ]
    },
    {
     "name": "stderr",
     "output_type": "stream",
     "text": [
      "100%|█████████████████████████████████████████| 100/100 [00:02<00:00, 33.51it/s]"
     ]
    },
    {
     "name": "stdout",
     "output_type": "stream",
     "text": [
      "[DEBUG] httpcore.http11: send_request_headers.started request=<Request [b'GET']>\n",
      "[DEBUG] httpcore.http11: send_request_headers.complete\n",
      "[DEBUG] httpcore.http11: send_request_body.started request=<Request [b'GET']>\n",
      "[DEBUG] httpcore.http11: send_request_body.complete\n",
      "[DEBUG] httpcore.http11: receive_response_headers.started request=<Request [b'GET']>\n"
     ]
    },
    {
     "name": "stderr",
     "output_type": "stream",
     "text": [
      "\n"
     ]
    },
    {
     "name": "stdout",
     "output_type": "stream",
     "text": [
      "[DEBUG] httpcore.http11: receive_response_headers.complete return_value=(b'HTTP/1.1', 200, b'OK', [(b'Date', b'Wed, 31 May 2023 19:02:53 GMT'), (b'Content-Type', b'application/json;charset=utf-8'), (b'Transfer-Encoding', b'chunked'), (b'Connection', b'keep-alive'), (b'x-tlk-request-id', b'5b02cd09b6fb96e17303e698ad42b8ac'), (b'x-api-ver', b'16.release-278.29044.70d6c91'), (b'vary', b'Origin'), (b'vary', b'Access-Control-Request-Method'), (b'vary', b'Access-Control-Request-Headers'), (b'strict-transport-security', b'max-age=31536000'), (b'x-content-type-options', b'nosniff'), (b'x-xss-protection', b'1; mode=block'), (b'cache-control', b'no-cache, no-store, must-revalidate, max-age=0'), (b'x-frame-options', b'DENY'), (b'x-content-type-options', b'nosniff'), (b'x-qe-streaming', b'true'), (b'vary', b'Accept-Encoding, User-Agent'), (b'content-encoding', b'gzip')])\n",
      "[INFO] httpx: HTTP Request: GET https://sandbox.toloka.dev/api/v1/operations/57562e3a-c609-4567-928b-a5b208696c52/log \"HTTP/1.1 200 OK\"\n",
      "[DEBUG] httpcore.http11: receive_response_body.started request=<Request [b'GET']>\n",
      "[DEBUG] httpcore.http11: receive_response_body.complete\n",
      "[DEBUG] httpcore.http11: response_closed.started\n",
      "[DEBUG] httpcore.http11: response_closed.complete\n",
      "[DEBUG] httpcore.http11: send_request_headers.started request=<Request [b'GET']>\n",
      "[DEBUG] httpcore.http11: send_request_headers.complete\n",
      "[DEBUG] httpcore.http11: send_request_body.started request=<Request [b'GET']>\n",
      "[DEBUG] httpcore.http11: send_request_body.complete\n",
      "[DEBUG] httpcore.http11: receive_response_headers.started request=<Request [b'GET']>\n",
      "[DEBUG] httpcore.http11: receive_response_headers.complete return_value=(b'HTTP/1.1', 200, b'OK', [(b'Date', b'Wed, 31 May 2023 19:02:53 GMT'), (b'Content-Type', b'application/json;charset=utf-8'), (b'Transfer-Encoding', b'chunked'), (b'Connection', b'keep-alive'), (b'x-tlk-request-id', b'9d0fc2128f8df13c22ff90fbe24b9a59'), (b'x-api-ver', b'16.release-278.29044.70d6c91'), (b'vary', b'Origin'), (b'vary', b'Access-Control-Request-Method'), (b'vary', b'Access-Control-Request-Headers'), (b'strict-transport-security', b'max-age=31536000'), (b'x-content-type-options', b'nosniff'), (b'x-xss-protection', b'1; mode=block'), (b'cache-control', b'no-cache, no-store, must-revalidate, max-age=0'), (b'x-frame-options', b'DENY'), (b'x-content-type-options', b'nosniff'), (b'vary', b'Accept-Encoding, User-Agent'), (b'content-encoding', b'gzip')])\n",
      "[INFO] httpx: HTTP Request: GET https://sandbox.toloka.dev/api/v1/tasks?pool_id=1510547&id_lte=0000170c93--647799dcff14706a9f8f0fa3&id_gte=0000170c93--647799dcff14706a9f8f0fa1&sort=id \"HTTP/1.1 200 OK\"\n",
      "[DEBUG] httpcore.http11: receive_response_body.started request=<Request [b'GET']>\n",
      "[DEBUG] httpcore.http11: receive_response_body.complete\n",
      "[DEBUG] httpcore.http11: response_closed.started\n",
      "[DEBUG] httpcore.http11: response_closed.complete\n",
      "Populated pool with 2 tasks\n"
     ]
    },
    {
     "ename": "NameError",
     "evalue": "name 'new_project' is not defined",
     "output_type": "error",
     "traceback": [
      "\u001b[0;31m---------------------------------------------------------------------------\u001b[0m",
      "\u001b[0;31mNameError\u001b[0m                                 Traceback (most recent call last)",
      "Cell \u001b[0;32mIn[12], line 11\u001b[0m\n\u001b[1;32m      9\u001b[0m toloka_client\u001b[38;5;241m.\u001b[39mcreate_tasks(tasks, allow_defaults\u001b[38;5;241m=\u001b[39m\u001b[38;5;28;01mTrue\u001b[39;00m)\n\u001b[1;32m     10\u001b[0m \u001b[38;5;28mprint\u001b[39m(\u001b[38;5;124mf\u001b[39m\u001b[38;5;124m'\u001b[39m\u001b[38;5;124mPopulated pool with \u001b[39m\u001b[38;5;132;01m{\u001b[39;00m\u001b[38;5;28mlen\u001b[39m(tasks)\u001b[38;5;132;01m}\u001b[39;00m\u001b[38;5;124m tasks\u001b[39m\u001b[38;5;124m'\u001b[39m)\n\u001b[0;32m---> 11\u001b[0m \u001b[38;5;28mprint\u001b[39m(\u001b[38;5;124mf\u001b[39m\u001b[38;5;124m'\u001b[39m\u001b[38;5;124mTo view this pool, go to https://sandbox.toloka.yandex.com/requester/project/\u001b[39m\u001b[38;5;132;01m{\u001b[39;00m\u001b[43mnew_project\u001b[49m\u001b[38;5;241m.\u001b[39mid\u001b[38;5;132;01m}\u001b[39;00m\u001b[38;5;124m/pool/\u001b[39m\u001b[38;5;132;01m{\u001b[39;00mnew_pool\u001b[38;5;241m.\u001b[39mid\u001b[38;5;132;01m}\u001b[39;00m\u001b[38;5;124m'\u001b[39m)\n",
      "\u001b[0;31mNameError\u001b[0m: name 'new_project' is not defined"
     ]
    }
   ],
   "source": [
    "tasks = [\n",
    "    toloka.Task(\n",
    "        input_values={\n",
    "            \"image\": url\n",
    "        }, \n",
    "        pool_id=new_pool.id\n",
    "    ) for url in urls\n",
    "]\n",
    "toloka_client.create_tasks(tasks, allow_defaults=True)\n",
    "print(f'Populated pool with {len(tasks)} tasks')\n",
    "# print(f'To view this pool, go to https://sandbox.toloka.yandex.com/requester/project/{new_project.id}/pool/{new_pool.id}')\n"
   ]
  },
  {
   "cell_type": "code",
   "execution_count": 10,
   "id": "308becb1-6aca-4ae2-8a36-0867bd5ee2f1",
   "metadata": {
    "collapsed": true,
    "jupyter": {
     "outputs_hidden": true
    }
   },
   "outputs": [
    {
     "name": "stdout",
     "output_type": "stream",
     "text": [
      "[DEBUG] urllib3.connectionpool: Starting new HTTPS connection (1): 2.downloader.disk.yandex.ru:443\n",
      "[DEBUG] urllib3.connectionpool: https://2.downloader.disk.yandex.ru:443 \"POST /preview/4d586b37bdaa2c56feac0df50988ace5692b7d8171de02ef11746e7c7027eb61/inf/HXXK3JGF4-pHH7QlKGowRbiNAs53ek8hEPIjru4DeDDzU30X0XYLZQ6HrBCzGau1BtHXYs1LiBsYy3pBf0vuaQ%3D%3D?uid=135551846&filename=barcode_03.png&disposition=inline&hash=&limit=0&content_type=image%2Fpng&owner_uid=135551846&tknv=v2&size=2066x1368 HTTP/1.1\" 200 8792\n",
      "[DEBUG] charset_normalizer: Encoding detection: Unable to determine any suitable charset.\n",
      "�a��5!�G�\u0006g\u001b{��ܕ�\u0002�\"\u0011�\u0000d Jm�lX�co��� \\�FG��ۺذ\u0018̼�\u001b1�zn�\u0013\u0007�t����\u001e",
      "\"e�\u0010�M��w�`�\u000e�4��C�\u0004�\u0003<'�H��pf\u0002σ��\".[�0\u0002�=�><��6�\u0004�a��5!�G�r�Gǔ�����L>\u001e",
      "2�;��\u0001\u001aG���M�r�\f",
      "\u001f�t��նn\u0006���s�d\\�\u0003\u0007�\u001d",
      "?i�m��\u001a83��M�r�\u0019�m��\u0017rW�\u0005�G\u0006x>i��Y�3���\"�J�\u0007��\u0000񿦅�ap�5!�G�f>\u0007�\u0000��4,�\u000b",
      "����\u000e�<@l�8rA�R\u001fl�\u0016o������ftp��>٘,�\u001b���� \f",
      "Α�sT�[5\u000b",
      "�77`��+�\u00057H�G��B-���\u001b��Eܕ�\u0000\u0016l\u001f�t��նn\f",
      "�\t7a�~M����\u0007�\u001d",
      "?i�m��5�M�a\u001f�e��#\u001b{�Eܕ�\u0003\u0019�\u001e",
      "xG�=4l��݂.�H\u0018����?!�\u001c",
      "���\u0012o;\t��l�\u001d",
      "2\u001c",
      "��&�ɶ��\u001b<����?�B�0�x˚���.r��\u0017<�\u0000�g\u001b~\u0018`����H\u000b",
      "6�\f",
      "�|�gܳ\u0006g\u001b{�Eܕ�\u0000!;�\u001b�hZ&\u0017��\u0019sR\u001d",
      "�x�];�\u001b�hZ&\u001f\u000f\tqR\u001d",
      "�x�ٴp���\u001f:��C홂̍�S���a��Ò\u000f���f`�|n��'Ԁ3:G|${���j\u0017,m����ܕ�\u0002��{#��!\u0016�\"卭�\"�J�\u000b",
      ">\u00102>~�j�7\u0006g\u0004�G�󗧅�\u0007�\u001f?i�m��5�M�a\u001f�e��#\u001b{��ܕ�\u0003\u0019��xG�=4l��݂.�H\u0018����?!�\u001c",
      "���\u0013x�r\u0013�l�\u001d",
      "2\u001c",
      "��.�ɶ��\u001bD���G�\u0000�ԅ2a�V�)s�ću\u001e",
      "\"�-��s����LN\u001e",
      "2�;��\u0000�cm?�.�\f",
      "��\u0010&����rXq��\u0004]�^�\u0010)\u000f�\u0010%H�,\u0003�/\u0011���\u001d",
      "\u001f��=7x�\u001c",
      "9\u001c",
      "��\u000f�f\u0011/8�Lzl���N�\f",
      "�|ԇ�3\u0000�g�HGt����K�.��\u0012��\u0000�ޞ.��#��m�l`���v\u0018K��<\u0005.a!\u001f�\f",
      "�(�\u0000���D��<$\u001d",
      "H����:\\�Gt� ��x�:�k�\u0010\u0006��sT�[5\u0006d,�G�A�R\u0011l�\u0019�\u001c",
      "����\u001e",
      "T�\u001b�\u0006�0��h�I��\u0000�\u000e�<F1=��<�\u001e",
      "7&\n",
      "d���.jC���\u0006c\u001b{�Eܕ�\u0001\u0000�\u0019�\u0002T����\u0000���\"�J�H��*Gu�`\u001c",
      "�y�:c�d���tpds�>٘D��\u001d",
      "1�zn�:829�R\u001fl�\u0003e��\u001d",
      "\u001e",
      "So\u001bc\u00057\u0004���\\����=�:<��6�\n",
      "n\t7a�����R�'\u0010�sM\u001d",
      "�x���x�*�k�\u0011\u0013\u0013�t����D��\u0000<d\u0015H�=�\u000ej��f�̅�H�H9�B-�C2\u0003�S�<cʑ�r`٦\u001f\u000f\u0019sR\u001d",
      "�x\f",
      "f{�yR<nL\u001b4���.jC��\u0000\f",
      "�6�`��+�\u0005�Dd|\tM���\u0014�m��\u0017rW�\u000b",
      "����\u0012�w[\u0016\u0003\u0019��C�=6OM�\t��:\\�g}\u000f\u0010K�!�\u001e",
      "�'��\u0004��\u001d",
      ".i����\t��xOڑ\u0017-��\u000b",
      ">\u000f��~Ԉ�n\f",
      "�\n",
      "d����x�\u0018\u0013I���\\ԇu\u001e",
      "!˞�\u001f\u001e",
      "So\u001bc\u0002i0�x˚���\u0004i\u001e",
      "�\u0017=6E�P0����Vٸ\u001aG���M�r�\f",
      "\u001f�t��նn\u0000h��\u0007�6}�0fq��\u0004]�^�\u0016m\u001c",
      "\u0019���Ϲf\f",
      "�6�`��+�\u0000\u001f\u0003�\u0000���\u0016y���\\ԇu\u001e",
      "!��\u001f�7�г�.\u001e",
      "2�;��\u0001�h��\u0007�H}�0Y�7S���A��Ò\u000f���f`�|n��'Ԁ3:G�=�R\u0011l�.X�݂.�H\u0014�#�\u001e",
      "�j\u0017,nn�\u0017rW�\u0000Y�����Vٸ3X$݆\u0011�6^�\u0016\\\u001f�t��նn\f",
      "�\t7a�~M����m��\u0017rW�\f",
      "fdy�\u001f��ѳco��� c3#����s\u00073pI��'�m�<t�s7\u0004���&�#�l���\u0017<�\u0000�\n",
      "�a��5!�G��g�xǕ#����L>\u001e",
      "2�;��\u0000��o��� \\�FG��ۺرL���\u0011w%z@�Ȍ��)�u�`1�y�:c�d����\\C��6w��\u0004��\u001d",
      "1�zn�L.!��;�x��\u001f���\u0011r�\u0019����\u0000<'�H����\u0000�O|��)����4�|<e�HwQ�\u001c",
      "����6�0&�\u000f����\u000e�<@F���s�d\\�\u0003\u0007�\u001d",
      "?i�m���{<\\��\u0017-@��GO�m[f�\u0006�\f",
      "�|�gܳ\u0006g\u001b{�Eܕ�\u0001f���\u000f�l��`��o��� \u0001�?�o�g�\\<e�HwQ�\u0019���\u0000�M\u000b",
      "<���.jC��\u0010\u001b6�\u001c",
      "�}T��3\u0005��u?�>�\u0019�\u001c",
      "9 ��\u000f�f\u000b",
      "7��r}H\u00033�{#��!\u0016�B���\"�J�M�=��j��f�r���\u0011w%z@\u0005�\u0007�\u001d",
      "?i�m��5�M�a\u001f�e��e��GO�m[f��`�v\u0018G��z���\u0011w%z@�fG�\u0011�\u000fM\u001b66�`��+�\u000632<���zh\u00070s7\u0004���&�#�L�3pI��'�m�<\u0006�-��s�����>\u001e",
      "2�;�x������?�B�0�x˚���\u0001����\u0011w%z@@$Fw��#���\u0000�o���  \u0012#;�J��rX\u00072^q\u000e���=7x�\u001c",
      "\u0019\u001c",
      "��\u000f�f\u0011/8�Lzl���N�\f",
      "�|ԇ�3\u0000�g�GG�����M�&�0�9zx�O|��)������M�a.r��\u0014���:\\�Gt�\"q�2�C�=6OM�'G\u0006G>jC홄K�!�\u001e",
      "�'��\u0013��#�5!���6Y���6�0SpI�\f",
      "%�^�.S�#��m�l`���v\u0018K��<\u0005.bq\u000e�4��7��_猂�\u0016�a\u001118�K�h��N/��AT�\\���#� �i\f",
      "�Y��d���\"٤3 95=��<�\u001e",
      "7&\n",
      "�Z�D��\u001d",
      ".i��o\u00118��\u0019\u0005R-r�\u00024�d���\"٤3!f�=�\u000ej��f�̀����\u0018�xܘ6i���\\ԇu\u001e",
      "\u0003\u0019���\u001e",
      "T�\u001b�\u0006�0�x˚���\u00033���\"�J�s�\u0019\u001f\u0002Sn�b�3\u001b{�Eܕ�\u0002�\"2>\u0004���ŀ�e�\u0010�M��w�aq\u000e�4��C�\u0012�tǦ���0��K�l��\u0002p�\u0013��E�pf\u0002σ��\".[�0\u0002�=�><��6�\u0004�a��5!�G�r�Gǔ�����L>\u001e",
      "2�;��\u0001\u001aG���M�r�\f",
      "\u001f�t��նn\u0006���s�d\\�\u0003\u0007�\u001d",
      "?i�m��\u001a83��M�r�\u0019�m��\u0017rW�\u0005�G\u0006x>i��Y�3���\"�J�\u0007��\u0000񿦅�ap�5!�G�f>\u0007�\u0000��4,�\u000b",
      "����\u000e�<@l�8rA�R\u001fl�\u0016o������ftp��>٘,�\u001b���� \f",
      "Α�sT�[5\u000b",
      "�77`��+�\u00057H�G��B-���\u001b��Eܕ�\u0000\u0016l\u001f�t��նn\f",
      "�\t7a�~M����\u0007�\u001d",
      "?i�m��5�M�a\u001f�e��#\u001b{�Eܕ�\u0003\u0019�\u001e",
      "xG�=4l��݂.�H\u0018����?!�\u001c",
      "���\u0012o;\t��l�\u001d",
      "2\u001c",
      "��&�ɶ��\u001b4����?�B�0�x˚���.R��\u0017<�\u0000�\n",
      "l���.jC���\u0006c\u001b{�Eܕ�\u0001\u0000�\u0019�\u0002T����\u0000���\"�J�H��*Gu�`\u001c",
      "�y�:c�d���tpds�>٘D��\u001d",
      "1�zn�:829�R\u001fl�\u0003e��\u001d",
      "\u001e",
      "So\u001bc\u00057\u0004���\\����=�:<��6�\n",
      "n\t7a�����R�'\u0010�sM\u001d",
      "�x���x�*�k�\u0011\u0013\u0013�t����D��\u0000<d\u0015H�=�\u000ej��f�̅�H�H9�B-�C2\u0003�S�<cʑ�r`٦\u001f\u000f\u0019sR\u001d",
      "�x\f",
      "f{�yR<nL\u001b4���.jC��\u0000\f",
      "�6�`��+�\u0005�Dd|\tM���\u0014�m��\u0017rW�\u000b",
      "����\u0012�w[\u0016\u0003\u0019��C�=6OM�\t��:\\�g}\u000f\u0010K�!�\u001e",
      "�'��\u0004��\u001d",
      ".i����\t��xOڑ\u0017-��\u000b",
      ">\u000f��~Ԉ�n\f",
      "�\n",
      "d����x�\u0018\u0013I���\\ԇu\u001e",
      "!˞�\u001f\u001e",
      "So\u001bc\u0002i0�x˚���\u0004i\u001e",
      "�\u0017=6E�P0����Vٸ\u001aG���M�r�\f",
      "\u001f�t��նn\u0000h��\u0007�6}�0fq��\u0004]�^�\u0016m\u001c",
      "\u0019���Ϲf\f",
      "�6�`��+�\u0000\u001f\u0003�\u0000���\u0016y���\\ԇu\u001e",
      "!��\u001f�7�г�.\u001e",
      "2�;��\u0001�h��\u0007�H}�0Y�7S���A��Ò\u000f���f`�|n��'Ԁ3:G�=�R\u0011l�.X�݂.�H\u0014�#�\u001e",
      "�j\u0017,nn�\u0017rW�\u0000Y�����Vٸ3X$݆\u0011�6^�\u0016\\\u001f�t��նn\f",
      "�\t7a�~M����m��\u0017rW�\f",
      "fdy�\u001f��ѳco��� c3#����s\u00073pI��'�m�<t�s7\u0004���&�#�l���\u0017<�\u0000�\n",
      "�a��5!�G��g�xǕ#����L>\u001e",
      "2�;��\u0000��o��� \\�FG��ۺرL���\u0011w%z@�Ȍ��)�u�`1�y�:c�d����\\C��6w��\u0004��\u001d",
      "1�zn�L.!��;�x��\u001f���\u0011r�\u0019����\u0000<'�H����\u0000�͗[s�UŮWY\u001d",
      "�{�����Vڪ�a\u000b",
      "����J\u0010�iJ\u0011�)B\u0011���2�3!�X*_�C��J�}����ߙ�ٔ��R��D���\u0003��B�O��'S~\u0000\u001e",
      " '\u0007��?jD\\�\u0006`,�?�\t�R\"�3\u0000)��#��m�l`M&\u001f\u000f\u0019sR\u001d",
      "�x�.{�|yM�m�\t����.jC��\u0010\u0011�{<\\��\u0017-@��GO�m[f�i\u001e",
      "�\u0017=6E�P0����Vٸ\u0001��<\u001f4��,�����\u0011w%z@Y�pg��>�38�݂.�H\u0000|\u000f�\u0000\u001b�hY�\u0017\u000f\u0019sR\u001d",
      "�x�c����B�0�x˚���\u0006ͣ�$\u001fU!���f��O�O�\u0006gG\u000eH>�C홂��ܟR\u0000��\u001e",
      "��5HE�P�cs��� St�d{��\"٨\\���\u0004]�^�\u0001f��GO�m[f��`�v\u0018G��zxYp����Vٸ3X$݆\u0011�6^�\u00021��\u0004]�^�1���~C�F͍��\"�J�̏<#�\u001e",
      "�\u0001�\u001c",
      "��&�ɶ���!��\u0012o;\t��l�\u0001�K,\\���)�\u000f����\u000e��\"�-��s�����>\u001e",
      "2�;�x�f1��\u0004]�^�\u0010\t\u0011��%H�,?��݂.�\u0004���\u0012�w\\�\u0001̗�C�=6OM�'G\u0006G>jC홄K�!�\u001e",
      "�'��\u0013��#�5!���6Y���6�0SpI�\f",
      "%�^�.S�#��m�l`���v\u0018K��<\u0005.bq\u000e�4��7��_猂�\u0016�a\u001118�K�h��N/��AT�\\���#� �i\f",
      "�Y��d���\"٤3 95=��<�\u001e",
      "7&\n",
      "Z�̏ \u0000�1�\u0001Es\u000eU�\u001c",
      "�s��o\u0002_e5\u0018Wx(�E ��J��YT'�uQ�\t���\u0016lR����D�P�2�ߞ͝װ#�P�����[�](U\u001a�Ud��\u001e",
      "_��@\u0001@Ä��0����H�\u001c",
      "K\u0013|B�C+����gx7�kWgZ�%��7,b��cy�Z�+�\u0014v�I �P��k,�5\u0016F�z�\u0006\u0019��M����_�\u001f����~�e�\u0000k߻^�c����;:��\n",
      "0��gu��v�\u0017���R�{˥UQ�UVO�Q����R��s8�&�zA�݁��bjj7�l�ve\u0016z�.��MJSJu!\tH�\\��pt\u0002b�&\u0018��\u001d",
      "\u001c",
      "�g^$y5\u001e",
      "��ie�\u0000x��,�b������\u0017QE�U(N�!#�#\u001e",
      "\f",
      "o\u0016�\u000b",
      "����쏷�6�B�=���4,�f\u001c",
      "BT5u��S_��\u0012J�Se:�u�Uη�F|X�m_v\f",
      "���~2cY���Ap���S+\u001box)=��Q�\tWa\u000b",
      "m�ģ<R�\u0011����Y��\u001b\u001a�/���h�Z�*�ʴ\u0018b\u0016T�\u0010��*�{_��\u0007�û�&L�r1�\u001f�\u001b\u001a�(U\u0006������=�A�J�l�7iRP�vR�\u0016�[R��/V��\u000f����3\u0011�mL�\u0013�#8[��^\u000b",
      "���K\u0012½��Ɔ�ݣ�\f",
      "�lm�����%d�YeQ���n2�h��>�\u0010��g�KK\u001a�d�[�*�wt\\�d��*J�,�jY(Nʪ���F�i֔��x��2o�\f",
      "���T�s;\u001c",
      "k�ďs�\u000b",
      "5\u0014��S�Gn�\u0014P�x�e\u0015BUU\u001a��k׭�\":��Yx��_o\u0004\u0013+��r1\u0015�\u001c",
      "]��$5�\u0007SY\u000b",
      "w����俹��/�����:�Q���\u000f\f",
      "\u001a�R��\u001d",
      "�\"Wc�Ʀ�.�Ύ̤�ؔ-��6\u0013�qY)��D�0�G������\u0000~ńB�p���\u0011\u0003�w��c�5(X�\u0013�,�i�խ]e�;H��\u001e",
      "h���bD���f.l\\Kݹ�\u001c",
      "Q���u<;�l�$�\u0016�\u0019�Qe���jU\u000b",
      "��5�miJ\u0004�c\u001e",
      "��z-T���|֭�\u0014���4�1\u00143\n",
      "�\u0005\u0017����V�Ժ�J�\u0005.�J�)��Q�sG�\u0004V\u0019�xT�cuv�۱�c+cgx)\u001d",
      "��QW�J�]>'\u0017�R�{�N�Ą\u0005\u0015œRP���W|w�ϴ�=a����=���nGj��\u001bmF����R�u����O����K�O�|܄!�\u001bc��|CK��d���\u0012[i>�L)\n",
      "+�r��䃝^�x\u0012�)��{�D�)R\u000fU+k1eP�\u0015�F�z�~cs\u0000\u0000s�l��s?f�Z�uA����mje7�l���\u0018z�(���BQ�\tBuJ5��62�3%�X._�C��J�}����ߙ�ٔ��\u0012��D���\u0003��B�O��'S~\u0000\u0019�)!g�i\"\"(f\u0019a��f�����U\u000b",
      "��j)u��҅Q�UVO�Q�,ҕ���p���Gwow�\u0018�Z��Un���QU�֪R��Y\tF�%(\u0016p~)\u0001�A�\u0014X��Tk0\u001b\u001d",
      "]�4�r\u0016����\n",
      "Ohj\u0014cBU�B�h�$�\u0014��{�~(�F0\u0014V��\\\u00150\u0018�]�4�q�����\n",
      "GfjTlB\u0015�Ҷ�|N/�\n",
      "�\u001e",
      "��[�\u0011�\u0003\f",
      "�|\u0005\u0015�SRo>�\u0007Wsw�/�5:��\u0005\u0019�\n",
      "����Ԣ�J�\u0006��K!\t��D����\u0000\u0000\u0000\u0000\u0000\u0000\u0000\u0000\u0000\u0000\u0000\u0000\u0000\u0000\u0000\u0000\u0000\u0001�\u0000\u0000<�F\"�.ֆ\u0013�i(��X��g=rMU\tF�j��P��~IBP�\n",
      "L\u0017*�P�T��� ��G�n�]�폖��0�uR��Uv\u000b",
      "Q\tJ�N�������S�\u0000����\u001f�/*�$\u0014��L�V7��\u0007�\u000en1T�Թ�}+,Z��Ԅ%\u0003�\u0003J'41\u0010;\u001fk��\u0017�K�ܗk�W��,�\u0019\tO�\u0014Ae��dF��IԄ#_�\u0000\u0001c\u0013$�����J6ƭ��w�\u001bT`�J��AŪ�>�]�\u0012Bv=���+mx��P�@�\u0011�\u0015��q�O�\\�X�K#>��'��\u001c",
      "��Y�1\t���5���\u0000\f",
      "�\u0000\u0007�\n",
      "\u0005/��O�J;2��]o\u0004,��K'R5�{W�.e�(C{ܖ��\tLM=�Wb��-\tB�\u0014��B�/�紟�P\u0000,ťs|�l�q*�C�#DQq店t�����ALˡ*��vE����N��_id�G���y>�_��ʏ����C�gs����[\t\u000b",
      "'ZU-\n",
      "�g\u0013�����$��ư:Vt��knP��\u0019���W!B�B��#m)Jڐ�k�@\u0000%e���AR��\u000eEj�-O��%|��Q����i,gUd��U�-MiY)�]m�����:�\u0000\u0000j�#2\u0000�\u0000\u0000\u0000\u0000\u0000\u0000\u0000\u0000\u0000\u0000\u0000\u0000\u0000\u0000\u000f��\n",
      "[DEBUG] urllib3.connectionpool: Starting new HTTPS connection (1): 2.downloader.disk.yandex.ru:443\n",
      "[DEBUG] urllib3.connectionpool: https://2.downloader.disk.yandex.ru:443 \"POST /preview/16ef8969eeb9d96fb2260a58736a7e03bd1f5e4ff663c3a40ed3e3c16dc943c9/inf/RU0Sq2RN6Cb5MUd01dMhZLiNAs53ek8hEPIjru4DeDAzNByppXSizKVS6H2CCfRSyJeW_0q9BaI4bD6PVOd88g%3D%3D?uid=135551846&filename=barcode_04.png&disposition=inline&hash=&limit=0&content_type=image%2Fpng&owner_uid=135551846&tknv=v2&size=2066x1368 HTTP/1.1\" 200 10390\n",
      "[DEBUG] charset_normalizer: Encoding detection: Unable to determine any suitable charset.\n",
      "����\u0000\u0010JFIF\u0000\u0001\u0001\u0000\u0000\u0001\u0000\u0001\u0000\u0000��\u0000C\u0000\u0005\u0003\u0004\u0004\u0004\u0003\u0005\u0004\u0004\u0004\u0005\u0005\u0005\u0006\u0007\u0007\u0007\u0007\u0007\u000f\u000b",
      "\u000b",
      "\t\f",
      "\u0011\u000f\u0012\u0012\u0011\u000f\u0011\u0011\u0013\u0016\u001c",
      "\u0017\u0013\u0014\u001a\u0015\u0011\u0011\u0018!\u0018\u001a\u001d",
      "\u001d",
      "\u001f\u001f\u001f\u0013\u0017\"$\"\u001e",
      "$\u001c",
      "\u001e",
      "\u001f\u001e",
      "��\u0000C\u0001\u0005\u0005\u0005\u0007\u0006\u000e\u001e",
      "\u0014\u0011\u0014\u001e",
      "\u001e",
      "\u001e",
      "\u001e",
      "\u001e",
      "\u001e",
      "\u001e",
      "\u001e",
      "\u001e",
      "\u001e",
      "\u001e",
      "\u001e",
      "\u001e",
      "\u001e",
      "\u001e",
      "\u001e",
      "\u001e",
      "\u001e",
      "\u001e",
      "\u001e",
      "\u001e",
      "\u001e",
      "\u001e",
      "\u001e",
      "\u001e",
      "\u001e",
      "\u001e",
      "\u001e",
      "\u001e",
      "\u001e",
      "\u001e",
      "\u001e",
      "\u001e",
      "\u001e",
      "\u001e",
      "\u001e",
      "\u001e",
      "\u001e",
      "\u001e",
      "\u001e",
      "\u001e",
      "\u001e",
      "\u001e",
      "\u001e",
      "\u001e",
      "\u001e",
      "\u001e",
      "\u001e",
      "\u001e",
      "\u001e",
      "��\u0000\u0000�\u0001\u000b",
      "\u0003\u0001\"\u0000\u0002\u0011\u0001\u0003\u0011\u0001��\u0000\u001c",
      "\u0000\u0001\u0000\u0003\u0000\u0003\u0001\u0001\u0000\u0000\u0000\u0000\u0000\u0000\u0000\u0000\u0000\u0007\u0000\u0002\u0004\u0005\u0001\u0003��\u0000E\u0010\u0000\u0000\u0004\u0003\u0005\u0005\u0005\u0003\u0002\u0005\u0005\u0001\u0000\u0000\u0001\u0002\u0003\u0004\u0000\u0005\u0006\u0011v�!78u�\t\u00126�\u001319Arst�\u0014\"3Qa\u00152q#�5BRb�\u0016\u0017\u0018$����\u0000\u0014\u0001\u0001\u0000\u0000\u0000\u0000\u0000\u0000\u0000\u0000\u0000\u0000\u0000\u0000\u0000\u0000\u0000\u0000��\u0000\u0014\u0011\u0001\u0000\u0000\u0000\u0000\u0000\u0000\u0000\u0000\u0000\u0000\u0000\u0000\u0000\u0000\u0000\u0000��\u0000\f",
      "\u0003\u0001\u0000\u0002\u0011\u0003\u0011\u0000?\u0000�q\"D��-\u001c",
      "�N�*E\u00139�rJ]\u0018�(�%\u0010H�@}�\u0002�L�`����Q��.�G@e� ���q\u0003\u001fo�\u001c",
      "Dv�>���L��M���O\u0001�/��ٔ��@ K]:5�&�L�c5%\u001a�B�*\u000f�\u0003��@M��\f",
      "D\u0000\u0003\u001f�\u0003e��ѻF�%\u0019��e����1rA�\u0000\u000b",
      "1��\u001e",
      "��m�z��l����Ji�V\u0000�^�E>z�Th\u0000\u000b",
      "R�����T6oT�\u0011E)ò&D�\n",
      "��\u0007�\u001a�2%�nn�y����\u0001��t跚�\u0019\u0011��j�=1P�s\u0002���\"\u0000#��\u00001��\u001d",
      ":mPى\u001b�Y\u0012/X ��L�PP��q�\u000fXb\u00008\u000f�\u001f�K�=\u001b��]T\"^\u0003ĖW�\u0010ӯ\u0000Oj�y�{\u0015��-���]�Z�m�#�\u0014�Te�H 8�?1�\u0007�?�/H\\85窆�p��'L�P��ǸSa�\u0000���g���i�\u0000\u0014��\u0013��hޅ�s�\u001a5`\u0015�(���l���\u0011É��wS<#�\u0014\\�2�\u0003<��\u0011\u001c",
      "L\u0001�\n",
      "���f&�\u0018ɽ�{�g�[�W�g��Gu�A4��`w�g~R�����1Q�#�� �yr0;�3�)V\\CP�\u0001�׳�L�hA]縲�o��kՅG^���2}�\u0005w���ɾ�M�V\u0002��[�j7�\\�����7�c|�[��Gio��߭s�\u0012*��ߝ���n�\u0003�;������`C�ߋY\u000eN{�F\u0001'~���\u00009\u001f{��k!��uH�|��&-K��zk�*���O+�z��\u001b=�bԹ|���r�����Ǭ�\u0007R�5R�\u0000\u001b�r��\u0003�-᪗��k��(\t\u0012$H\t\u0012$Hҁt�[�ZcU\u001c",
      "�v�1��$���\u0013\u0013&�{�\u0003�1�1�ׄs�\u001d",
      "�%�iVEr�[\u001e",
      "��(t@�\u00041�d@\f",
      "%�\u0001\u0010۷����q1j\\�K�^9�\\URy^c�F\u0003�۷o��L�|�÷\u00073�2��c��<\\\u0003��\u0000\u0000\u001f�\u000b",
      "x\u0007��\u0000�\u001e",
      "�o\n",
      "��n����'��\u0017�wl�o�M���7qSrw}\u0013�e\u000b",
      "�;�e7�&�\u0017�o\u0017S���X�\u0001ʽ��|�����-��u��k\u0015�9W��O���\u001a\u00031���*�v�x��'�]��f�6��J����6u\t��a�\u0019��\u0000��{}�l����-ٯ�n��ѭ\u0004����e�5.�n�|;v����h\n",
      ":�\u00036�����\u0006�F0�O�WU�Y]x\u0018���^\u000f87�1�z���*����K\u000f�\u0015��d��M�\u0012��>Bߪ�k+\u000f�\u0015��d��M�\u0012��>Bߪ�\u0003E\u001d",
      "�;��\t��#\u0003��;�e�5\u000ea���\u001d",
      "��\u0004�ˑ��ѝ�J��\u001a�0\u000e�����d�B6�XTu��.S'�\u0010Wy�,���$��`-\u001d",
      "��\u0016�~���H�ޓ~v7�庨�v��Z���?a\"�zM���/��;ӿi{���\u0004=�����纤`\u0012w�/o������\u0016�\u001c",
      "��T�\u0007�=�bԹ|���r�����Ǭ�q��&-K��zk�*���O+�z��u.[�U/��/\f",
      "P;r�\u001a����xb��\"D��\"D��Zf�*nN�x\f",
      "�|Gv̦�\u0000D�\u001c",
      "�3w\u00157'w�<\u0006P�#�fS�m\u0001{��u:�M5��\u001c",
      "��h��[ʍ\u000f��.�Y)��X\u0003�{M\u0014��yQ�3\u001d",
      "��R��o:獝B~��~�c��ck;ԫy�ι�gP��v\u001f����G��&�hj]Bݚ�v�\u001b�\u001a�I�=��6[CR�\u0016��÷k��hր�]o�\u001bO��\u001e",
      "`�=�F�,���ѫ\u0000�[���)ǘ'\u000fvѽ\u000b",
      "$��4j�+FD�m���4���ƻ��bۛ��i{���d�x��r�˪�K�x���\u001au�T�Sѹje�B%�<Iey��\u001a�P�f�\u001d",
      "�_��F�\u0005J�|p��8�\u0004���7�d��ƍX\u0004��\u001c",
      "6��N<�8{���Y'?q�V\u0001Z2%�nn�y����5�dK\u0016����K߽�\u0003%K�=\u001b��]T\"^\u0003ĖW�\u0010ӯ\u0012�➍�S.�\u0011/\u0001�K+Έi׀\u0019���^\u000f87�1�z���*����ů�2�y��Q�3��U�yV_�^\u0002X~�g3'�F2oh��\u0019�\u0016�U�YX~�g3'�F2oh��\u0019�\u0016�U�\u001a(�\u0011�o�M<�\u0018\u001d",
      "�\u0019ߔ�.!�s\f",
      "Tw���&�\\�\u000e����U�\u0010�9�uu��.S'�\u0010Wy�,���$��aQ׳�L�hA]縲�o��kՀ�v��Z���?a\"�zM���/����[�j7�\\�����7�c|�[���N����r>X\u0010�7��C��ꑀIߴ���G�\u0002\u001e",
      "��Z�rs�R0\u001f,���R��^��ʢ⪓��\u001e",
      "�1��x��._%�\u001c",
      "�.*�<�1�#\u0001Թo\n",
      ":�*^)�ܵ2�\u0012�\u001e",
      "$��膝x\u0001�_�e��~�\u0018g����򬿮�\f",
      "Z��/\u0007�\u001b�\u0018�=?�]W�e�u�%������2T�Sѹje�B%�<Iey���X�\u0001ʽ��|����\u0019��w�V�s�Ρ?R�?C1�F1���U���\\�OԻ\u000f��t\u0010\u0004}���e�5.�n�|;v����h$�\u001e",
      "�|�-��u\u000b",
      "vk�۵�o�k@T���\n",
      "�s2zDc&��o�!o�Z5���\n",
      "C�\u0007W^���2}�\u0005w���ɾ�M�V\u0015\u001d",
      "{?\u000b",
      "����\u0015�{�+&�\t6�X\u000b",
      "Gio��߭s�\u0012*��ߝ���n�-\u001d",
      "��\u0016�~���H�ޓ~v7�庨\u000e���^��#�\u000fs~-d99�\u0018\u0004��K���|�!�oŬ�'=�#\u0001��x��._%�\u001c",
      "�.*�<�1�#\u001c",
      "l���R��^��ʢ⪓��\u001e",
      "�0\u001d",
      "K���K�o���\u0014\u000eܷ��_�}�^\u0018�$H� $H� +֙������\u0003(_\u0011ݳ)��6�;L��M���O\u0001�/��ٔ��@^�]N�SMb�\u0007*��)���C䷋��Ji�V\u0000�^�E>z�Th\f",
      "�k;ԫy�ι�gP��v\u001f���#\u0018���*�v�x��'�]��f\u0002>���ɲ�\u001a�P�f�\u001d",
      "�_��F�\u0012v�o�M��Ժ��5����7�5�*W[���)ǘ'\u000fvѽ\u000b",
      "$��4j�%����\u0000�q�\t�ݴoB�9��\u001a�\n",
      "C�b��Gu�A4��`w�g~R�����\u0003��g�r�>Ђ��qed�A&׫D��ϐ��\u0000�Gx��|�i����h���Yq�Q�3��U�yV_�^\u0006-q���\n",
      "�����d�B\n",
      "�=ŕ�}\u0004�^�\u0005�����oֹ�\t\u0015{�o���|�U\u0016���\u000b",
      "Q�Z��$U�I�;\u001b���T\u0007zw�/o������\u0016�\u001c",
      "��T�\u0002N����r>X\u0010�7��C��ꑀ�g�LZ�/��׎U\u0017\u0015T�W����6{�ũr�/Mx�QqUI�y�Y\u0018\u000e��xj��7���\u0007n[�U/��/\f",
      "P\u0012$H�\u0012$W�zʜ�dN��\f",
      "գ$��e;�,PQQ\u0000\u0011\u0002\u0010��\u0018}@\u0000\u0002\"#�:�IW����=\\iw�љ$e\u0005���ދ\u0003��w����`��Zf�*nN�x\f",
      "�|Gv̦�\u0000D�\u001c",
      "�3w\u00157'w�<\u0006P�#�fS�m\u0001{��u:�M5��\u001c",
      "��h��[ʍ\u000eV�^���Tete\u0002겴\u0005��+��rV�n�\u000e&(,��)?1��\u0018�\u0018�w���gS�Rgn�����Q\u0016��'r���J�\n",
      "�\u0003\f",
      "�k\u0013\u0002�ތ\n",
      "�&0�\u0000��\u0006ê�Ի\u000f��t\u0011ٵ9M�5�74�/bHW���\u0017�\u0004�\\\u001b$�\u00147{���\u0011\u0002����\u0006\u001b{��hE��*�jmZ�(��͗�j�e��$̜,U�#s�S8�T�\u0001�.�ن��DJl\u00039��o�M��Ժ��5����7�5�ƻ�+=�&\u0005�U�̶f�BW\u000eq\u0001\"E\u0013\u001b\f",
      "q\n",
      "�j��Zn�n�UA�?�/�0�\u001c",
      "����駀w\n",
      " ����\u0011)�(�\u001f��\u001c",
      "6��N<�8{���Y'?q�V<Z��+f6���\u000b",
      "-Z{WTM]�t��@\"�!�1�、�8�\u0000�ǧMUS�Ҷ�%R���J\f",
      "TU�I���2m\u0014�F\f",
      "p(㉃��\u0000��]��bۛ��i{����[�\u0006�;�L�]${R�3�\u001c",
      "%�vf)\u000e�\u001411�slM0�\u0000�@}B8`\u001fY�I(cU��oZY\u0019�\u0017H(��\\�1#֦T\u0000�S��x\u0001O��8\u000e?ݷ\u00011@B�R�OF婗���%��D4��J�k)���\u0014]��TU\u001b�b\u001f�i:hr�\u000e��!�Rc��~Q�K\u0015����{SҒڮ�*&�כ&2�:\\���~QP�(b=�#�\u0000�\u0018\n",
      "� \u0002\u001e",
      "}��V�\u0017%T���ʦ��)S&�I�t��\"$H1\u001c",
      "\u0000�\";}��\n",
      "�����D}�\u001e",
      "M��1j\\�K�^9T\\URy^c�F)�\u0000��2�g��\u0015�L�\u0019t���;��2I�\u000b",
      "�\u0004Et�\u0000)��a�v�\u0000a�\u0006�=P�ޒ�U3\u0014�5+01LQ�\u0004\u0005d0\u0010\u001f�\u0003�r�\u001a����xb�ۖ��K�o���izj��H�\t��י\u0014���F�\u001f\u001c",
      "=\u001f�\u0010�`��A6#��\f",
      "B�\u0012$H\u0003;l��&}M�ji�7/}8k'_�;T�*'�L�&\u0003��DD#�X���H\u0018}b�N��s�TUqg�\u001bt\u0012:�+)tD�B��c2ƞєd�K,d�ߦ��@�5��\u0019\u0000\u0010\u000f~8`8�\u0001\u0010U��\u000b",
      "?�N��-A\"��0��$�<p\"\u0002�S8��\u0003�\u0006�c�\u0018\f",
      "��[�j7�\\�����7�c|�[���O���-\"kD>��#\u001am�\u001c",
      "�2\u0017\u001e",
      "�\u0013,��NB\u0001C\u0001�\u0000�&�\u000e�C\n",
      "G\u0000\u0000\u0000�\"#��>�X\u0015(�d��'h�9UA�FMB\u000f�8�%0\u0000���\u0010\u0017\u001a훩�\u0011=��G�:u-p�\t����3\u0001K��\u0000b\"\u001bD@ ���*�3�\u0010p�T$J��ݲ���\t\u000f�V;THR�6'��0bN�l۲\u001c",
      "\"@Q�OR\u0014\u001d",
      "KU�D�i�%gen3\u0017Oܐ���@& \u001d",
      "�\u0010�0�q\u0010\f",
      " �V�͵[�)Z�r�hQTy\\���H�\u001f�K*^�u\u0012\u0018\u0000�@\u0012�h��\u000e\u0003��\u0000�-\u0016vI����Z\u001d",
      "�W�E/\"1\u001bS��l��:�\u001f�8X�\u0012�A\u0013l/�\u0000��\u001b\u0003\u0015�\u001a�XO�\u0006\u0014�k2�y1\u0017\u001fDG3\t\u0011[�@\u0000�!�0(=���6{� -\u000e)�u\"򩭩�y�ҡ�\u0011\u0013�@��;�\"Q*d �=��(��\u0000\u001d",
      "���b����w�a0���h���R�\u0012\t;���{��\n",
      "��p\u0000!�\t�����8\u000e%6>���Ge֯S�^7���t�D���M���L6\u001b� p�1\u001c",
      "\u0000=x\u0014\u0007h\u000e�17�m�ި��EO����\u001e",
      "W+�6�53o�*�J\u0000�%6�\u0000\t\u000b",
      "��\u0013���\u0005��&.�\n",
      "�\u000b",
      "\u001c",
      "��(�\u0002�G\u0015��M��hm�fQ\u000fR�� ?�1\u001c",
      "\f",
      "\u0002 \u001e",
      "E��g,���˥�j͡$��E\"wH�ej`)@=�\u0000\u0000\u0011g�X5\u000f3��s㸨�<��\u0017\u000e�\u0000\u00058]\u0002\u001c",
      "���@ ��,��;�W*�N�m-������U낕�>���\u000e�\u0005)�\u0001���C\u0010��{����T����-;/\\��ė#1���\u0018\"c8\u0015T6\u0004\u0001:�\u0010�\u0017\u0002�\u0000��G�LZmM�L����$�\u0005g�����5\u0014\u0016��P\f",
      "R9U��8�\u0007{fӐ;�\u0002&\u000e�[h�]�ړ�U�Y�ʂ~�f��el\u0005s1T���n\u0000��\u0001\u001c",
      "D\u0007\u000fWw\u0000\u001f�ݭ>�<��c�\u001d",
      "H�3v4�$��'3I�#�\u0007n0\u0001I4\n",
      "p\u00010\u0001�\u0018�\u0000\u0002lp�����u\u0015K�\u0000̊��/ o;��IZ˥fx��ыaM%�Ya\u000f̀\u001d",
      "R�\u0000�����1�hF�����K���E�+�2r%�Oe$:�6u�@\u0013�|NC�D��\u0001.�.\u0000 \u0006\u0012��Q�ٍ�\u001d",
      "Z��\t�◨e���)-n+.�tĠUL�m\u0014���\u0004Cg��\u0005\u0003��\u0019���i4CzbK8B��f��L'/�\u001d",
      "�\u0015U,\u0005$\u0011\u0003�\t�G\u00106̀8����~�\u0016.\u001f<T��n��YC�\u0005!\n",
      "�W�<��'��\u0000��K�vʆ�r�\u001b�*\u0001GԢ�\u0001\u0011\u001f^\u0001�\u000ft�G~�*�JX��\u001d",
      "-/|�g=r��\u0001�\u0006TSH��C\u001f�\u0003� ��A0�\u000e�%��Vt�3,�K��g.h�TK�\u0000a\n",
      "�P�U�L)�^rޠ|�Qr���FH��\f",
      "eU8\u0006\u0004�{��\u000e�2�\u0011��j�O-����\u0010\u0013��\u001d",
      "̕!��\\&܊\u0010�\u001f�\u0014��\u0007݌y���Ql��Y���\u000f�Hf\u000f�qR�M(;\u0016ȶH��H\u0004�(�c\u0018\u000b",
      "�`>��\u0011-��4��9�\u0017i\u0014��Y��9��^\\ܸ�ᒥ\u0002�T�\u001bD�\u0005\u0000\u0000\u000fq�p\u001c",
      "0\u0010����P\u0011*Bd�\u0001�\u0018q���C��)�n��X)�Z�\u001bM����y\"�\u001bL�\"b�4\u0017\t�\u0013T�\u0018�w\u001fX��\u0000\f",
      "D�\u0001��]�6��\u0019k4��z���g\u000b",
      "�U�9�*ݬ���E\f",
      "u�p\f",
      "?�\n",
      "^���5jK�ĐIz��\\�\u000f�\u0000��\u0018��dҚ��)��t�\u0019�w��n� �;�*\n",
      "}f�h:Zd�N'�p\u0013\u0013 �T*� �`\u0006O\u0013����}}�\u0004D!�:u���G��D��eL8fW�rC\u0014EC\"dp\u000e�x�$ �x\u0003\u000f�(V�lR���&�E\u000fJU\u0013��v��A�ҥ\u0010#?H\u0018\u0018�(p\u0002#�\"\u0018ሀb`m�Y\u0002���S����ҩcvj,_�PɦR�C\u001d",
      "�b\u0003��\u0005V�\u0014�����\u00059R�\u0016\u0013V�t+�\u0015H�s��e\u000b",
      "��\"Qħ(�\u0011���}��%s�R�Խ�Ń��Vn� Q3��Q���\u001d",
      "إZ\u001c",
      "�A�I\u001d",
      "\u000fK\"�Ӥ��M�+�l\u0018��)DUT�\u0003\u0002\u0014\u0000?0\u000f{`�\u0014�@\u0003\u001d",
      "���8\u0014�\u001b����R�(�s��\u0000��R���$�2�\u0000�_7O�D�\"�\u0010>��0\u000f�<�[��\u0002R:b��NT�0�4����\u001d",
      "�U�\u001c",
      "��1�F;���T\u0015\u0004���V���\u0003S��2s!U\u001e",
      "�A`H�\u0001Ko���`\u001d",
      "��@�\u0011ۄ\u0005\u0016��{I���\t\n",
      "�_6��\n",
      "�\u0005'S4Z�l\u001f����\u0018\n",
      "@\u0000؛\u0017&��0�p\u0004�\u0007(�8a\t\u0014mn�IL1�\u0016����>�\u0000ឰ2k'�Ch~Æ >�\u0010\u001f|x�m�K�NҪ����Ϋ'�Nc1(\u0002M\u0007f ո~D\u000b",
      "�q�\u0002lq�Ì#@H�\"@H�\"@H�\"@H�\"@H�\"@H�\"@H�\"@H�\"@H�\"@H�\"@H�\"@H�\"@H�\"@H�\"@H�\"@H�\"@H�\"@��\n"
     ]
    }
   ],
   "source": [
    "urls = [\n",
    "    \"https://2.downloader.disk.yandex.ru/preview/4d586b37bdaa2c56feac0df50988ace5692b7d8171de02ef11746e7c7027eb61/inf/HXXK3JGF4-pHH7QlKGowRbiNAs53ek8hEPIjru4DeDDzU30X0XYLZQ6HrBCzGau1BtHXYs1LiBsYy3pBf0vuaQ%3D%3D?uid=135551846&filename=barcode_03.png&disposition=inline&hash=&limit=0&content_type=image%2Fpng&owner_uid=135551846&tknv=v2&size=2066x1368\",\n",
    "    \"https://2.downloader.disk.yandex.ru/preview/16ef8969eeb9d96fb2260a58736a7e03bd1f5e4ff663c3a40ed3e3c16dc943c9/inf/RU0Sq2RN6Cb5MUd01dMhZLiNAs53ek8hEPIjru4DeDAzNByppXSizKVS6H2CCfRSyJeW_0q9BaI4bD6PVOd88g%3D%3D?uid=135551846&filename=barcode_04.png&disposition=inline&hash=&limit=0&content_type=image%2Fpng&owner_uid=135551846&tknv=v2&size=2066x1368\"\n",
    "]\n",
    "\n",
    "if USE_KIT_FOR_TASKS:\n",
    "    tasks = [\n",
    "        toloka.Task(\n",
    "            input_values={\n",
    "                \"image\": url\n",
    "            }, \n",
    "            pool_id=new_pool.id\n",
    "        ) for url in urls\n",
    "    ]\n",
    "    toloka_client.create_tasks(tasks, allow_defaults=True)\n",
    "    print(f'Populated pool with {len(tasks)} tasks')\n",
    "    print(f'To view this pool, go to https://sandbox.toloka.yandex.com/requester/project/{new_project.id}/pool/{new_pool.id}')\n",
    "else:\n",
    "    if ENVIRONMENT == \"PRODUCTION\":\n",
    "        url = \"https://toloka.dev/api/v1/tasks\"\n",
    "    else:\n",
    "        url = \"https://sandbox.toloka.dev/api/v1/tasks\"\n",
    "    headers = {\n",
    "      'Authorization': f\"OAuth {PASSWORD}\",\n",
    "      'Content-Type': 'application/json'\n",
    "    }\n",
    "    for url in urls:\n",
    "        payload = {\n",
    "          \"input_values\": {\n",
    "            \"image\": url\n",
    "          },\n",
    "          \"pool_id\": f\"{new_pool.id}\"\n",
    "        }\n",
    "        response = requests.post(url, headers=headers, json=payload)\n",
    "        print(response.text)"
   ]
  },
  {
   "cell_type": "code",
   "execution_count": null,
   "id": "8c3fe2fe-224c-4c9c-b2db-3b206f8bcc8c",
   "metadata": {},
   "outputs": [],
   "source": []
  }
 ],
 "metadata": {
  "kernelspec": {
   "display_name": "Python 3 (ipykernel)",
   "language": "python",
   "name": "python3"
  },
  "language_info": {
   "codemirror_mode": {
    "name": "ipython",
    "version": 3
   },
   "file_extension": ".py",
   "mimetype": "text/x-python",
   "name": "python",
   "nbconvert_exporter": "python",
   "pygments_lexer": "ipython3",
   "version": "3.10.6"
  }
 },
 "nbformat": 4,
 "nbformat_minor": 5
}
